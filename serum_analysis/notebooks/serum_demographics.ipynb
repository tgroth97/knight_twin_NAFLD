{
 "cells": [
  {
   "cell_type": "markdown",
   "metadata": {},
   "source": [
    "# Nobel Twin Familial Cirrhosis Demograhic Table Values\n",
    "This is the workflow to generate the counts for the demographic table. The categories we will be looking at are Group counts (G1P, G1R,... etc), Sex, BMI and Age. Sex will be male or female BMI will be split into underweight, normal, overweight, obese and not provided. Age will be split into 18-29, 30s, 40s, 50s and 60s.\n",
    "\n",
    "**Author: Tobin Groth (tgroth@ucsd.edu)** "
   ]
  },
  {
   "cell_type": "code",
   "execution_count": 5,
   "metadata": {},
   "outputs": [],
   "source": [
    "%matplotlib inline\n",
    "import pandas as pd\n",
    "import numpy as np\n",
    "import qiime2\n",
    "import os\n",
    "os.chdir('/Users/tgroth/Google Drive/knight_twin_NAFLD/serum_analysis')"
   ]
  },
  {
   "cell_type": "code",
   "execution_count": 17,
   "metadata": {},
   "outputs": [],
   "source": [
    "meta = pd.read_csv('../metadata-matched.tsv', sep='\\t')"
   ]
  },
  {
   "cell_type": "code",
   "execution_count": 18,
   "metadata": {},
   "outputs": [
    {
     "data": {
      "text/plain": [
       "G1P    48\n",
       "G1R    37\n",
       "G3R    31\n",
       "G3P    22\n",
       "G2P    16\n",
       "G2R    14\n",
       "Name: ATTRIBUTE_groups, dtype: int64"
      ]
     },
     "execution_count": 18,
     "metadata": {},
     "output_type": "execute_result"
    }
   ],
   "source": [
    "#group counts\n",
    "meta.ATTRIBUTE_groups.value_counts()"
   ]
  },
  {
   "cell_type": "markdown",
   "metadata": {},
   "source": [
    "### Non-NAFLD counts"
   ]
  },
  {
   "cell_type": "code",
   "execution_count": 9,
   "metadata": {},
   "outputs": [
    {
     "name": "stdout",
     "output_type": "stream",
     "text": [
      "female    33\n",
      "male      15\n",
      "Name: ATTRIBUTE_BiologicalSex, dtype: int64\n",
      "female    26\n",
      "male      11\n",
      "Name: ATTRIBUTE_BiologicalSex, dtype: int64\n"
     ]
    }
   ],
   "source": [
    "#non-NAFLD sex counts\n",
    "print(meta[meta.ATTRIBUTE_groups=='G1P'].ATTRIBUTE_BiologicalSex.value_counts())\n",
    "print(meta[meta.ATTRIBUTE_groups=='G1R'].ATTRIBUTE_BiologicalSex.value_counts())"
   ]
  },
  {
   "cell_type": "code",
   "execution_count": 10,
   "metadata": {},
   "outputs": [
    {
     "name": "stdout",
     "output_type": "stream",
     "text": [
      "85\n"
     ]
    },
    {
     "data": {
      "text/plain": [
       "[2, 45, 24, 14, 0]"
      ]
     },
     "execution_count": 10,
     "metadata": {},
     "output_type": "execute_result"
    }
   ],
   "source": [
    "#non-NAFLD BMI counts\n",
    "g1_bmi = list(meta[meta.ATTRIBUTE_groups=='G1P'].ATTRIBUTE_bmi)\n",
    "g1_bmi = g1_bmi+list(meta[meta.ATTRIBUTE_groups=='G1R'].ATTRIBUTE_bmi)\n",
    "#[underweight,normal,over,obese,NA]\n",
    "bmi_counts = [0,0,0,0,0]\n",
    "for i in g1_bmi:\n",
    "    if 'Missing' in i:\n",
    "        bmi_counts[4] = bmi_counts[4]+1\n",
    "    i = float(i)\n",
    "    if i < 18.5:\n",
    "        bmi_counts[0] = bmi_counts[0]+1\n",
    "    elif i<25:\n",
    "        bmi_counts[1] = bmi_counts[1]+1\n",
    "    elif i<30:\n",
    "        bmi_counts[2] = bmi_counts[2]+1\n",
    "    elif i>=30:\n",
    "        bmi_counts[3] = bmi_counts[3]+1\n",
    "print(sum(bmi_counts))\n",
    "bmi_counts"
   ]
  },
  {
   "cell_type": "code",
   "execution_count": 11,
   "metadata": {},
   "outputs": [
    {
     "name": "stdout",
     "output_type": "stream",
     "text": [
      "85\n"
     ]
    },
    {
     "data": {
      "text/plain": [
       "[34, 4, 1, 16, 30]"
      ]
     },
     "execution_count": 11,
     "metadata": {},
     "output_type": "execute_result"
    }
   ],
   "source": [
    "#non-NAFLD age counts\n",
    "g1_age = list(meta[meta.ATTRIBUTE_groups=='G1P'].ATTRIBUTE_age)\n",
    "g1_age = g1_age+list(meta[meta.ATTRIBUTE_groups=='G1R'].ATTRIBUTE_age)\n",
    "#[18-29,30s,40s,50s,>60s]\n",
    "age_counts = [0,0,0,0,0]\n",
    "for i in g1_age:\n",
    "    i = float(i)\n",
    "    if i < 29:\n",
    "        age_counts[0] = age_counts[0]+1\n",
    "    elif i<40:\n",
    "        age_counts[1] = age_counts[1]+1\n",
    "    elif i<50:\n",
    "        age_counts[2] = age_counts[2]+1\n",
    "    elif i<60:\n",
    "        age_counts[3] = age_counts[3]+1\n",
    "    elif i>=60:\n",
    "        age_counts[4] = age_counts[4]+1\n",
    "print(sum(age_counts))\n",
    "age_counts"
   ]
  },
  {
   "cell_type": "markdown",
   "metadata": {},
   "source": [
    "### NAFLD w/o AF Counts"
   ]
  },
  {
   "cell_type": "code",
   "execution_count": 12,
   "metadata": {},
   "outputs": [
    {
     "name": "stdout",
     "output_type": "stream",
     "text": [
      "female    11\n",
      "male       5\n",
      "Name: ATTRIBUTE_BiologicalSex, dtype: int64\n",
      "female    8\n",
      "male      6\n",
      "Name: ATTRIBUTE_BiologicalSex, dtype: int64\n"
     ]
    }
   ],
   "source": [
    "#NAFLD without AF sex counts\n",
    "print(meta[meta.ATTRIBUTE_groups=='G2P'].ATTRIBUTE_BiologicalSex.value_counts())\n",
    "print(meta[meta.ATTRIBUTE_groups=='G2R'].ATTRIBUTE_BiologicalSex.value_counts())"
   ]
  },
  {
   "cell_type": "code",
   "execution_count": 13,
   "metadata": {},
   "outputs": [
    {
     "name": "stdout",
     "output_type": "stream",
     "text": [
      "30\n"
     ]
    },
    {
     "data": {
      "text/plain": [
       "[0, 7, 8, 15, 0]"
      ]
     },
     "execution_count": 13,
     "metadata": {},
     "output_type": "execute_result"
    }
   ],
   "source": [
    "#NAFLD w/o AF BMI counts\n",
    "g2_bmi = list(meta[meta.ATTRIBUTE_groups=='G2P'].ATTRIBUTE_bmi)\n",
    "g2_bmi = g2_bmi+list(meta[meta.ATTRIBUTE_groups=='G2R'].ATTRIBUTE_bmi)\n",
    "#[underweight,normal,over,obese,NA]\n",
    "bmi_counts = [0,0,0,0,0]\n",
    "for i in g2_bmi:\n",
    "    if 'Missing' in i:\n",
    "        bmi_counts[4] = bmi_counts[4]+1\n",
    "    i = float(i)\n",
    "    if i < 18.5:\n",
    "        bmi_counts[0] = bmi_counts[0]+1\n",
    "    elif i<25:\n",
    "        bmi_counts[1] = bmi_counts[1]+1\n",
    "    elif i<30:\n",
    "        bmi_counts[2] = bmi_counts[2]+1\n",
    "    elif i>=30:\n",
    "        bmi_counts[3] = bmi_counts[3]+1\n",
    "print(sum(bmi_counts))\n",
    "bmi_counts"
   ]
  },
  {
   "cell_type": "code",
   "execution_count": 14,
   "metadata": {},
   "outputs": [
    {
     "name": "stdout",
     "output_type": "stream",
     "text": [
      "30\n"
     ]
    },
    {
     "data": {
      "text/plain": [
       "[1, 3, 9, 7, 10]"
      ]
     },
     "execution_count": 14,
     "metadata": {},
     "output_type": "execute_result"
    }
   ],
   "source": [
    "#NAFLD w/o AF age counts\n",
    "g2_age = list(meta[meta.ATTRIBUTE_groups=='G2P'].ATTRIBUTE_age)\n",
    "g2_age = g2_age+list(meta[meta.ATTRIBUTE_groups=='G2R'].ATTRIBUTE_age)\n",
    "#[18-29,30s,40s,50s,>60s]\n",
    "age_counts = [0,0,0,0,0]\n",
    "for i in g2_age:\n",
    "    i = float(i)\n",
    "    if i < 29:\n",
    "        age_counts[0] = age_counts[0]+1\n",
    "    elif i<40:\n",
    "        age_counts[1] = age_counts[1]+1\n",
    "    elif i<50:\n",
    "        age_counts[2] = age_counts[2]+1\n",
    "    elif i<60:\n",
    "        age_counts[3] = age_counts[3]+1\n",
    "    elif i>=60:\n",
    "        age_counts[4] = age_counts[4]+1\n",
    "print(sum(age_counts))\n",
    "age_counts"
   ]
  },
  {
   "cell_type": "markdown",
   "metadata": {},
   "source": [
    "### NAFLD-cirrhosis counts"
   ]
  },
  {
   "cell_type": "code",
   "execution_count": 19,
   "metadata": {},
   "outputs": [
    {
     "name": "stdout",
     "output_type": "stream",
     "text": [
      "female    18\n",
      "male       4\n",
      "Name: ATTRIBUTE_BiologicalSex, dtype: int64\n",
      "female    24\n",
      "male       7\n",
      "Name: ATTRIBUTE_BiologicalSex, dtype: int64\n"
     ]
    }
   ],
   "source": [
    "#NAFLD-cirhossis sex counts\n",
    "print(meta[meta.ATTRIBUTE_groups=='G3P'].ATTRIBUTE_BiologicalSex.value_counts())\n",
    "print(meta[meta.ATTRIBUTE_groups=='G3R'].ATTRIBUTE_BiologicalSex.value_counts())"
   ]
  },
  {
   "cell_type": "code",
   "execution_count": 21,
   "metadata": {},
   "outputs": [
    {
     "name": "stdout",
     "output_type": "stream",
     "text": [
      "53\n"
     ]
    },
    {
     "data": {
      "text/plain": [
       "[0, 5, 14, 34, 0]"
      ]
     },
     "execution_count": 21,
     "metadata": {},
     "output_type": "execute_result"
    }
   ],
   "source": [
    "#NAFLD-cirrhosis BMI counts\n",
    "g3_bmi = list(meta[meta.ATTRIBUTE_groups=='G3P'].ATTRIBUTE_bmi)\n",
    "g3_bmi = g3_bmi+list(meta[meta.ATTRIBUTE_groups=='G3R'].ATTRIBUTE_bmi)\n",
    "#[underweight,normal,over,obese,NA]\n",
    "bmi_counts = [0,0,0,0,0]\n",
    "for i in g3_bmi:\n",
    "    i = float(i)\n",
    "    if i < 18.5:\n",
    "        bmi_counts[0] = bmi_counts[0]+1\n",
    "    elif i<25:\n",
    "        bmi_counts[1] = bmi_counts[1]+1\n",
    "    elif i<30:\n",
    "        bmi_counts[2] = bmi_counts[2]+1\n",
    "    elif i>=30:\n",
    "        bmi_counts[3] = bmi_counts[3]+1\n",
    "print(sum(bmi_counts))\n",
    "bmi_counts"
   ]
  },
  {
   "cell_type": "code",
   "execution_count": 22,
   "metadata": {},
   "outputs": [
    {
     "name": "stdout",
     "output_type": "stream",
     "text": [
      "53\n"
     ]
    },
    {
     "data": {
      "text/plain": [
       "[3, 7, 10, 7, 26]"
      ]
     },
     "execution_count": 22,
     "metadata": {},
     "output_type": "execute_result"
    }
   ],
   "source": [
    "#NAFLD-cirrhosis age counts\n",
    "g3_age = list(meta[meta.ATTRIBUTE_groups=='G3P'].ATTRIBUTE_age)\n",
    "g3_age = g3_age+list(meta[meta.ATTRIBUTE_groups=='G3R'].ATTRIBUTE_age)\n",
    "#[18-29,30s,40s,50s,>60s]\n",
    "age_counts = [0,0,0,0,0]\n",
    "for i in g3_age:\n",
    "    i = float(i)\n",
    "    if i < 29:\n",
    "        age_counts[0] = age_counts[0]+1\n",
    "    elif i<40:\n",
    "        age_counts[1] = age_counts[1]+1\n",
    "    elif i<50:\n",
    "        age_counts[2] = age_counts[2]+1\n",
    "    elif i<60:\n",
    "        age_counts[3] = age_counts[3]+1\n",
    "    elif i>=60:\n",
    "        age_counts[4] = age_counts[4]+1\n",
    "print(sum(age_counts))\n",
    "age_counts"
   ]
  },
  {
   "cell_type": "code",
   "execution_count": null,
   "metadata": {},
   "outputs": [],
   "source": []
  }
 ],
 "metadata": {
  "kernelspec": {
   "display_name": "Python 3",
   "language": "python",
   "name": "python3"
  },
  "language_info": {
   "codemirror_mode": {
    "name": "ipython",
    "version": 3
   },
   "file_extension": ".py",
   "mimetype": "text/x-python",
   "name": "python",
   "nbconvert_exporter": "python",
   "pygments_lexer": "ipython3",
   "version": "3.6.7"
  }
 },
 "nbformat": 4,
 "nbformat_minor": 4
}
