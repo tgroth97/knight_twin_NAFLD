{
 "cells": [
  {
   "cell_type": "markdown",
   "metadata": {},
   "source": [
    "## Nobel Twin Study Serum Metabolomic Diversity Analysis"
   ]
  },
  {
   "cell_type": "markdown",
   "metadata": {},
   "source": [
    "**Authors: Stephanie Flores-Ramos and Tobin Groth (tgroth@ucsd.edu)**"
   ]
  },
  {
   "cell_type": "markdown",
   "metadata": {},
   "source": [
    "This is the workflow I used to analyze the alpha and beta diversity between the metabolites of non-NAFLD controls, NAFLD no advanced fribrosis, and NAFLD-cirrhosis probands. Based on the microbiome notebook with the same name written by Anupriya Tripathi for microbiome analysis (a3tripat@ucsd.edu)."
   ]
  },
  {
   "cell_type": "code",
   "execution_count": 2,
   "metadata": {},
   "outputs": [],
   "source": [
    "#import plugins \n",
    "\n",
    "import qiime2\n",
    "import pandas as pd\n",
    "import biom\n",
    "import itertools\n",
    "import seaborn as sns\n",
    "import skbio.stats.distance as ssd\n",
    "from scipy.stats import kruskal\n",
    "import matplotlib.pyplot as plt\n",
    "import os\n",
    "import statistics\n",
    "\n",
    "%matplotlib inline\n",
    "\n",
    "os.chdir('/Users/tgroth/Google Drive/knight_twin_nafld/serum_analysis/')"
   ]
  },
  {
   "cell_type": "markdown",
   "metadata": {},
   "source": [
    "**we are using QIIME2 Jupyter API to load the alpha and beta-diversity tables**"
   ]
  },
  {
   "cell_type": "code",
   "execution_count": 4,
   "metadata": {},
   "outputs": [
    {
     "name": "stdout",
     "output_type": "stream",
     "text": [
      "(167, 1607)\n"
     ]
    },
    {
     "data": {
      "text/html": [
       "<div>\n",
       "<style scoped>\n",
       "    .dataframe tbody tr th:only-of-type {\n",
       "        vertical-align: middle;\n",
       "    }\n",
       "\n",
       "    .dataframe tbody tr th {\n",
       "        vertical-align: top;\n",
       "    }\n",
       "\n",
       "    .dataframe thead th {\n",
       "        text-align: right;\n",
       "    }\n",
       "</style>\n",
       "<table border=\"1\" class=\"dataframe\">\n",
       "  <thead>\n",
       "    <tr style=\"text-align: right;\">\n",
       "      <th></th>\n",
       "      <th>004669f18768de8777ab02b5eed2165b</th>\n",
       "      <th>0063a016480cb00cc62af310cb1ca746</th>\n",
       "      <th>006bd617624c9f170df9372dd3ff6487</th>\n",
       "      <th>0073e5797097eb7c25e03ad5356a2954</th>\n",
       "      <th>00e4514c7dcfba955015cd25595af942</th>\n",
       "      <th>011e61c96c8d2521dc8b0c54cdab4076</th>\n",
       "      <th>01286b7f01dae6ab0660c79a1998ba23</th>\n",
       "      <th>0143d5c54180a2de7d38e7efa0b756b8</th>\n",
       "      <th>01459d6ea6596b8f9b91fec668d3a00b</th>\n",
       "      <th>01e2b489b271315160c5394854aef1be</th>\n",
       "      <th>...</th>\n",
       "      <th>ff4e3b424a3e71dfc49ac13a310835da</th>\n",
       "      <th>ff701fb5ca565cdb50764430730d0043</th>\n",
       "      <th>ff801064bbbe791c69467e2065cf7782</th>\n",
       "      <th>ff8674831b6662f5f7595ed2f73dfd4b</th>\n",
       "      <th>ff925d1aaea7b3964e8db94bee3e3e23</th>\n",
       "      <th>ffb84b6398f7bbc3d4166c9dcd6c6db7</th>\n",
       "      <th>ffc1f86e5f21b3eae64c287a000305b7</th>\n",
       "      <th>ffc773a4760c2c888b1752ec6cadbdd0</th>\n",
       "      <th>ffc9bea70abf3c54724a2e0dc386ce00</th>\n",
       "      <th>ffccfaf24b05a13ac8cc725a5cb93b3f</th>\n",
       "    </tr>\n",
       "  </thead>\n",
       "  <tbody>\n",
       "    <tr>\n",
       "      <th>TW-CO-002</th>\n",
       "      <td>13482.9175</td>\n",
       "      <td>1728.547</td>\n",
       "      <td>39264.7140</td>\n",
       "      <td>198.1070</td>\n",
       "      <td>152.320</td>\n",
       "      <td>703.892</td>\n",
       "      <td>8193.6790</td>\n",
       "      <td>1358.4665</td>\n",
       "      <td>2225.7430</td>\n",
       "      <td>29210.1555</td>\n",
       "      <td>...</td>\n",
       "      <td>26854.6490</td>\n",
       "      <td>25479.218</td>\n",
       "      <td>107.1630</td>\n",
       "      <td>42909.3740</td>\n",
       "      <td>19609.6605</td>\n",
       "      <td>4563.5160</td>\n",
       "      <td>2375.8580</td>\n",
       "      <td>83236.0950</td>\n",
       "      <td>391.1880</td>\n",
       "      <td>3154.1725</td>\n",
       "    </tr>\n",
       "    <tr>\n",
       "      <th>TW-BT-001</th>\n",
       "      <td>18231.1270</td>\n",
       "      <td>238.272</td>\n",
       "      <td>65264.7285</td>\n",
       "      <td>440.0080</td>\n",
       "      <td>155.797</td>\n",
       "      <td>0.000</td>\n",
       "      <td>74410.0835</td>\n",
       "      <td>1227.2790</td>\n",
       "      <td>1206.9795</td>\n",
       "      <td>51765.6815</td>\n",
       "      <td>...</td>\n",
       "      <td>25581.0385</td>\n",
       "      <td>33933.565</td>\n",
       "      <td>14877.4745</td>\n",
       "      <td>40394.0590</td>\n",
       "      <td>39989.3425</td>\n",
       "      <td>12248.6935</td>\n",
       "      <td>6332.2265</td>\n",
       "      <td>578582.0940</td>\n",
       "      <td>3390.1785</td>\n",
       "      <td>8678.9145</td>\n",
       "    </tr>\n",
       "    <tr>\n",
       "      <th>TW-CA-002</th>\n",
       "      <td>19558.1230</td>\n",
       "      <td>174.423</td>\n",
       "      <td>109720.6100</td>\n",
       "      <td>0.0000</td>\n",
       "      <td>0.000</td>\n",
       "      <td>0.000</td>\n",
       "      <td>128846.6325</td>\n",
       "      <td>2199.1390</td>\n",
       "      <td>6371.2270</td>\n",
       "      <td>61950.6475</td>\n",
       "      <td>...</td>\n",
       "      <td>30272.5130</td>\n",
       "      <td>28787.334</td>\n",
       "      <td>19124.6915</td>\n",
       "      <td>40433.6070</td>\n",
       "      <td>18785.2260</td>\n",
       "      <td>36733.7495</td>\n",
       "      <td>6905.1055</td>\n",
       "      <td>85905.8160</td>\n",
       "      <td>95.7870</td>\n",
       "      <td>46600.2255</td>\n",
       "    </tr>\n",
       "    <tr>\n",
       "      <th>TW-BD-002</th>\n",
       "      <td>20064.1475</td>\n",
       "      <td>178.485</td>\n",
       "      <td>82165.3325</td>\n",
       "      <td>227.0745</td>\n",
       "      <td>229.990</td>\n",
       "      <td>4681.250</td>\n",
       "      <td>20565.8620</td>\n",
       "      <td>487.0680</td>\n",
       "      <td>1697.0570</td>\n",
       "      <td>52093.5975</td>\n",
       "      <td>...</td>\n",
       "      <td>13123.7500</td>\n",
       "      <td>18023.704</td>\n",
       "      <td>15492.9325</td>\n",
       "      <td>41304.3155</td>\n",
       "      <td>9703.7965</td>\n",
       "      <td>8035.3380</td>\n",
       "      <td>5038.4350</td>\n",
       "      <td>32920.7225</td>\n",
       "      <td>186.6600</td>\n",
       "      <td>8771.7540</td>\n",
       "    </tr>\n",
       "    <tr>\n",
       "      <th>TW-AV-001</th>\n",
       "      <td>16663.9950</td>\n",
       "      <td>93.869</td>\n",
       "      <td>157833.9945</td>\n",
       "      <td>266.9745</td>\n",
       "      <td>177.670</td>\n",
       "      <td>0.000</td>\n",
       "      <td>61434.0385</td>\n",
       "      <td>3264.4685</td>\n",
       "      <td>2581.8910</td>\n",
       "      <td>28586.0615</td>\n",
       "      <td>...</td>\n",
       "      <td>9652.3500</td>\n",
       "      <td>12750.268</td>\n",
       "      <td>11701.9760</td>\n",
       "      <td>43865.4150</td>\n",
       "      <td>28067.2155</td>\n",
       "      <td>6434.9640</td>\n",
       "      <td>7262.8030</td>\n",
       "      <td>99372.8260</td>\n",
       "      <td>106.3120</td>\n",
       "      <td>2719.0910</td>\n",
       "    </tr>\n",
       "  </tbody>\n",
       "</table>\n",
       "<p>5 rows × 1607 columns</p>\n",
       "</div>"
      ],
      "text/plain": [
       "           004669f18768de8777ab02b5eed2165b  0063a016480cb00cc62af310cb1ca746  \\\n",
       "TW-CO-002                        13482.9175                          1728.547   \n",
       "TW-BT-001                        18231.1270                           238.272   \n",
       "TW-CA-002                        19558.1230                           174.423   \n",
       "TW-BD-002                        20064.1475                           178.485   \n",
       "TW-AV-001                        16663.9950                            93.869   \n",
       "\n",
       "           006bd617624c9f170df9372dd3ff6487  0073e5797097eb7c25e03ad5356a2954  \\\n",
       "TW-CO-002                        39264.7140                          198.1070   \n",
       "TW-BT-001                        65264.7285                          440.0080   \n",
       "TW-CA-002                       109720.6100                            0.0000   \n",
       "TW-BD-002                        82165.3325                          227.0745   \n",
       "TW-AV-001                       157833.9945                          266.9745   \n",
       "\n",
       "           00e4514c7dcfba955015cd25595af942  011e61c96c8d2521dc8b0c54cdab4076  \\\n",
       "TW-CO-002                           152.320                           703.892   \n",
       "TW-BT-001                           155.797                             0.000   \n",
       "TW-CA-002                             0.000                             0.000   \n",
       "TW-BD-002                           229.990                          4681.250   \n",
       "TW-AV-001                           177.670                             0.000   \n",
       "\n",
       "           01286b7f01dae6ab0660c79a1998ba23  0143d5c54180a2de7d38e7efa0b756b8  \\\n",
       "TW-CO-002                         8193.6790                         1358.4665   \n",
       "TW-BT-001                        74410.0835                         1227.2790   \n",
       "TW-CA-002                       128846.6325                         2199.1390   \n",
       "TW-BD-002                        20565.8620                          487.0680   \n",
       "TW-AV-001                        61434.0385                         3264.4685   \n",
       "\n",
       "           01459d6ea6596b8f9b91fec668d3a00b  01e2b489b271315160c5394854aef1be  \\\n",
       "TW-CO-002                         2225.7430                        29210.1555   \n",
       "TW-BT-001                         1206.9795                        51765.6815   \n",
       "TW-CA-002                         6371.2270                        61950.6475   \n",
       "TW-BD-002                         1697.0570                        52093.5975   \n",
       "TW-AV-001                         2581.8910                        28586.0615   \n",
       "\n",
       "           ...  ff4e3b424a3e71dfc49ac13a310835da  \\\n",
       "TW-CO-002  ...                        26854.6490   \n",
       "TW-BT-001  ...                        25581.0385   \n",
       "TW-CA-002  ...                        30272.5130   \n",
       "TW-BD-002  ...                        13123.7500   \n",
       "TW-AV-001  ...                         9652.3500   \n",
       "\n",
       "           ff701fb5ca565cdb50764430730d0043  ff801064bbbe791c69467e2065cf7782  \\\n",
       "TW-CO-002                         25479.218                          107.1630   \n",
       "TW-BT-001                         33933.565                        14877.4745   \n",
       "TW-CA-002                         28787.334                        19124.6915   \n",
       "TW-BD-002                         18023.704                        15492.9325   \n",
       "TW-AV-001                         12750.268                        11701.9760   \n",
       "\n",
       "           ff8674831b6662f5f7595ed2f73dfd4b  ff925d1aaea7b3964e8db94bee3e3e23  \\\n",
       "TW-CO-002                        42909.3740                        19609.6605   \n",
       "TW-BT-001                        40394.0590                        39989.3425   \n",
       "TW-CA-002                        40433.6070                        18785.2260   \n",
       "TW-BD-002                        41304.3155                         9703.7965   \n",
       "TW-AV-001                        43865.4150                        28067.2155   \n",
       "\n",
       "           ffb84b6398f7bbc3d4166c9dcd6c6db7  ffc1f86e5f21b3eae64c287a000305b7  \\\n",
       "TW-CO-002                         4563.5160                         2375.8580   \n",
       "TW-BT-001                        12248.6935                         6332.2265   \n",
       "TW-CA-002                        36733.7495                         6905.1055   \n",
       "TW-BD-002                         8035.3380                         5038.4350   \n",
       "TW-AV-001                         6434.9640                         7262.8030   \n",
       "\n",
       "           ffc773a4760c2c888b1752ec6cadbdd0  ffc9bea70abf3c54724a2e0dc386ce00  \\\n",
       "TW-CO-002                        83236.0950                          391.1880   \n",
       "TW-BT-001                       578582.0940                         3390.1785   \n",
       "TW-CA-002                        85905.8160                           95.7870   \n",
       "TW-BD-002                        32920.7225                          186.6600   \n",
       "TW-AV-001                        99372.8260                          106.3120   \n",
       "\n",
       "           ffccfaf24b05a13ac8cc725a5cb93b3f  \n",
       "TW-CO-002                         3154.1725  \n",
       "TW-BT-001                         8678.9145  \n",
       "TW-CA-002                        46600.2255  \n",
       "TW-BD-002                         8771.7540  \n",
       "TW-AV-001                         2719.0910  \n",
       "\n",
       "[5 rows x 1607 columns]"
      ]
     },
     "execution_count": 4,
     "metadata": {},
     "output_type": "execute_result"
    }
   ],
   "source": [
    "table = qiime2.Artifact.load('./feature_tables/serum-ft-matched.qza')\n",
    "tablepd = table.view(pd.DataFrame)\n",
    "print(tablepd.shape)\n",
    "tablepd.head(5)"
   ]
  },
  {
   "cell_type": "markdown",
   "metadata": {},
   "source": [
    "### Calculating the alpha diversity"
   ]
  },
  {
   "cell_type": "markdown",
   "metadata": {},
   "source": [
    "To do this we used the qiime plugin to calculate shannon diversity, observed OTUs, and Faith's PD. For alpha diversity we will be using the `serum-ft-matched.qza` feature table."
   ]
  },
  {
   "cell_type": "code",
   "execution_count": 41,
   "metadata": {},
   "outputs": [
    {
     "name": "stdout",
     "output_type": "stream",
     "text": [
      "\u001b[32mSaved SampleData[AlphaDiversity] to: ./diversity_analysis/tables/alpha_shannon_serum.qza\u001b[0m\r\n"
     ]
    }
   ],
   "source": [
    "#The alpha diveristy using 'shannon' \n",
    "! qiime diversity alpha \\\n",
    "--i-table ./feature_tables/serum-ft-matched.qza \\\n",
    "--p-metric shannon \\\n",
    "--o-alpha-diversity ./diversity_analysis/tables/alpha_shannon_serum.qza"
   ]
  },
  {
   "cell_type": "code",
   "execution_count": 42,
   "metadata": {},
   "outputs": [
    {
     "name": "stdout",
     "output_type": "stream",
     "text": [
      "\u001b[32mExported ./diversity_analysis/tables/alpha_shannon_serum.qza as AlphaDiversityDirectoryFormat to directory ./diversity_analysis/tables/alpha_shannon_serum\u001b[0m\r\n"
     ]
    }
   ],
   "source": [
    "! qiime tools export \\\n",
    "--input-path ./diversity_analysis/tables/alpha_shannon_serum.qza \\\n",
    "--output-path ./diversity_analysis/tables/alpha_shannon_serum"
   ]
  },
  {
   "cell_type": "code",
   "execution_count": 44,
   "metadata": {},
   "outputs": [
    {
     "name": "stdout",
     "output_type": "stream",
     "text": [
      "\u001b[32mSaved SampleData[AlphaDiversity] to: ./diversity_analysis/tables/alpha_obsotus_serum.qza\u001b[0m\r\n"
     ]
    }
   ],
   "source": [
    "#The alpha diveristy using 'observed_otus'  \n",
    "! qiime diversity alpha \\\n",
    "--i-table ./feature_tables/serum-ft-matched.qza \\\n",
    "--p-metric observed_otus \\\n",
    "--o-alpha-diversity ./diversity_analysis/tables/alpha_obsotus_serum.qza"
   ]
  },
  {
   "cell_type": "code",
   "execution_count": 45,
   "metadata": {},
   "outputs": [
    {
     "name": "stdout",
     "output_type": "stream",
     "text": [
      "\u001b[32mExported ./diversity_analysis/tables/alpha_obsotus_serum.qza as AlphaDiversityDirectoryFormat to directory ./diversity_analysis/tables/alpha_obsotus_serum\u001b[0m\r\n"
     ]
    }
   ],
   "source": [
    "! qiime tools export \\\n",
    "--input-path ./diversity_analysis/tables/alpha_obsotus_serum.qza \\\n",
    "--output-path ./diversity_analysis/tables/alpha_obsotus_serum"
   ]
  },
  {
   "cell_type": "code",
   "execution_count": 46,
   "metadata": {},
   "outputs": [
    {
     "name": "stdout",
     "output_type": "stream",
     "text": [
      "\u001b[32mSaved SampleData[AlphaDiversity] % Properties('phylogenetic') to: ./diversity_analysis/tables/alpha_faithpd_serum.qza\u001b[0m\r\n"
     ]
    }
   ],
   "source": [
    "#The alpha diversity using 'Faith PD'\n",
    "! qiime diversity alpha-phylogenetic \\\n",
    "--i-table ./feature_tables/serum-ft-matched.qza \\\n",
    "--i-phylogeny ./diversity_analysis/qemistree-serum.qza \\\n",
    "--p-metric faith_pd \\\n",
    "--o-alpha-diversity ./diversity_analysis/tables/alpha_faithpd_serum.qza"
   ]
  },
  {
   "cell_type": "code",
   "execution_count": 47,
   "metadata": {},
   "outputs": [
    {
     "name": "stdout",
     "output_type": "stream",
     "text": [
      "\u001b[32mExported ./diversity_analysis/tables/alpha_faithpd_serum.qza as AlphaDiversityDirectoryFormat to directory ./diversity_analysis/tables/alpha_faithpd_serum\u001b[0m\r\n"
     ]
    }
   ],
   "source": [
    "! qiime tools export \\\n",
    "--input-path ./diversity_analysis/tables/alpha_faithpd_serum.qza \\\n",
    "--output-path ./diversity_analysis/tables/alpha_faithpd_serum"
   ]
  },
  {
   "cell_type": "markdown",
   "metadata": {},
   "source": [
    "### 1a. plotting trends in alpha diversity (Shannon's Diversity)"
   ]
  },
  {
   "cell_type": "code",
   "execution_count": 7,
   "metadata": {},
   "outputs": [
    {
     "data": {
      "text/html": [
       "<div>\n",
       "<style scoped>\n",
       "    .dataframe tbody tr th:only-of-type {\n",
       "        vertical-align: middle;\n",
       "    }\n",
       "\n",
       "    .dataframe tbody tr th {\n",
       "        vertical-align: top;\n",
       "    }\n",
       "\n",
       "    .dataframe thead th {\n",
       "        text-align: right;\n",
       "    }\n",
       "</style>\n",
       "<table border=\"1\" class=\"dataframe\">\n",
       "  <thead>\n",
       "    <tr style=\"text-align: right;\">\n",
       "      <th></th>\n",
       "      <th>shannon</th>\n",
       "    </tr>\n",
       "  </thead>\n",
       "  <tbody>\n",
       "    <tr>\n",
       "      <th>TW-CO-002</th>\n",
       "      <td>6.701779</td>\n",
       "    </tr>\n",
       "    <tr>\n",
       "      <th>TW-BT-001</th>\n",
       "      <td>7.259942</td>\n",
       "    </tr>\n",
       "    <tr>\n",
       "      <th>TW-CA-002</th>\n",
       "      <td>7.037805</td>\n",
       "    </tr>\n",
       "    <tr>\n",
       "      <th>TW-BD-002</th>\n",
       "      <td>6.486814</td>\n",
       "    </tr>\n",
       "    <tr>\n",
       "      <th>TW-AV-001</th>\n",
       "      <td>6.693658</td>\n",
       "    </tr>\n",
       "  </tbody>\n",
       "</table>\n",
       "</div>"
      ],
      "text/plain": [
       "            shannon\n",
       "TW-CO-002  6.701779\n",
       "TW-BT-001  7.259942\n",
       "TW-CA-002  7.037805\n",
       "TW-BD-002  6.486814\n",
       "TW-AV-001  6.693658"
      ]
     },
     "execution_count": 7,
     "metadata": {},
     "output_type": "execute_result"
    }
   ],
   "source": [
    "md = pd.read_table('../metadata-matched.tsv', sep='\\t', index_col=0)\n",
    "adiv = pd.read_table('./diversity_analysis/tables/alpha_shannon_serum/alpha-diversity.tsv', index_col=0)\n",
    "adiv.head()"
   ]
  },
  {
   "cell_type": "code",
   "execution_count": 49,
   "metadata": {},
   "outputs": [],
   "source": [
    "# alpha-div\n",
    "adiv['groups'] = [md.loc[idx, 'ATTRIBUTE_groups'] for idx in adiv.index]"
   ]
  },
  {
   "cell_type": "code",
   "execution_count": 50,
   "metadata": {},
   "outputs": [],
   "source": [
    "# save source data\n",
    "adiv.reset_index().rename(columns={'index':'#SampleID'}).to_csv('./diversity_analysis/tables/alpha_shannon_serum/source_data_alpha_diversity_serum_shannon.csv', \n",
    "                                                                sep=',', index=False)"
   ]
  },
  {
   "cell_type": "code",
   "execution_count": 51,
   "metadata": {},
   "outputs": [
    {
     "data": {
      "text/plain": [
       "G1P    48\n",
       "G1R    37\n",
       "G3R    30\n",
       "G3P    22\n",
       "G2P    16\n",
       "G2R    14\n",
       "Name: groups, dtype: int64"
      ]
     },
     "execution_count": 51,
     "metadata": {},
     "output_type": "execute_result"
    }
   ],
   "source": [
    "adiv.groups.value_counts()"
   ]
  },
  {
   "cell_type": "code",
   "execution_count": 52,
   "metadata": {},
   "outputs": [
    {
     "data": {
      "image/png": "[encoded data removed]",
      "text/plain": [
       "<Figure size 432x288 with 1 Axes>"
      ]
     },
     "metadata": {},
     "output_type": "display_data"
    }
   ],
   "source": [
    "sns.set_style(\"ticks\")\n",
    "sns.set_context(\"notebook\", font_scale=1.2, rc={\"lines.linewidth\": 1.2})\n",
    "fig, ax = plt.subplots()\n",
    "fig = sns.boxplot(y='shannon', x='groups', order=['G1P', 'G2P', 'G3P'], data=adiv, \n",
    "           palette={'G1P':'#01AEE8','G2P':'#ffff66','G3P':'#F04D9C'}, ax=ax)\n",
    "ax.set(xlabel='', ylabel=\"Alpha-diversity (Shannon)\")\n",
    "ax.set_xticklabels(['non-NAFLD \\n controls', 'NAFLD \\n without AF', 'NAFLD \\n -cirrhosis'])\n",
    "plt.savefig('./diversity_analysis/figures/adiv_shannon_serum_G1PG2PG3P.pdf', bbox_to_inches='tight')"
   ]
  },
  {
   "cell_type": "code",
   "execution_count": 53,
   "metadata": {},
   "outputs": [],
   "source": [
    "ag1 = [adiv.loc[idx, 'shannon'] for idx in adiv.index if adiv.loc[idx, 'groups'] == 'G1P']\n",
    "ag2 = [adiv.loc[idx, 'shannon'] for idx in adiv.index if adiv.loc[idx, 'groups'] == 'G2P']\n",
    "ag3 = [adiv.loc[idx, 'shannon'] for idx in adiv.index if adiv.loc[idx, 'groups'] == 'G3P']"
   ]
  },
  {
   "cell_type": "code",
   "execution_count": 54,
   "metadata": {},
   "outputs": [
    {
     "name": "stdout",
     "output_type": "stream",
     "text": [
      "6.624979751230033\n",
      "6.51837422212186\n",
      "6.823865373129323\n",
      "KruskalResult(statistic=1.2810096153846473, pvalue=0.2577113987794899)\n",
      "KruskalResult(statistic=8.91695804195804, pvalue=0.0028253472524502423)\n",
      "KruskalResult(statistic=6.99119718309862, pvalue=0.008191154822553974)\n"
     ]
    }
   ],
   "source": [
    "# kruskal-wallis significance testing\n",
    "print(statistics.median(ag1))\n",
    "print(statistics.median(ag2))\n",
    "print(statistics.median(ag3))\n",
    "print(kruskal(ag1, ag2))\n",
    "print(kruskal(ag2, ag3))\n",
    "print(kruskal(ag1, ag3))"
   ]
  },
  {
   "cell_type": "markdown",
   "metadata": {},
   "source": [
    "Here we see the hourglass trend where the NAFLD w/o AF group has the lowest diversity compared to the other disease states. There is a significant difference between NAFLD-cirrhosis samples both non-NAFLS samples (p<0.01) and NAFLD w/o AF samples (p<0.01)"
   ]
  },
  {
   "cell_type": "markdown",
   "metadata": {},
   "source": [
    "### 1b. plotting trends in alpha diversity (Observed OTUS)"
   ]
  },
  {
   "cell_type": "code",
   "execution_count": 55,
   "metadata": {},
   "outputs": [],
   "source": [
    "adiv = pd.read_table('diversity_analysis/tables/alpha_obsotus_serum/alpha-diversity.tsv', index_col=0)"
   ]
  },
  {
   "cell_type": "code",
   "execution_count": 56,
   "metadata": {},
   "outputs": [],
   "source": [
    "# alpha-div\n",
    "adiv['groups'] = [md.loc[idx, 'ATTRIBUTE_groups'] for idx in adiv.index]"
   ]
  },
  {
   "cell_type": "code",
   "execution_count": 57,
   "metadata": {},
   "outputs": [],
   "source": [
    "# save source data\n",
    "adiv.reset_index().rename(columns={'index':'#SampleID'}).to_csv('diversity_analysis/tables/alpha_obsotus_serum/source_data_alpha_diversity_serum_obsotus.csv', \n",
    "                                                                sep=',', index=False)"
   ]
  },
  {
   "cell_type": "code",
   "execution_count": 58,
   "metadata": {},
   "outputs": [
    {
     "data": {
      "image/png": "[encoded data removed]",
      "text/plain": [
       "<Figure size 432x288 with 1 Axes>"
      ]
     },
     "metadata": {},
     "output_type": "display_data"
    }
   ],
   "source": [
    "sns.set_style(\"ticks\")\n",
    "sns.set_context(\"notebook\", font_scale=1.2, rc={\"lines.linewidth\": 1.2})\n",
    "fig, ax = plt.subplots()\n",
    "fig = sns.boxplot(y='observed_otus', x='groups', order=['G1P', 'G2P', 'G3P'], data=adiv, \n",
    "           palette={'G1P':'#01AEE8','G2P':'#ffff66','G3P':'#F04D9C'}, ax=ax)\n",
    "ax.set(xlabel='', ylabel=\"Alpha-diversity (Observed OTUs)\")\n",
    "ax.set_xticklabels(['non-NAFLD \\n controls', 'NAFLD \\n without AF', 'NAFLD \\n -cirrhosis'])\n",
    "plt.savefig('diversity_analysis/figures/adiv_obsotus_serum_G1PG2PG3P.pdf', bbox_to_inches='tight')"
   ]
  },
  {
   "cell_type": "code",
   "execution_count": 59,
   "metadata": {},
   "outputs": [],
   "source": [
    "ag1 = [adiv.loc[idx, 'observed_otus'] for idx in adiv.index if adiv.loc[idx, 'groups'] == 'G1P']\n",
    "ag2 = [adiv.loc[idx, 'observed_otus'] for idx in adiv.index if adiv.loc[idx, 'groups'] == 'G2P']\n",
    "ag3 = [adiv.loc[idx, 'observed_otus'] for idx in adiv.index if adiv.loc[idx, 'groups'] == 'G3P']"
   ]
  },
  {
   "cell_type": "code",
   "execution_count": 60,
   "metadata": {},
   "outputs": [
    {
     "name": "stdout",
     "output_type": "stream",
     "text": [
      "1459.5\n",
      "1471.0\n",
      "1442.0\n",
      "KruskalResult(statistic=6.751400857129787, pvalue=0.009367410904181993)\n",
      "KruskalResult(statistic=19.952776615979044, pvalue=7.9378596326957e-06)\n",
      "KruskalResult(statistic=16.351228123970277, pvalue=5.26220514216727e-05)\n"
     ]
    }
   ],
   "source": [
    "# kruskal-wallis significance testing\n",
    "print(statistics.median(ag1))\n",
    "print(statistics.median(ag2))\n",
    "print(statistics.median(ag3))\n",
    "print(kruskal(ag1, ag2))\n",
    "print(kruskal(ag2, ag3))\n",
    "print(kruskal(ag1, ag3))"
   ]
  },
  {
   "cell_type": "markdown",
   "metadata": {},
   "source": [
    "The NAFLD-cirrhosis proband has a lower alpha diversity than the NAFLD without AF group (_p_=0.03). The plot and this KW significance test shows us that there is no significant difference between the the non-NAFLD controls and NAFLD without AF probands (_p_=0.18), and the non-NAFLD controls vs. NAFLD-cirrhosis probands (_p_=0.40)."
   ]
  },
  {
   "cell_type": "markdown",
   "metadata": {},
   "source": [
    "### 1c. plotting trends in alpha diversity (Faith's PD)"
   ]
  },
  {
   "cell_type": "code",
   "execution_count": 62,
   "metadata": {},
   "outputs": [],
   "source": [
    "adiv = pd.read_table('diversity_analysis/tables/alpha_faithpd_serum/alpha-diversity.tsv', index_col=0)"
   ]
  },
  {
   "cell_type": "code",
   "execution_count": 63,
   "metadata": {},
   "outputs": [],
   "source": [
    "# alpha-div\n",
    "adiv['groups'] = [md.loc[idx, 'ATTRIBUTE_groups'] for idx in adiv.index]"
   ]
  },
  {
   "cell_type": "code",
   "execution_count": 64,
   "metadata": {},
   "outputs": [],
   "source": [
    "# save source data\n",
    "adiv.reset_index().rename(columns={'index':'#SampleID'}).to_csv('diversity_analysis/tables/alpha_faithpd_serum/source_data_alpha_diversity_serum_faithpd.csv', \n",
    "                                                                sep=',', index=False)"
   ]
  },
  {
   "cell_type": "code",
   "execution_count": 66,
   "metadata": {},
   "outputs": [
    {
     "data": {
      "image/png": "[encoded data removed]",
      "text/plain": [
       "<Figure size 432x288 with 1 Axes>"
      ]
     },
     "metadata": {},
     "output_type": "display_data"
    }
   ],
   "source": [
    "sns.set_style(\"ticks\")\n",
    "sns.set_context(\"notebook\", font_scale=1.2, rc={\"lines.linewidth\": 1.2})\n",
    "fig, ax = plt.subplots()\n",
    "sns.set()\n",
    "fig = sns.boxplot(y='faith_pd', x='groups', order=['G1P', 'G2P', 'G3P'], data=adiv, \n",
    "           palette={'G1P':'#01AEE8','G2P':'#ffff66','G3P':'#F04D9C'}, ax=ax)\n",
    "ax.set(xlabel='', ylabel=\"Alpha-diversity (Faith's PD)\")\n",
    "ax.set_xticklabels(['non-NAFLD \\n controls', 'NAFLD \\n without AF', 'NAFLD \\n -cirrhosis'])\n",
    "#ax.set_ylim([123, 175])\n",
    "\n",
    "plt.savefig('diversity_analysis/figures/adiv_faithpd_serum_G1PG2PG3P.pdf', bbox_to_inches='tight')\n",
    "#plt.savefig('figures/Adiv_faithpd_serum_zoom_G1PG2PG3P.pdf', bbox_to_inches='tight')"
   ]
  },
  {
   "cell_type": "code",
   "execution_count": 67,
   "metadata": {},
   "outputs": [],
   "source": [
    "ag1 = [adiv.loc[idx, 'faith_pd'] for idx in adiv.index if adiv.loc[idx, 'groups'] == 'G1P']\n",
    "ag2 = [adiv.loc[idx, 'faith_pd'] for idx in adiv.index if adiv.loc[idx, 'groups'] == 'G2P']\n",
    "ag3 = [adiv.loc[idx, 'faith_pd'] for idx in adiv.index if adiv.loc[idx, 'groups'] == 'G3P']"
   ]
  },
  {
   "cell_type": "code",
   "execution_count": 68,
   "metadata": {},
   "outputs": [
    {
     "name": "stdout",
     "output_type": "stream",
     "text": [
      "160.9636625950583\n",
      "162.1369564722125\n",
      "159.57880395540224\n",
      "KruskalResult(statistic=4.915625000000034, pvalue=0.02661483227149071)\n",
      "KruskalResult(statistic=18.632867132867148, pvalue=1.5846491333413412e-05)\n",
      "KruskalResult(statistic=9.6856594110115, pvalue=0.0018571172748121124)\n"
     ]
    }
   ],
   "source": [
    "# kruskal-wallis significance testing\n",
    "print(statistics.median(ag1))\n",
    "print(statistics.median(ag2))\n",
    "print(statistics.median(ag3))\n",
    "print(kruskal(ag1, ag2))\n",
    "print(kruskal(ag2, ag3))\n",
    "print(kruskal(ag1, ag3))"
   ]
  },
  {
   "cell_type": "markdown",
   "metadata": {},
   "source": [
    "The NAFLD-cirrhosis samples have the lowest diversity score as well as a significant difference between both the non-NAFLD controls (p<0.001) and the NAFLD w/o AF samples (p<0.001). There is also a significant difference between the non-NAFLD and NAFLD w/o AF samples (p<0.05)."
   ]
  },
  {
   "cell_type": "markdown",
   "metadata": {},
   "source": [
    "### Calculating the beta diversity"
   ]
  },
  {
   "cell_type": "markdown",
   "metadata": {},
   "source": [
    "To do this we used the qiime plugin to calculate bray curtis, aitchison, weighted and unweighted unifrac. We will be using the `serum-ft-matched-mnorm.qza` feature table"
   ]
  },
  {
   "cell_type": "code",
   "execution_count": 3,
   "metadata": {},
   "outputs": [
    {
     "name": "stdout",
     "output_type": "stream",
     "text": [
      "\u001b[32mSaved DistanceMatrix to: diversity_analysis/tables/beta_braycurtis_serum.qza\u001b[0m\r\n"
     ]
    }
   ],
   "source": [
    "#The beta diversity using 'bray curtis'  \n",
    "! qiime diversity beta \\\n",
    "--i-table ./feature_tables/serum-ft-matched-mnorm.qza \\\n",
    "--p-metric braycurtis \\\n",
    "--o-distance-matrix diversity_analysis/tables/beta_braycurtis_serum.qza"
   ]
  },
  {
   "cell_type": "code",
   "execution_count": 4,
   "metadata": {},
   "outputs": [
    {
     "name": "stdout",
     "output_type": "stream",
     "text": [
      "\u001b[32mExported ./diversity_analysis/tables/beta_braycurtis_serum.qza as DistanceMatrixDirectoryFormat to directory ./diversity_analysis/tables/beta_braycurtis_serum\u001b[0m\r\n"
     ]
    }
   ],
   "source": [
    "! qiime tools export \\\n",
    "--input-path ./diversity_analysis/tables/beta_braycurtis_serum.qza \\\n",
    "--output-path ./diversity_analysis/tables/beta_braycurtis_serum"
   ]
  },
  {
   "cell_type": "code",
   "execution_count": 5,
   "metadata": {},
   "outputs": [
    {
     "name": "stdout",
     "output_type": "stream",
     "text": [
      "\u001b[32mSaved DistanceMatrix to: diversity_analysis/tables/beta_aitchison_serum.qza\u001b[0m\r\n"
     ]
    }
   ],
   "source": [
    "#The beta diversity using 'aitchison'  \n",
    "! qiime diversity beta \\\n",
    "--i-table ./feature_tables/serum-ft-matched-mnorm.qza \\\n",
    "--p-metric aitchison \\\n",
    "--o-distance-matrix diversity_analysis/tables/beta_aitchison_serum.qza"
   ]
  },
  {
   "cell_type": "code",
   "execution_count": 6,
   "metadata": {},
   "outputs": [
    {
     "name": "stdout",
     "output_type": "stream",
     "text": [
      "\u001b[32mExported diversity_analysis/tables/beta_aitchison_serum.qza as DistanceMatrixDirectoryFormat to directory diversity_analysis/tables/beta_aitchison_serum\u001b[0m\r\n"
     ]
    }
   ],
   "source": [
    "! qiime tools export \\\n",
    "--input-path diversity_analysis/tables/beta_aitchison_serum.qza \\\n",
    "--output-path diversity_analysis/tables/beta_aitchison_serum"
   ]
  },
  {
   "cell_type": "code",
   "execution_count": 7,
   "metadata": {},
   "outputs": [
    {
     "name": "stdout",
     "output_type": "stream",
     "text": [
      "\u001b[32mSaved DistanceMatrix % Properties('phylogenetic') to: diversity_analysis/tables/beta_uwunifrac_serum.qza\u001b[0m\r\n"
     ]
    }
   ],
   "source": [
    "#The beta diversity using unweighted unifrac\n",
    "! qiime diversity beta-phylogenetic \\\n",
    "--i-table feature_tables/serum-ft-matched-mnorm.qza \\\n",
    "--i-phylogeny ./diversity_analysis/qemistree-serum.qza \\\n",
    "--p-metric unweighted_unifrac \\\n",
    "--o-distance-matrix diversity_analysis/tables/beta_uwunifrac_serum.qza"
   ]
  },
  {
   "cell_type": "code",
   "execution_count": 8,
   "metadata": {},
   "outputs": [
    {
     "name": "stdout",
     "output_type": "stream",
     "text": [
      "\u001b[32mExported diversity_analysis/tables/beta_uwunifrac_serum.qza as DistanceMatrixDirectoryFormat to directory diversity_analysis/tables/beta_uwunifrac_serum\u001b[0m\r\n"
     ]
    }
   ],
   "source": [
    "! qiime tools export \\\n",
    "--input-path diversity_analysis/tables/beta_uwunifrac_serum.qza \\\n",
    "--output-path diversity_analysis/tables/beta_uwunifrac_serum"
   ]
  },
  {
   "cell_type": "code",
   "execution_count": 9,
   "metadata": {},
   "outputs": [
    {
     "name": "stdout",
     "output_type": "stream",
     "text": [
      "\u001b[32mSaved DistanceMatrix % Properties('phylogenetic') to: diversity_analysis/tables/beta_wunifrac_serum.qza\u001b[0m\r\n"
     ]
    }
   ],
   "source": [
    "#The beta diversity using weighted unifrac\n",
    "! qiime diversity beta-phylogenetic \\\n",
    "--i-table feature_tables/serum-ft-matched-mnorm.qza \\\n",
    "--i-phylogeny diversity_analysis/qemistree-serum.qza \\\n",
    "--p-metric weighted_unifrac \\\n",
    "--o-distance-matrix diversity_analysis/tables/beta_wunifrac_serum.qza"
   ]
  },
  {
   "cell_type": "code",
   "execution_count": 10,
   "metadata": {},
   "outputs": [
    {
     "name": "stdout",
     "output_type": "stream",
     "text": [
      "\u001b[32mExported diversity_analysis/tables/beta_wunifrac_serum.qza as DistanceMatrixDirectoryFormat to directory diversity_analysis/tables/beta_wunifrac_serum\u001b[0m\r\n"
     ]
    }
   ],
   "source": [
    "! qiime tools export \\\n",
    "--input-path diversity_analysis/tables/beta_wunifrac_serum.qza \\\n",
    "--output-path diversity_analysis/tables/beta_wunifrac_serum"
   ]
  },
  {
   "cell_type": "code",
   "execution_count": 5,
   "metadata": {},
   "outputs": [],
   "source": [
    "bcdm = ssd.DistanceMatrix.read('diversity_analysis/tables/beta_braycurtis_serum/distance-matrix.tsv')\n",
    "aidm = ssd.DistanceMatrix.read('diversity_analysis/tables/beta_aitchison_serum/distance-matrix.tsv')\n",
    "uwdm = ssd.DistanceMatrix.read('diversity_analysis/tables/beta_uwunifrac_serum/distance-matrix.tsv')\n",
    "wdm = ssd.DistanceMatrix.read('diversity_analysis/tables/beta_wunifrac_serum/distance-matrix.tsv' )\n",
    "sample_arr = (bcdm.ids)"
   ]
  },
  {
   "cell_type": "code",
   "execution_count": 8,
   "metadata": {},
   "outputs": [],
   "source": [
    "# list of samples in each group\n",
    "sg1 = [idx for idx in sample_arr if md.loc[idx, 'ATTRIBUTE_groups'] == 'G1P']\n",
    "sg2 = [idx for idx in sample_arr if md.loc[idx, 'ATTRIBUTE_groups'] == 'G2P']\n",
    "sg3 = [idx for idx in sample_arr if md.loc[idx, 'ATTRIBUTE_groups'] == 'G3P']"
   ]
  },
  {
   "cell_type": "code",
   "execution_count": 9,
   "metadata": {},
   "outputs": [],
   "source": [
    "# all possible pairs in each group\n",
    "pg1 = list(itertools.combinations(sg1, 2))\n",
    "pg2 = list(itertools.combinations(sg2, 2))\n",
    "pg3 = list(itertools.combinations(sg3, 2))"
   ]
  },
  {
   "cell_type": "code",
   "execution_count": 10,
   "metadata": {},
   "outputs": [
    {
     "data": {
      "text/plain": [
       "231"
      ]
     },
     "execution_count": 10,
     "metadata": {},
     "output_type": "execute_result"
    }
   ],
   "source": [
    "len(pg3)"
   ]
  },
  {
   "cell_type": "code",
   "execution_count": 11,
   "metadata": {},
   "outputs": [],
   "source": [
    "# bray curtis distances\n",
    "bcdg1 = [bcdm[pair] for pair in pg1]\n",
    "bcdg2 = [bcdm[pair] for pair in pg2]\n",
    "bcdg3 = [bcdm[pair] for pair in pg3]"
   ]
  },
  {
   "cell_type": "code",
   "execution_count": 12,
   "metadata": {},
   "outputs": [],
   "source": [
    "#aitchison distances\n",
    "aidg1 = [aidm[pair] for pair in pg1]\n",
    "aidg2 = [aidm[pair] for pair in pg2]\n",
    "aidg3 = [aidm[pair] for pair in pg3]"
   ]
  },
  {
   "cell_type": "code",
   "execution_count": 13,
   "metadata": {},
   "outputs": [],
   "source": [
    "#unweighted unifrac distances\n",
    "uwdg1 = [uwdm[pair] for pair in pg1]\n",
    "uwdg2 = [uwdm[pair] for pair in pg2]\n",
    "uwdg3 = [uwdm[pair] for pair in pg3]"
   ]
  },
  {
   "cell_type": "code",
   "execution_count": 14,
   "metadata": {},
   "outputs": [],
   "source": [
    "#weighted unifrac distances\n",
    "wdg1 = [wdm[pair] for pair in pg1]\n",
    "wdg2 = [wdm[pair] for pair in pg2]\n",
    "wdg3 = [wdm[pair] for pair in pg3]"
   ]
  },
  {
   "cell_type": "code",
   "execution_count": 15,
   "metadata": {},
   "outputs": [],
   "source": [
    "#dataframe to plot bdiv\n",
    "pdf = pd.DataFrame(index=pd.MultiIndex.from_tuples(pg1+pg2+pg3), \n",
    "                   columns=['bray_curtis','aitchison', 'unweighted_unifrac','weighted_unifrac','groups'])\n",
    "# assign groups\n",
    "pdf.groups=['G1P']*len(pg1)+['G2P']*len(pg2)+['G3P']*len(pg3)\n",
    "\n",
    "# assign distances\n",
    "pdf.bray_curtis=bcdg1+bcdg2+bcdg3\n",
    "pdf.aitchison=aidg1+aidg2+aidg3\n",
    "pdf.unweighted_unifrac=uwdg1+uwdg2+uwdg3\n",
    "pdf.weighted_unifrac=wdg1+wdg2+wdg3"
   ]
  },
  {
   "cell_type": "code",
   "execution_count": 22,
   "metadata": {},
   "outputs": [],
   "source": [
    "#save source data\n",
    "pdf.to_csv('diversity_analysis/tables/source_data_beta_diversity_serum_bc_ai_uw_w.csv')"
   ]
  },
  {
   "cell_type": "markdown",
   "metadata": {},
   "source": [
    "### 2a. plotting trends in beta diversity (braycurtis)"
   ]
  },
  {
   "cell_type": "code",
   "execution_count": 23,
   "metadata": {},
   "outputs": [
    {
     "data": {
      "image/png": "[encoded data removed]",
      "text/plain": [
       "<Figure size 432x288 with 1 Axes>"
      ]
     },
     "metadata": {},
     "output_type": "display_data"
    }
   ],
   "source": [
    "sns.set_style(\"ticks\")\n",
    "sns.set_context(\"notebook\", font_scale=1.2, rc={\"lines.linewidth\": 1.2})\n",
    "fig, ax = plt.subplots()\n",
    "sns.set()\n",
    "sns.boxplot(y='bray_curtis', x='groups', order=['G1P', 'G2P', 'G3P'], data=pdf, \n",
    "           palette={'G1P':'#01AEE8','G2P':'#ffff66','G3P':'#F04D9C'}, ax=ax)\n",
    "ax.set(xlabel='', ylabel=\"Beta-diversity (Bray Curtis)\")\n",
    "ax.set_xticklabels(['non-NAFLD \\n controls', 'NAFLD \\n without AF', 'NAFLD \\n -cirrhosis'])\n",
    "plt.savefig('diversity_analysis/figures/bdiv_braycurtis_serum_G1PG2PG3P.pdf', bbox_to_inches='tight')"
   ]
  },
  {
   "cell_type": "code",
   "execution_count": 24,
   "metadata": {},
   "outputs": [
    {
     "name": "stdout",
     "output_type": "stream",
     "text": [
      "0.5348378242790097\n",
      "0.41718157081137985\n",
      "0.3544081890889492\n",
      "KruskalResult(statistic=24.21113919504387, pvalue=8.633151561178114e-07)\n",
      "KruskalResult(statistic=33.52376156040941, pvalue=7.039867285365064e-09)\n",
      "KruskalResult(statistic=175.3052517283504, pvalue=5.135087794113415e-40)\n"
     ]
    }
   ],
   "source": [
    "bg1 = [pdf.loc[idx, 'bray_curtis'] for idx in pdf.index if pdf.loc[idx, 'groups'] == 'G1P']\n",
    "bg2 = [pdf.loc[idx, 'bray_curtis'] for idx in pdf.index if pdf.loc[idx, 'groups'] == 'G2P']\n",
    "bg3 = [pdf.loc[idx, 'bray_curtis'] for idx in pdf.index if pdf.loc[idx, 'groups'] == 'G3P']\n",
    "\n",
    "print(statistics.median(bg1))\n",
    "print(statistics.median(bg2))\n",
    "print(statistics.median(bg3))\n",
    "print(kruskal(bg1, bg2))\n",
    "print(kruskal(bg2, bg3))\n",
    "print(kruskal(bg1, bg3))"
   ]
  },
  {
   "cell_type": "markdown",
   "metadata": {},
   "source": [
    "For Bray-Curtis we see a trend of decreasing diversity as disease state increases, with NAFLD-cirrhosis samples having the lowest median diversity score. There are significant differences between each of the groups (p<0.001)."
   ]
  },
  {
   "cell_type": "markdown",
   "metadata": {},
   "source": [
    "### 2b. plotting trends in beta diversity (aitchison)"
   ]
  },
  {
   "cell_type": "code",
   "execution_count": 25,
   "metadata": {},
   "outputs": [
    {
     "data": {
      "image/png": "[encoded data removed]",
      "text/plain": [
       "<Figure size 432x288 with 1 Axes>"
      ]
     },
     "metadata": {},
     "output_type": "display_data"
    }
   ],
   "source": [
    "sns.set_style(\"ticks\")\n",
    "sns.set_context(\"notebook\", font_scale=1.2, rc={\"lines.linewidth\": 1.2})\n",
    "fig, ax = plt.subplots()\n",
    "sns.boxplot(y='aitchison', x='groups', order=['G1P', 'G2P', 'G3P'], data=pdf, \n",
    "           palette={'G1P':'#01AEE8','G2P':'#ffff66','G3P':'#F04D9C'}, ax=ax)\n",
    "ax.set(xlabel='', ylabel=\"Beta-diversity (Aitchison)\")\n",
    "ax.set_xticklabels(['non-NAFLD \\n controls', 'NAFLD \\n without AF', 'NAFLD \\n -cirrhosis'])\n",
    "#ax.set_ylim([0.3, 1])\n",
    "plt.savefig('diversity_analysis/figures/bdiv_aitchison_serum_G1PG2PG3P.pdf', bbox_to_inches='tight')"
   ]
  },
  {
   "cell_type": "code",
   "execution_count": 26,
   "metadata": {},
   "outputs": [
    {
     "name": "stdout",
     "output_type": "stream",
     "text": [
      "6.058866819194119\n",
      "5.742337900747527\n",
      "4.341344398244429\n",
      "KruskalResult(statistic=4.01921714676655, pvalue=0.04498458974732385)\n",
      "KruskalResult(statistic=95.45466843762279, pvalue=1.5131684051223423e-22)\n",
      "KruskalResult(statistic=221.36733447247298, pvalue=4.551318008858566e-50)\n"
     ]
    }
   ],
   "source": [
    "bg1 = [pdf.loc[idx, 'aitchison'] for idx in pdf.index if pdf.loc[idx, 'groups'] == 'G1P']\n",
    "bg2 = [pdf.loc[idx, 'aitchison'] for idx in pdf.index if pdf.loc[idx, 'groups'] == 'G2P']\n",
    "bg3 = [pdf.loc[idx, 'aitchison'] for idx in pdf.index if pdf.loc[idx, 'groups'] == 'G3P']\n",
    "\n",
    "print(statistics.median(bg1))\n",
    "print(statistics.median(bg2))\n",
    "print(statistics.median(bg3))\n",
    "print(kruskal(bg1, bg2))\n",
    "print(kruskal(bg2, bg3))\n",
    "print(kruskal(bg1, bg3))"
   ]
  },
  {
   "cell_type": "markdown",
   "metadata": {},
   "source": [
    "Here we see that the non-NAFLD controls have a significnatly higher diversity score compared to both NAFLD w/o AF probands (p<0.001) and NAFLD-cirrhosis samples (p<0.001). This follows similarly to the trend identified using Bray-Curtis metric."
   ]
  },
  {
   "cell_type": "markdown",
   "metadata": {},
   "source": [
    "### 2c. plotting trends in beta diversity (unweighted unifrac distances)"
   ]
  },
  {
   "cell_type": "code",
   "execution_count": 27,
   "metadata": {},
   "outputs": [
    {
     "data": {
      "image/png": "[encoded data removed]",
      "text/plain": [
       "<Figure size 432x288 with 1 Axes>"
      ]
     },
     "metadata": {},
     "output_type": "display_data"
    }
   ],
   "source": [
    "sns.set_style(\"ticks\")\n",
    "sns.set_context(\"notebook\", font_scale=1.2, rc={\"lines.linewidth\": 1.2})\n",
    "fig, ax = plt.subplots()\n",
    "sns.boxplot(y='unweighted_unifrac', x='groups', order=['G1P', 'G2P', 'G3P'], data=pdf, \n",
    "           palette={'G1P':'#01AEE8','G2P':'#ffff66','G3P':'#F04D9C'}, ax=ax)\n",
    "ax.set(xlabel='', ylabel=\"Beta-diversity (Unweighted UniFrac)\")\n",
    "ax.set_xticklabels(['non-NAFLD \\n controls', 'NAFLD \\n without AF', 'NAFLD \\n -cirrhosis'])\n",
    "#ax.set_ylim([0.3, 1])\n",
    "plt.savefig('diversity_analysis/figures/bdiv_uwunifrac_serum_G1PG2PG3P.pdf', bbox_to_inches='tight')"
   ]
  },
  {
   "cell_type": "code",
   "execution_count": 31,
   "metadata": {},
   "outputs": [
    {
     "name": "stdout",
     "output_type": "stream",
     "text": [
      "0.10633753570656385\n",
      "0.08305789000251637\n",
      "0.10796479308225045\n",
      "KruskalResult(statistic=104.22681407537311, pvalue=1.8043214554501282e-24)\n",
      "KruskalResult(statistic=131.56440500787085, pvalue=1.863300044084612e-30)\n",
      "KruskalResult(statistic=0.0012744556229336013, pvalue=0.9715219544699385)\n"
     ]
    }
   ],
   "source": [
    "bg1 = [pdf.loc[idx, 'unweighted_unifrac'] for idx in pdf.index if pdf.loc[idx, 'groups'] == 'G1P']\n",
    "bg2 = [pdf.loc[idx, 'unweighted_unifrac'] for idx in pdf.index if pdf.loc[idx, 'groups'] == 'G2P']\n",
    "bg3 = [pdf.loc[idx, 'unweighted_unifrac'] for idx in pdf.index if pdf.loc[idx, 'groups'] == 'G3P']\n",
    "\n",
    "print(statistics.median(bg1))\n",
    "print(statistics.median(bg2))\n",
    "print(statistics.median(bg3))\n",
    "print(kruskal(bg1, bg2))\n",
    "print(kruskal(bg2, bg3))\n",
    "print(kruskal(bg1, bg3))"
   ]
  },
  {
   "cell_type": "markdown",
   "metadata": {},
   "source": [
    "We see a decrease in beta diversity (using unweighted uniFrac) among the three probands, with the non-NAFLD controls having the highest diversity and the NAFLD-cirrhosis group having the lowest. ALl the groups are significantly different from one another (_p_<0.001)."
   ]
  },
  {
   "cell_type": "markdown",
   "metadata": {},
   "source": [
    "### 2d. plotting trends in beta diversity (weighted unifrac distances)"
   ]
  },
  {
   "cell_type": "code",
   "execution_count": 16,
   "metadata": {},
   "outputs": [
    {
     "data": {
      "image/png": "[encoded data removed]",
      "text/plain": [
       "<Figure size 432x288 with 1 Axes>"
      ]
     },
     "metadata": {},
     "output_type": "display_data"
    }
   ],
   "source": [
    "sns.set_style(\"ticks\")\n",
    "sns.set_context(\"notebook\", font_scale=1.2, rc={\"lines.linewidth\": 1.2})\n",
    "fig, ax = plt.subplots()\n",
    "sns.boxplot(y='weighted_unifrac', x='groups', order=['G1P', 'G2P', 'G3P'], data=pdf, \n",
    "           palette={'G1P':'#01AEE8','G2P':'#ffff66','G3P':'#F04D9C'}, ax=ax)\n",
    "ax.set(xlabel='', ylabel=\"Beta-diversity (Weighted UniFrac)\")\n",
    "ax.set_xticklabels(['non-NAFLD \\n controls', 'NAFLD \\n without AF', 'NAFLD \\n -cirrhosis'])\n",
    "ax.set_ylim([0.0, 0.7])\n",
    "plt.savefig('diversity_analysis/figures/bdiv_wunifrac_serum_G1PG2PG3P.pdf', bbox_to_inches='tight')"
   ]
  },
  {
   "cell_type": "code",
   "execution_count": 32,
   "metadata": {},
   "outputs": [
    {
     "name": "stdout",
     "output_type": "stream",
     "text": [
      "0.19892284640944247\n",
      "0.1630288224023484\n",
      "0.1443657846946985\n",
      "KruskalResult(statistic=12.897580475727864, pvalue=0.0003290071721326886)\n",
      "KruskalResult(statistic=10.52197092680035, pvalue=0.0011796360661530795)\n",
      "KruskalResult(statistic=89.49168278529942, pvalue=3.0793032030013805e-21)\n"
     ]
    }
   ],
   "source": [
    "bg1 = [pdf.loc[idx, 'weighted_unifrac'] for idx in pdf.index if pdf.loc[idx, 'groups'] == 'G1P']\n",
    "bg2 = [pdf.loc[idx, 'weighted_unifrac'] for idx in pdf.index if pdf.loc[idx, 'groups'] == 'G2P']\n",
    "bg3 = [pdf.loc[idx, 'weighted_unifrac'] for idx in pdf.index if pdf.loc[idx, 'groups'] == 'G3P']\n",
    "\n",
    "print(statistics.median(bg1))\n",
    "print(statistics.median(bg2))\n",
    "print(statistics.median(bg3))\n",
    "print(kruskal(bg1, bg2))\n",
    "print(kruskal(bg2, bg3))\n",
    "print(kruskal(bg1, bg3))"
   ]
  },
  {
   "cell_type": "markdown",
   "metadata": {},
   "source": [
    "We see a decrease in beta diversity (using weighted uniFrac) among the three probands, with the non-NAFLD controls having the highest diversity and the NAFLD-cirrhosis group having the lowest. ALl the groups are significantly different from one another (_p_<0.001)."
   ]
  },
  {
   "cell_type": "code",
   "execution_count": null,
   "metadata": {},
   "outputs": [],
   "source": []
  },
  {
   "cell_type": "code",
   "execution_count": null,
   "metadata": {},
   "outputs": [],
   "source": []
  },
  {
   "cell_type": "code",
   "execution_count": null,
   "metadata": {},
   "outputs": [],
   "source": []
  },
  {
   "cell_type": "markdown",
   "metadata": {},
   "source": [
    "### Future Directions"
   ]
  },
  {
   "cell_type": "markdown",
   "metadata": {},
   "source": [
    "Focusing on Faith PD/Obs OTUs for Alpha as they match the trend of decreasing diversity, as seen in microbiome. For beta, focus on Weighted Unifrac, shows same trend as Bray-Curtis and Aitchison but uses phylogenetic information as well. Matches trend of alpha div. Decreasing alpha diversity suggests decrease in overall richness of metabolome. Decrease in beta diversity suggests that the samples are more similar and all converging on a similar non-diverse serum metabolome."
   ]
  },
  {
   "cell_type": "code",
   "execution_count": null,
   "metadata": {},
   "outputs": [],
   "source": []
  }
 ],
 "metadata": {
  "kernelspec": {
   "display_name": "Python 3",
   "language": "python",
   "name": "python3"
  },
  "language_info": {
   "codemirror_mode": {
    "name": "ipython",
    "version": 3
   },
   "file_extension": ".py",
   "mimetype": "text/x-python",
   "name": "python",
   "nbconvert_exporter": "python",
   "pygments_lexer": "ipython3",
   "version": "3.6.7"
  }
 },
 "nbformat": 4,
 "nbformat_minor": 2
}
