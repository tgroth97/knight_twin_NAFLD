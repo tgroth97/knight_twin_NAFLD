{
 "cells": [
  {
   "cell_type": "markdown",
   "metadata": {},
   "source": [
    "# Comparing Features from Different Songbird Models\n",
    "The machine learning models for the current analysis have been performing worse compared with the old analysis. Here we will compare the feature sets to see how they differ. The models have been built using, 10 train/10 test samples, 70/30 split test samples, and the samples used when building the model from the old analysis"
   ]
  },
  {
   "cell_type": "code",
   "execution_count": 1,
   "metadata": {},
   "outputs": [],
   "source": [
    "import pandas as pd\n",
    "import qiime2\n",
    "import numpy as np\n",
    "import os\n",
    "\n",
    "os.chdir('/Users/tgroth/Google Drive/knight_twin_NAFLD/fecal_analysis')"
   ]
  },
  {
   "cell_type": "markdown",
   "metadata": {},
   "source": [
    "## Loading in Model Differentials"
   ]
  },
  {
   "cell_type": "code",
   "execution_count": 6,
   "metadata": {},
   "outputs": [
    {
     "data": {
      "text/html": [
       "<div>\n",
       "<style scoped>\n",
       "    .dataframe tbody tr th:only-of-type {\n",
       "        vertical-align: middle;\n",
       "    }\n",
       "\n",
       "    .dataframe tbody tr th {\n",
       "        vertical-align: top;\n",
       "    }\n",
       "\n",
       "    .dataframe thead th {\n",
       "        text-align: right;\n",
       "    }\n",
       "</style>\n",
       "<table border=\"1\" class=\"dataframe\">\n",
       "  <thead>\n",
       "    <tr style=\"text-align: right;\">\n",
       "      <th></th>\n",
       "      <th>Intercept</th>\n",
       "      <th>ATTRIBUTE_adv_fibrosis[T.1]</th>\n",
       "      <th>ATTRIBUTE_adv_fibrosis[T.Missing: Not collected]</th>\n",
       "    </tr>\n",
       "    <tr>\n",
       "      <th>featureid</th>\n",
       "      <th></th>\n",
       "      <th></th>\n",
       "      <th></th>\n",
       "    </tr>\n",
       "  </thead>\n",
       "  <tbody>\n",
       "    <tr>\n",
       "      <th>f16fb9a4556296869e4f5e582a914dd2</th>\n",
       "      <td>-1.148374</td>\n",
       "      <td>2.699293</td>\n",
       "      <td>0.037231</td>\n",
       "    </tr>\n",
       "    <tr>\n",
       "      <th>b88289a6da54ad61fca21f4ecab92fd9</th>\n",
       "      <td>0.035948</td>\n",
       "      <td>2.607767</td>\n",
       "      <td>0.050815</td>\n",
       "    </tr>\n",
       "    <tr>\n",
       "      <th>4c25b8be76070246953849e3931a78c6</th>\n",
       "      <td>-1.103566</td>\n",
       "      <td>2.511959</td>\n",
       "      <td>0.050815</td>\n",
       "    </tr>\n",
       "  </tbody>\n",
       "</table>\n",
       "</div>"
      ],
      "text/plain": [
       "                                  Intercept  ATTRIBUTE_adv_fibrosis[T.1]  \\\n",
       "featureid                                                                  \n",
       "f16fb9a4556296869e4f5e582a914dd2  -1.148374                     2.699293   \n",
       "b88289a6da54ad61fca21f4ecab92fd9   0.035948                     2.607767   \n",
       "4c25b8be76070246953849e3931a78c6  -1.103566                     2.511959   \n",
       "\n",
       "                                  ATTRIBUTE_adv_fibrosis[T.Missing: Not collected]  \n",
       "featureid                                                                           \n",
       "f16fb9a4556296869e4f5e582a914dd2                                          0.037231  \n",
       "b88289a6da54ad61fca21f4ecab92fd9                                          0.050815  \n",
       "4c25b8be76070246953849e3931a78c6                                          0.050815  "
      ]
     },
     "execution_count": 6,
     "metadata": {},
     "output_type": "execute_result"
    }
   ],
   "source": [
    "# loading in best performing model built off ten pos and 10 neg for AF\n",
    "ten_tt = qiime2.Artifact.load('songbird_analysis/f_ATTRIBUTE_adv_fibrosis_dp_0.75_lr_0.0001_e_5000/differentials.qza')\n",
    "ten_tt_df = ten_tt.view(pd.DataFrame)\n",
    "ten_tt_df.sort_values(by=['ATTRIBUTE_adv_fibrosis[T.1]'],ascending=False,inplace=True)\n",
    "ten_tt_df.head(3)"
   ]
  },
  {
   "cell_type": "code",
   "execution_count": 4,
   "metadata": {},
   "outputs": [
    {
     "data": {
      "text/html": [
       "<div>\n",
       "<style scoped>\n",
       "    .dataframe tbody tr th:only-of-type {\n",
       "        vertical-align: middle;\n",
       "    }\n",
       "\n",
       "    .dataframe tbody tr th {\n",
       "        vertical-align: top;\n",
       "    }\n",
       "\n",
       "    .dataframe thead th {\n",
       "        text-align: right;\n",
       "    }\n",
       "</style>\n",
       "<table border=\"1\" class=\"dataframe\">\n",
       "  <thead>\n",
       "    <tr style=\"text-align: right;\">\n",
       "      <th></th>\n",
       "      <th>Intercept</th>\n",
       "      <th>ATTRIBUTE_adv_fibrosis[T.1]</th>\n",
       "      <th>ATTRIBUTE_adv_fibrosis[T.Missing: Not collected]</th>\n",
       "    </tr>\n",
       "    <tr>\n",
       "      <th>featureid</th>\n",
       "      <th></th>\n",
       "      <th></th>\n",
       "      <th></th>\n",
       "    </tr>\n",
       "  </thead>\n",
       "  <tbody>\n",
       "    <tr>\n",
       "      <th>cdf8d23687cfc324485e2bd3e0094ff2</th>\n",
       "      <td>-0.434705</td>\n",
       "      <td>4.605243</td>\n",
       "      <td>0.010917</td>\n",
       "    </tr>\n",
       "    <tr>\n",
       "      <th>fb758530086adf438d5ebe8f83847f2d</th>\n",
       "      <td>-0.498779</td>\n",
       "      <td>4.280270</td>\n",
       "      <td>0.010917</td>\n",
       "    </tr>\n",
       "    <tr>\n",
       "      <th>d2ef3361261cc1d835ad59394bfe161c</th>\n",
       "      <td>-0.053588</td>\n",
       "      <td>4.253552</td>\n",
       "      <td>0.010917</td>\n",
       "    </tr>\n",
       "  </tbody>\n",
       "</table>\n",
       "</div>"
      ],
      "text/plain": [
       "                                  Intercept  ATTRIBUTE_adv_fibrosis[T.1]  \\\n",
       "featureid                                                                  \n",
       "cdf8d23687cfc324485e2bd3e0094ff2  -0.434705                     4.605243   \n",
       "fb758530086adf438d5ebe8f83847f2d  -0.498779                     4.280270   \n",
       "d2ef3361261cc1d835ad59394bfe161c  -0.053588                     4.253552   \n",
       "\n",
       "                                  ATTRIBUTE_adv_fibrosis[T.Missing: Not collected]  \n",
       "featureid                                                                           \n",
       "cdf8d23687cfc324485e2bd3e0094ff2                                          0.010917  \n",
       "fb758530086adf438d5ebe8f83847f2d                                          0.010917  \n",
       "d2ef3361261cc1d835ad59394bfe161c                                          0.010917  "
      ]
     },
     "execution_count": 4,
     "metadata": {},
     "output_type": "execute_result"
    }
   ],
   "source": [
    "# loading in best performing model built off a 70/30 train test split that maintained the pos/neg distribution\n",
    "split_tt = qiime2.Artifact.load('songbird_analysis/songbird_traintest_7030/f_ATTRIBUTE_adv_fibrosis_dp_5_lr_0.001_e_5000/differentials.qza')\n",
    "split_tt_df = split_tt.view(pd.DataFrame)\n",
    "split_tt_df.sort_values(by=['ATTRIBUTE_adv_fibrosis[T.1]'],ascending=False,inplace=True)\n",
    "split_tt_df.head(3)"
   ]
  },
  {
   "cell_type": "code",
   "execution_count": 16,
   "metadata": {},
   "outputs": [
    {
     "data": {
      "text/html": [
       "<div>\n",
       "<style scoped>\n",
       "    .dataframe tbody tr th:only-of-type {\n",
       "        vertical-align: middle;\n",
       "    }\n",
       "\n",
       "    .dataframe tbody tr th {\n",
       "        vertical-align: top;\n",
       "    }\n",
       "\n",
       "    .dataframe thead th {\n",
       "        text-align: right;\n",
       "    }\n",
       "</style>\n",
       "<table border=\"1\" class=\"dataframe\">\n",
       "  <thead>\n",
       "    <tr style=\"text-align: right;\">\n",
       "      <th></th>\n",
       "      <th>Intercept</th>\n",
       "      <th>ATTRIBUTE_adv_fibrosis[T.1]</th>\n",
       "      <th>ATTRIBUTE_adv_fibrosis[T.Missing: Not collected]</th>\n",
       "      <th>ATTRIBUTE_groups[T.G1R]</th>\n",
       "      <th>ATTRIBUTE_groups[T.G2P]</th>\n",
       "      <th>ATTRIBUTE_groups[T.G2R]</th>\n",
       "      <th>ATTRIBUTE_groups[T.G3P]</th>\n",
       "      <th>ATTRIBUTE_groups[T.G3R]</th>\n",
       "    </tr>\n",
       "    <tr>\n",
       "      <th>featureid</th>\n",
       "      <th></th>\n",
       "      <th></th>\n",
       "      <th></th>\n",
       "      <th></th>\n",
       "      <th></th>\n",
       "      <th></th>\n",
       "      <th></th>\n",
       "      <th></th>\n",
       "    </tr>\n",
       "  </thead>\n",
       "  <tbody>\n",
       "    <tr>\n",
       "      <th>fb758530086adf438d5ebe8f83847f2d</th>\n",
       "      <td>-0.670929</td>\n",
       "      <td>3.858487</td>\n",
       "      <td>2.148028</td>\n",
       "      <td>-0.965325</td>\n",
       "      <td>0.552249</td>\n",
       "      <td>0.101298</td>\n",
       "      <td>-0.472353</td>\n",
       "      <td>1.344099</td>\n",
       "    </tr>\n",
       "    <tr>\n",
       "      <th>0ba75f593218ef056eefaeab285ae839</th>\n",
       "      <td>-0.188644</td>\n",
       "      <td>3.764050</td>\n",
       "      <td>1.413932</td>\n",
       "      <td>-1.381585</td>\n",
       "      <td>0.957711</td>\n",
       "      <td>0.416394</td>\n",
       "      <td>-1.125884</td>\n",
       "      <td>1.348312</td>\n",
       "    </tr>\n",
       "    <tr>\n",
       "      <th>cdf8d23687cfc324485e2bd3e0094ff2</th>\n",
       "      <td>-0.613116</td>\n",
       "      <td>3.744521</td>\n",
       "      <td>-6.213303</td>\n",
       "      <td>-0.994323</td>\n",
       "      <td>0.177037</td>\n",
       "      <td>0.822062</td>\n",
       "      <td>-0.882106</td>\n",
       "      <td>1.987184</td>\n",
       "    </tr>\n",
       "  </tbody>\n",
       "</table>\n",
       "</div>"
      ],
      "text/plain": [
       "                                  Intercept  ATTRIBUTE_adv_fibrosis[T.1]  \\\n",
       "featureid                                                                  \n",
       "fb758530086adf438d5ebe8f83847f2d  -0.670929                     3.858487   \n",
       "0ba75f593218ef056eefaeab285ae839  -0.188644                     3.764050   \n",
       "cdf8d23687cfc324485e2bd3e0094ff2  -0.613116                     3.744521   \n",
       "\n",
       "                                  ATTRIBUTE_adv_fibrosis[T.Missing: Not collected]  \\\n",
       "featureid                                                                            \n",
       "fb758530086adf438d5ebe8f83847f2d                                          2.148028   \n",
       "0ba75f593218ef056eefaeab285ae839                                          1.413932   \n",
       "cdf8d23687cfc324485e2bd3e0094ff2                                         -6.213303   \n",
       "\n",
       "                                  ATTRIBUTE_groups[T.G1R]  \\\n",
       "featureid                                                   \n",
       "fb758530086adf438d5ebe8f83847f2d                -0.965325   \n",
       "0ba75f593218ef056eefaeab285ae839                -1.381585   \n",
       "cdf8d23687cfc324485e2bd3e0094ff2                -0.994323   \n",
       "\n",
       "                                  ATTRIBUTE_groups[T.G2P]  \\\n",
       "featureid                                                   \n",
       "fb758530086adf438d5ebe8f83847f2d                 0.552249   \n",
       "0ba75f593218ef056eefaeab285ae839                 0.957711   \n",
       "cdf8d23687cfc324485e2bd3e0094ff2                 0.177037   \n",
       "\n",
       "                                  ATTRIBUTE_groups[T.G2R]  \\\n",
       "featureid                                                   \n",
       "fb758530086adf438d5ebe8f83847f2d                 0.101298   \n",
       "0ba75f593218ef056eefaeab285ae839                 0.416394   \n",
       "cdf8d23687cfc324485e2bd3e0094ff2                 0.822062   \n",
       "\n",
       "                                  ATTRIBUTE_groups[T.G3P]  \\\n",
       "featureid                                                   \n",
       "fb758530086adf438d5ebe8f83847f2d                -0.472353   \n",
       "0ba75f593218ef056eefaeab285ae839                -1.125884   \n",
       "cdf8d23687cfc324485e2bd3e0094ff2                -0.882106   \n",
       "\n",
       "                                  ATTRIBUTE_groups[T.G3R]  \n",
       "featureid                                                  \n",
       "fb758530086adf438d5ebe8f83847f2d                 1.344099  \n",
       "0ba75f593218ef056eefaeab285ae839                 1.348312  \n",
       "cdf8d23687cfc324485e2bd3e0094ff2                 1.987184  "
      ]
     },
     "execution_count": 16,
     "metadata": {},
     "output_type": "execute_result"
    }
   ],
   "source": [
    "# loading in best performing model from old analysis\n",
    "old_model = qiime2.Artifact.load('../old_analyses/fecal_analysis/fecal_diff_abundance_analysis/f_ATTRIBUTE_adv_fibrosis+ATTRIBUTE_groups_dp_0.4_lr_0.001_e_2500_drop/differentials.qza')\n",
    "old_model_df = old_model.view(pd.DataFrame)\n",
    "old_model_df.sort_values(by=['ATTRIBUTE_adv_fibrosis[T.1]'],ascending=False,inplace=True)\n",
    "old_model_df.head(3)"
   ]
  },
  {
   "cell_type": "markdown",
   "metadata": {},
   "source": [
    "## Comparing Feature Sets"
   ]
  },
  {
   "cell_type": "code",
   "execution_count": 17,
   "metadata": {},
   "outputs": [],
   "source": [
    "# creating top 50 and top/bot 25 for each model\n",
    "ten_top50_id = list(ten_tt_df.iloc[0:50].index)\n",
    "ten_tb25_id = list(ten_tt_df.iloc[0:25].index)+list(ten_tt_df.iloc[-26:-1].index)\n",
    "\n",
    "split_top50_id = list(split_tt_df.iloc[0:50].index)\n",
    "split_tb25_id = list(split_tt_df.iloc[0:25].index)+list(split_tt_df.iloc[-26:-1].index)\n",
    "\n",
    "old_top50_id = list(old_model_df.iloc[0:50].index)\n",
    "old_tb25_id = list(old_model_df.iloc[0:25].index)+list(old_model_df.iloc[-26:-1].index)"
   ]
  },
  {
   "cell_type": "code",
   "execution_count": 14,
   "metadata": {},
   "outputs": [
    {
     "name": "stdout",
     "output_type": "stream",
     "text": [
      "16\n",
      "8\n"
     ]
    }
   ],
   "source": [
    "# Comparing 10 train/10 test features and 70/30 split\n",
    "print(len(set(ten_top50_id)&set(split_top50_id)))\n",
    "\n",
    "print(len(set(ten_tb25_id)&set(split_tb25_id)))"
   ]
  },
  {
   "cell_type": "code",
   "execution_count": 18,
   "metadata": {},
   "outputs": [
    {
     "name": "stdout",
     "output_type": "stream",
     "text": [
      "13\n",
      "9\n"
     ]
    }
   ],
   "source": [
    "# Comparing 10 train/10 test features and Old features\n",
    "print(len(set(ten_top50_id)&set(old_top50_id)))\n",
    "\n",
    "print(len(set(ten_tb25_id)&set(old_tb25_id)))"
   ]
  },
  {
   "cell_type": "code",
   "execution_count": 19,
   "metadata": {},
   "outputs": [
    {
     "name": "stdout",
     "output_type": "stream",
     "text": [
      "18\n",
      "20\n"
     ]
    }
   ],
   "source": [
    "# Comparing 70/30 split and old model\n",
    "print(len(set(split_top50_id)&set(old_top50_id)))\n",
    "\n",
    "print(len(set(split_tb25_id)&set(old_tb25_id)))"
   ]
  },
  {
   "cell_type": "code",
   "execution_count": null,
   "metadata": {},
   "outputs": [],
   "source": []
  }
 ],
 "metadata": {
  "kernelspec": {
   "display_name": "Python 3",
   "language": "python",
   "name": "python3"
  },
  "language_info": {
   "codemirror_mode": {
    "name": "ipython",
    "version": 3
   },
   "file_extension": ".py",
   "mimetype": "text/x-python",
   "name": "python",
   "nbconvert_exporter": "python",
   "pygments_lexer": "ipython3",
   "version": "3.6.7"
  }
 },
 "nbformat": 4,
 "nbformat_minor": 4
}
