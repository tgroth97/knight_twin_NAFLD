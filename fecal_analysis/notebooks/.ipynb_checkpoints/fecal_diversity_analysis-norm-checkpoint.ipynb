{
 "cells": [
  {
   "cell_type": "markdown",
   "metadata": {},
   "source": [
    "# Nobel Twin Familial Cirrhosis Diversity Fecal Analysis\n",
    "Notebook for performing diversity analysis on the fecal metabolite files from the twin NAFLD study. Looking to compare the non-NAFLD, NAFLD w/o AF and NALFD-cirrhosis groups. Based on the diversity analysis run on the serum files by Stephany Z. Flores-Ramos (sflores@ucsd.edu). The files themselves cam from Alexander's contact Ondrej Libiger (OLibiger@its.jnj.com). The table that I will be using are from qemistree output is fecal-feature-table-hashed.qza and the tree I will be using for phylogenetic metrics is fecal_qemistree.qza"
   ]
  },
  {
   "cell_type": "code",
   "execution_count": 13,
   "metadata": {},
   "outputs": [],
   "source": [
    "#import plugins \n",
    "\n",
    "import qiime2\n",
    "import pandas as pd\n",
    "import biom\n",
    "import itertools\n",
    "import seaborn as sns\n",
    "import numpy as np\n",
    "import skbio.stats.distance as ssd\n",
    "from scipy.stats import kruskal\n",
    "import matplotlib.pyplot as plt\n",
    "import os\n",
    "import statistics\n",
    "\n",
    "%matplotlib inline\n",
    "os.chdir('/Users/tgroth/Google Drive/knight_twin_NAFLD/fecal_analysis')"
   ]
  },
  {
   "cell_type": "code",
   "execution_count": null,
   "metadata": {},
   "outputs": [],
   "source": []
  },
  {
   "cell_type": "code",
   "execution_count": 36,
   "metadata": {},
   "outputs": [
    {
     "name": "stdout",
     "output_type": "stream",
     "text": [
      "(167, 985)\n"
     ]
    },
    {
     "data": {
      "text/html": [
       "<div>\n",
       "<style scoped>\n",
       "    .dataframe tbody tr th:only-of-type {\n",
       "        vertical-align: middle;\n",
       "    }\n",
       "\n",
       "    .dataframe tbody tr th {\n",
       "        vertical-align: top;\n",
       "    }\n",
       "\n",
       "    .dataframe thead th {\n",
       "        text-align: right;\n",
       "    }\n",
       "</style>\n",
       "<table border=\"1\" class=\"dataframe\">\n",
       "  <thead>\n",
       "    <tr style=\"text-align: right;\">\n",
       "      <th></th>\n",
       "      <th>00130daba4ed7c3091cebe843923b656</th>\n",
       "      <th>0035e736dc271e0ffa69ce089124dd3a</th>\n",
       "      <th>00b990effdb1e3547be73fc221c47da9</th>\n",
       "      <th>00bf884546e085e1d7341e1b4d5b4c7f</th>\n",
       "      <th>00d4834e98bff02228bc6022ad218b38</th>\n",
       "      <th>013d75d35d7937c40332f8492e0ac45d</th>\n",
       "      <th>0178e96df0dc4d287475a41115a80ff5</th>\n",
       "      <th>018aa6775f054d00a3af02b1f142bd7f</th>\n",
       "      <th>019f30f6e7668fa412b214ddaa35c150</th>\n",
       "      <th>0285b154e241302fc53e9f2aa1cb74f2</th>\n",
       "      <th>...</th>\n",
       "      <th>fbda8d94f713b714f135c441853dc12d</th>\n",
       "      <th>fc6931386367002a15c8854e10f1411f</th>\n",
       "      <th>fc69c5f3c21f8a3c984509dfa751197a</th>\n",
       "      <th>fc81ed8373e77dc1051c32775cbe8156</th>\n",
       "      <th>fc9687d47db7ef11369d303f56b588c2</th>\n",
       "      <th>fc9ed967c73557234a3a59e5f3921dcb</th>\n",
       "      <th>fd166de6a32d83ea5d14ccf2bb4a04c9</th>\n",
       "      <th>ff56dd5a9e0f7171e04d3f576d03fd87</th>\n",
       "      <th>ff6c014126b685e755c395c10017f17d</th>\n",
       "      <th>fff3d0fb371c075ad5340cf5738683da</th>\n",
       "    </tr>\n",
       "  </thead>\n",
       "  <tbody>\n",
       "    <tr>\n",
       "      <th>TW-CO-002</th>\n",
       "      <td>0.0</td>\n",
       "      <td>0.0</td>\n",
       "      <td>0.000</td>\n",
       "      <td>0.0</td>\n",
       "      <td>6801.6965</td>\n",
       "      <td>0.0</td>\n",
       "      <td>0.0</td>\n",
       "      <td>0.0</td>\n",
       "      <td>0.000</td>\n",
       "      <td>0.0000</td>\n",
       "      <td>...</td>\n",
       "      <td>0.0</td>\n",
       "      <td>0.00</td>\n",
       "      <td>0.0</td>\n",
       "      <td>16166.5755</td>\n",
       "      <td>0.000</td>\n",
       "      <td>0.0</td>\n",
       "      <td>0.00</td>\n",
       "      <td>0.0</td>\n",
       "      <td>0.000</td>\n",
       "      <td>0.0000</td>\n",
       "    </tr>\n",
       "    <tr>\n",
       "      <th>TW-BT-001</th>\n",
       "      <td>0.0</td>\n",
       "      <td>0.0</td>\n",
       "      <td>0.000</td>\n",
       "      <td>0.0</td>\n",
       "      <td>33493.3525</td>\n",
       "      <td>0.0</td>\n",
       "      <td>0.0</td>\n",
       "      <td>0.0</td>\n",
       "      <td>76748.562</td>\n",
       "      <td>0.0000</td>\n",
       "      <td>...</td>\n",
       "      <td>0.0</td>\n",
       "      <td>0.00</td>\n",
       "      <td>0.0</td>\n",
       "      <td>0.0000</td>\n",
       "      <td>0.000</td>\n",
       "      <td>0.0</td>\n",
       "      <td>0.00</td>\n",
       "      <td>0.0</td>\n",
       "      <td>0.000</td>\n",
       "      <td>0.0000</td>\n",
       "    </tr>\n",
       "    <tr>\n",
       "      <th>TW-CA-002</th>\n",
       "      <td>0.0</td>\n",
       "      <td>0.0</td>\n",
       "      <td>0.000</td>\n",
       "      <td>0.0</td>\n",
       "      <td>6085.2110</td>\n",
       "      <td>0.0</td>\n",
       "      <td>0.0</td>\n",
       "      <td>0.0</td>\n",
       "      <td>0.000</td>\n",
       "      <td>0.0000</td>\n",
       "      <td>...</td>\n",
       "      <td>0.0</td>\n",
       "      <td>0.00</td>\n",
       "      <td>0.0</td>\n",
       "      <td>6156.0110</td>\n",
       "      <td>0.000</td>\n",
       "      <td>0.0</td>\n",
       "      <td>0.00</td>\n",
       "      <td>0.0</td>\n",
       "      <td>0.000</td>\n",
       "      <td>76366.6675</td>\n",
       "    </tr>\n",
       "    <tr>\n",
       "      <th>TW-BD-002</th>\n",
       "      <td>0.0</td>\n",
       "      <td>0.0</td>\n",
       "      <td>0.000</td>\n",
       "      <td>0.0</td>\n",
       "      <td>21150.3350</td>\n",
       "      <td>0.0</td>\n",
       "      <td>0.0</td>\n",
       "      <td>0.0</td>\n",
       "      <td>0.000</td>\n",
       "      <td>0.0000</td>\n",
       "      <td>...</td>\n",
       "      <td>0.0</td>\n",
       "      <td>0.00</td>\n",
       "      <td>0.0</td>\n",
       "      <td>0.0000</td>\n",
       "      <td>0.000</td>\n",
       "      <td>0.0</td>\n",
       "      <td>0.00</td>\n",
       "      <td>0.0</td>\n",
       "      <td>0.000</td>\n",
       "      <td>0.0000</td>\n",
       "    </tr>\n",
       "    <tr>\n",
       "      <th>TW-AV-001</th>\n",
       "      <td>0.0</td>\n",
       "      <td>0.0</td>\n",
       "      <td>0.000</td>\n",
       "      <td>0.0</td>\n",
       "      <td>70305.9355</td>\n",
       "      <td>0.0</td>\n",
       "      <td>0.0</td>\n",
       "      <td>0.0</td>\n",
       "      <td>481259.685</td>\n",
       "      <td>0.0000</td>\n",
       "      <td>...</td>\n",
       "      <td>0.0</td>\n",
       "      <td>13463.96</td>\n",
       "      <td>0.0</td>\n",
       "      <td>0.0000</td>\n",
       "      <td>10283.259</td>\n",
       "      <td>0.0</td>\n",
       "      <td>0.00</td>\n",
       "      <td>0.0</td>\n",
       "      <td>23794.125</td>\n",
       "      <td>0.0000</td>\n",
       "    </tr>\n",
       "    <tr>\n",
       "      <th>...</th>\n",
       "      <td>...</td>\n",
       "      <td>...</td>\n",
       "      <td>...</td>\n",
       "      <td>...</td>\n",
       "      <td>...</td>\n",
       "      <td>...</td>\n",
       "      <td>...</td>\n",
       "      <td>...</td>\n",
       "      <td>...</td>\n",
       "      <td>...</td>\n",
       "      <td>...</td>\n",
       "      <td>...</td>\n",
       "      <td>...</td>\n",
       "      <td>...</td>\n",
       "      <td>...</td>\n",
       "      <td>...</td>\n",
       "      <td>...</td>\n",
       "      <td>...</td>\n",
       "      <td>...</td>\n",
       "      <td>...</td>\n",
       "      <td>...</td>\n",
       "    </tr>\n",
       "    <tr>\n",
       "      <th>CIR55-002</th>\n",
       "      <td>0.0</td>\n",
       "      <td>0.0</td>\n",
       "      <td>0.000</td>\n",
       "      <td>0.0</td>\n",
       "      <td>37283.7365</td>\n",
       "      <td>0.0</td>\n",
       "      <td>0.0</td>\n",
       "      <td>0.0</td>\n",
       "      <td>0.000</td>\n",
       "      <td>0.0000</td>\n",
       "      <td>...</td>\n",
       "      <td>0.0</td>\n",
       "      <td>0.00</td>\n",
       "      <td>0.0</td>\n",
       "      <td>0.0000</td>\n",
       "      <td>0.000</td>\n",
       "      <td>0.0</td>\n",
       "      <td>0.00</td>\n",
       "      <td>0.0</td>\n",
       "      <td>0.000</td>\n",
       "      <td>0.0000</td>\n",
       "    </tr>\n",
       "    <tr>\n",
       "      <th>CIR26-002</th>\n",
       "      <td>0.0</td>\n",
       "      <td>0.0</td>\n",
       "      <td>0.000</td>\n",
       "      <td>0.0</td>\n",
       "      <td>0.0000</td>\n",
       "      <td>0.0</td>\n",
       "      <td>0.0</td>\n",
       "      <td>0.0</td>\n",
       "      <td>0.000</td>\n",
       "      <td>0.0000</td>\n",
       "      <td>...</td>\n",
       "      <td>0.0</td>\n",
       "      <td>0.00</td>\n",
       "      <td>0.0</td>\n",
       "      <td>16990.6335</td>\n",
       "      <td>0.000</td>\n",
       "      <td>0.0</td>\n",
       "      <td>5090.91</td>\n",
       "      <td>0.0</td>\n",
       "      <td>0.000</td>\n",
       "      <td>0.0000</td>\n",
       "    </tr>\n",
       "    <tr>\n",
       "      <th>CIR5-002</th>\n",
       "      <td>0.0</td>\n",
       "      <td>0.0</td>\n",
       "      <td>0.000</td>\n",
       "      <td>0.0</td>\n",
       "      <td>0.0000</td>\n",
       "      <td>0.0</td>\n",
       "      <td>0.0</td>\n",
       "      <td>0.0</td>\n",
       "      <td>0.000</td>\n",
       "      <td>0.0000</td>\n",
       "      <td>...</td>\n",
       "      <td>0.0</td>\n",
       "      <td>0.00</td>\n",
       "      <td>0.0</td>\n",
       "      <td>0.0000</td>\n",
       "      <td>0.000</td>\n",
       "      <td>0.0</td>\n",
       "      <td>0.00</td>\n",
       "      <td>0.0</td>\n",
       "      <td>0.000</td>\n",
       "      <td>0.0000</td>\n",
       "    </tr>\n",
       "    <tr>\n",
       "      <th>CIR55-001</th>\n",
       "      <td>0.0</td>\n",
       "      <td>0.0</td>\n",
       "      <td>0.000</td>\n",
       "      <td>0.0</td>\n",
       "      <td>23233.8275</td>\n",
       "      <td>0.0</td>\n",
       "      <td>0.0</td>\n",
       "      <td>0.0</td>\n",
       "      <td>0.000</td>\n",
       "      <td>17700.4515</td>\n",
       "      <td>...</td>\n",
       "      <td>0.0</td>\n",
       "      <td>0.00</td>\n",
       "      <td>0.0</td>\n",
       "      <td>0.0000</td>\n",
       "      <td>0.000</td>\n",
       "      <td>0.0</td>\n",
       "      <td>0.00</td>\n",
       "      <td>0.0</td>\n",
       "      <td>0.000</td>\n",
       "      <td>0.0000</td>\n",
       "    </tr>\n",
       "    <tr>\n",
       "      <th>CIR7-001</th>\n",
       "      <td>0.0</td>\n",
       "      <td>0.0</td>\n",
       "      <td>7260.612</td>\n",
       "      <td>0.0</td>\n",
       "      <td>30394.2795</td>\n",
       "      <td>0.0</td>\n",
       "      <td>0.0</td>\n",
       "      <td>0.0</td>\n",
       "      <td>0.000</td>\n",
       "      <td>0.0000</td>\n",
       "      <td>...</td>\n",
       "      <td>0.0</td>\n",
       "      <td>0.00</td>\n",
       "      <td>0.0</td>\n",
       "      <td>0.0000</td>\n",
       "      <td>0.000</td>\n",
       "      <td>0.0</td>\n",
       "      <td>0.00</td>\n",
       "      <td>0.0</td>\n",
       "      <td>0.000</td>\n",
       "      <td>0.0000</td>\n",
       "    </tr>\n",
       "  </tbody>\n",
       "</table>\n",
       "<p>167 rows × 985 columns</p>\n",
       "</div>"
      ],
      "text/plain": [
       "           00130daba4ed7c3091cebe843923b656  0035e736dc271e0ffa69ce089124dd3a  \\\n",
       "TW-CO-002                               0.0                               0.0   \n",
       "TW-BT-001                               0.0                               0.0   \n",
       "TW-CA-002                               0.0                               0.0   \n",
       "TW-BD-002                               0.0                               0.0   \n",
       "TW-AV-001                               0.0                               0.0   \n",
       "...                                     ...                               ...   \n",
       "CIR55-002                               0.0                               0.0   \n",
       "CIR26-002                               0.0                               0.0   \n",
       "CIR5-002                                0.0                               0.0   \n",
       "CIR55-001                               0.0                               0.0   \n",
       "CIR7-001                                0.0                               0.0   \n",
       "\n",
       "           00b990effdb1e3547be73fc221c47da9  00bf884546e085e1d7341e1b4d5b4c7f  \\\n",
       "TW-CO-002                             0.000                               0.0   \n",
       "TW-BT-001                             0.000                               0.0   \n",
       "TW-CA-002                             0.000                               0.0   \n",
       "TW-BD-002                             0.000                               0.0   \n",
       "TW-AV-001                             0.000                               0.0   \n",
       "...                                     ...                               ...   \n",
       "CIR55-002                             0.000                               0.0   \n",
       "CIR26-002                             0.000                               0.0   \n",
       "CIR5-002                              0.000                               0.0   \n",
       "CIR55-001                             0.000                               0.0   \n",
       "CIR7-001                           7260.612                               0.0   \n",
       "\n",
       "           00d4834e98bff02228bc6022ad218b38  013d75d35d7937c40332f8492e0ac45d  \\\n",
       "TW-CO-002                         6801.6965                               0.0   \n",
       "TW-BT-001                        33493.3525                               0.0   \n",
       "TW-CA-002                         6085.2110                               0.0   \n",
       "TW-BD-002                        21150.3350                               0.0   \n",
       "TW-AV-001                        70305.9355                               0.0   \n",
       "...                                     ...                               ...   \n",
       "CIR55-002                        37283.7365                               0.0   \n",
       "CIR26-002                            0.0000                               0.0   \n",
       "CIR5-002                             0.0000                               0.0   \n",
       "CIR55-001                        23233.8275                               0.0   \n",
       "CIR7-001                         30394.2795                               0.0   \n",
       "\n",
       "           0178e96df0dc4d287475a41115a80ff5  018aa6775f054d00a3af02b1f142bd7f  \\\n",
       "TW-CO-002                               0.0                               0.0   \n",
       "TW-BT-001                               0.0                               0.0   \n",
       "TW-CA-002                               0.0                               0.0   \n",
       "TW-BD-002                               0.0                               0.0   \n",
       "TW-AV-001                               0.0                               0.0   \n",
       "...                                     ...                               ...   \n",
       "CIR55-002                               0.0                               0.0   \n",
       "CIR26-002                               0.0                               0.0   \n",
       "CIR5-002                                0.0                               0.0   \n",
       "CIR55-001                               0.0                               0.0   \n",
       "CIR7-001                                0.0                               0.0   \n",
       "\n",
       "           019f30f6e7668fa412b214ddaa35c150  0285b154e241302fc53e9f2aa1cb74f2  \\\n",
       "TW-CO-002                             0.000                            0.0000   \n",
       "TW-BT-001                         76748.562                            0.0000   \n",
       "TW-CA-002                             0.000                            0.0000   \n",
       "TW-BD-002                             0.000                            0.0000   \n",
       "TW-AV-001                        481259.685                            0.0000   \n",
       "...                                     ...                               ...   \n",
       "CIR55-002                             0.000                            0.0000   \n",
       "CIR26-002                             0.000                            0.0000   \n",
       "CIR5-002                              0.000                            0.0000   \n",
       "CIR55-001                             0.000                        17700.4515   \n",
       "CIR7-001                              0.000                            0.0000   \n",
       "\n",
       "           ...  fbda8d94f713b714f135c441853dc12d  \\\n",
       "TW-CO-002  ...                               0.0   \n",
       "TW-BT-001  ...                               0.0   \n",
       "TW-CA-002  ...                               0.0   \n",
       "TW-BD-002  ...                               0.0   \n",
       "TW-AV-001  ...                               0.0   \n",
       "...        ...                               ...   \n",
       "CIR55-002  ...                               0.0   \n",
       "CIR26-002  ...                               0.0   \n",
       "CIR5-002   ...                               0.0   \n",
       "CIR55-001  ...                               0.0   \n",
       "CIR7-001   ...                               0.0   \n",
       "\n",
       "           fc6931386367002a15c8854e10f1411f  fc69c5f3c21f8a3c984509dfa751197a  \\\n",
       "TW-CO-002                              0.00                               0.0   \n",
       "TW-BT-001                              0.00                               0.0   \n",
       "TW-CA-002                              0.00                               0.0   \n",
       "TW-BD-002                              0.00                               0.0   \n",
       "TW-AV-001                          13463.96                               0.0   \n",
       "...                                     ...                               ...   \n",
       "CIR55-002                              0.00                               0.0   \n",
       "CIR26-002                              0.00                               0.0   \n",
       "CIR5-002                               0.00                               0.0   \n",
       "CIR55-001                              0.00                               0.0   \n",
       "CIR7-001                               0.00                               0.0   \n",
       "\n",
       "           fc81ed8373e77dc1051c32775cbe8156  fc9687d47db7ef11369d303f56b588c2  \\\n",
       "TW-CO-002                        16166.5755                             0.000   \n",
       "TW-BT-001                            0.0000                             0.000   \n",
       "TW-CA-002                         6156.0110                             0.000   \n",
       "TW-BD-002                            0.0000                             0.000   \n",
       "TW-AV-001                            0.0000                         10283.259   \n",
       "...                                     ...                               ...   \n",
       "CIR55-002                            0.0000                             0.000   \n",
       "CIR26-002                        16990.6335                             0.000   \n",
       "CIR5-002                             0.0000                             0.000   \n",
       "CIR55-001                            0.0000                             0.000   \n",
       "CIR7-001                             0.0000                             0.000   \n",
       "\n",
       "           fc9ed967c73557234a3a59e5f3921dcb  fd166de6a32d83ea5d14ccf2bb4a04c9  \\\n",
       "TW-CO-002                               0.0                              0.00   \n",
       "TW-BT-001                               0.0                              0.00   \n",
       "TW-CA-002                               0.0                              0.00   \n",
       "TW-BD-002                               0.0                              0.00   \n",
       "TW-AV-001                               0.0                              0.00   \n",
       "...                                     ...                               ...   \n",
       "CIR55-002                               0.0                              0.00   \n",
       "CIR26-002                               0.0                           5090.91   \n",
       "CIR5-002                                0.0                              0.00   \n",
       "CIR55-001                               0.0                              0.00   \n",
       "CIR7-001                                0.0                              0.00   \n",
       "\n",
       "           ff56dd5a9e0f7171e04d3f576d03fd87  ff6c014126b685e755c395c10017f17d  \\\n",
       "TW-CO-002                               0.0                             0.000   \n",
       "TW-BT-001                               0.0                             0.000   \n",
       "TW-CA-002                               0.0                             0.000   \n",
       "TW-BD-002                               0.0                             0.000   \n",
       "TW-AV-001                               0.0                         23794.125   \n",
       "...                                     ...                               ...   \n",
       "CIR55-002                               0.0                             0.000   \n",
       "CIR26-002                               0.0                             0.000   \n",
       "CIR5-002                                0.0                             0.000   \n",
       "CIR55-001                               0.0                             0.000   \n",
       "CIR7-001                                0.0                             0.000   \n",
       "\n",
       "           fff3d0fb371c075ad5340cf5738683da  \n",
       "TW-CO-002                            0.0000  \n",
       "TW-BT-001                            0.0000  \n",
       "TW-CA-002                        76366.6675  \n",
       "TW-BD-002                            0.0000  \n",
       "TW-AV-001                            0.0000  \n",
       "...                                     ...  \n",
       "CIR55-002                            0.0000  \n",
       "CIR26-002                            0.0000  \n",
       "CIR5-002                             0.0000  \n",
       "CIR55-001                            0.0000  \n",
       "CIR7-001                             0.0000  \n",
       "\n",
       "[167 rows x 985 columns]"
      ]
     },
     "execution_count": 36,
     "metadata": {},
     "output_type": "execute_result"
    }
   ],
   "source": [
    "table = qiime2.Artifact.load('./feature_tables/fecal-ft-matched.qza')\n",
    "tablepd = table.view(pd.DataFrame)\n",
    "print(tablepd.shape)\n",
    "tablepd"
   ]
  },
  {
   "cell_type": "markdown",
   "metadata": {},
   "source": [
    "Filtering out samples that are NaN because it does not work with beta diversity."
   ]
  },
  {
   "cell_type": "code",
   "execution_count": null,
   "metadata": {},
   "outputs": [],
   "source": []
  },
  {
   "cell_type": "code",
   "execution_count": null,
   "metadata": {},
   "outputs": [],
   "source": []
  },
  {
   "cell_type": "code",
   "execution_count": null,
   "metadata": {},
   "outputs": [],
   "source": []
  },
  {
   "cell_type": "markdown",
   "metadata": {},
   "source": [
    "### Calculating Alpha Diversity\n",
    "For alpha diversity we will be using Shannon diversity, observed OTUs and Faith's Phylogenetic diversity. For the phylogenetic diversity we will be using the tree fecal-qemistree.qza generated through qemistree."
   ]
  },
  {
   "cell_type": "code",
   "execution_count": 3,
   "metadata": {},
   "outputs": [
    {
     "name": "stdout",
     "output_type": "stream",
     "text": [
      "\u001b[32mSaved SampleData[AlphaDiversity] to: diversity_analysis/tables/alpha_shannon_fecal.qza\u001b[0m\r\n"
     ]
    }
   ],
   "source": [
    "#The alpha diveristy using 'shannon' \n",
    "! qiime diversity alpha \\\n",
    "--i-table ./feature_tables/fecal-ft-matched.qza \\\n",
    "--p-metric shannon \\\n",
    "--o-alpha-diversity diversity_analysis/tables/alpha_shannon_fecal.qza"
   ]
  },
  {
   "cell_type": "code",
   "execution_count": 4,
   "metadata": {},
   "outputs": [
    {
     "name": "stdout",
     "output_type": "stream",
     "text": [
      "\u001b[32mExported diversity_analysis/tables/alpha_shannon_fecal.qza as AlphaDiversityDirectoryFormat to directory diversity_analysis/tables/alpha_shannon_fecal\u001b[0m\r\n"
     ]
    }
   ],
   "source": [
    "! qiime tools export \\\n",
    "--input-path diversity_analysis/tables/alpha_shannon_fecal.qza \\\n",
    "--output-path diversity_analysis/tables/alpha_shannon_fecal"
   ]
  },
  {
   "cell_type": "code",
   "execution_count": 5,
   "metadata": {},
   "outputs": [
    {
     "name": "stdout",
     "output_type": "stream",
     "text": [
      "\u001b[32mSaved SampleData[AlphaDiversity] to: diversity_analysis/tables/alpha_obsotus_fecal.qza\u001b[0m\r\n"
     ]
    }
   ],
   "source": [
    "#The alpha diveristy using 'observed_otus'  \n",
    "! qiime diversity alpha \\\n",
    "--i-table ./feature_tables/fecal-ft-matched.qza \\\n",
    "--p-metric observed_otus \\\n",
    "--o-alpha-diversity diversity_analysis/tables/alpha_obsotus_fecal.qza"
   ]
  },
  {
   "cell_type": "code",
   "execution_count": 6,
   "metadata": {},
   "outputs": [
    {
     "name": "stdout",
     "output_type": "stream",
     "text": [
      "\u001b[32mExported diversity_analysis/tables/alpha_obsotus_fecal.qza as AlphaDiversityDirectoryFormat to directory diversity_analysis/tables/alpha_obsotus_fecal\u001b[0m\r\n"
     ]
    }
   ],
   "source": [
    "! qiime tools export \\\n",
    "--input-path diversity_analysis/tables/alpha_obsotus_fecal.qza \\\n",
    "--output-path diversity_analysis/tables/alpha_obsotus_fecal"
   ]
  },
  {
   "cell_type": "code",
   "execution_count": 7,
   "metadata": {},
   "outputs": [
    {
     "name": "stdout",
     "output_type": "stream",
     "text": [
      "\u001b[32mSaved SampleData[AlphaDiversity] % Properties('phylogenetic') to: diversity_analysis/tables/alpha_faithpd_fecal.qza\u001b[0m\r\n"
     ]
    }
   ],
   "source": [
    "#The alpha diversity using 'Faith PD'\n",
    "! qiime diversity alpha-phylogenetic \\\n",
    "--i-table ./feature_tables/fecal-ft-matched.qza \\\n",
    "--i-phylogeny diversity_analysis/fecal-qemistree.qza \\\n",
    "--p-metric faith_pd \\\n",
    "--o-alpha-diversity diversity_analysis/tables/alpha_faithpd_fecal.qza"
   ]
  },
  {
   "cell_type": "code",
   "execution_count": 8,
   "metadata": {},
   "outputs": [
    {
     "name": "stdout",
     "output_type": "stream",
     "text": [
      "\u001b[32mExported diversity_analysis/tables/alpha_faithpd_fecal.qza as AlphaDiversityDirectoryFormat to directory diversity_analysis/tables/alpha_faithpd_fecal\u001b[0m\r\n"
     ]
    }
   ],
   "source": [
    "! qiime tools export \\\n",
    "--input-path diversity_analysis/tables/alpha_faithpd_fecal.qza \\\n",
    "--output-path diversity_analysis/tables/alpha_faithpd_fecal"
   ]
  },
  {
   "cell_type": "markdown",
   "metadata": {},
   "source": [
    "### 1a. plotting trends in alpha diversity (Shannon's Diversity)"
   ]
  },
  {
   "cell_type": "code",
   "execution_count": 9,
   "metadata": {},
   "outputs": [
    {
     "data": {
      "text/html": [
       "<div>\n",
       "<style scoped>\n",
       "    .dataframe tbody tr th:only-of-type {\n",
       "        vertical-align: middle;\n",
       "    }\n",
       "\n",
       "    .dataframe tbody tr th {\n",
       "        vertical-align: top;\n",
       "    }\n",
       "\n",
       "    .dataframe thead th {\n",
       "        text-align: right;\n",
       "    }\n",
       "</style>\n",
       "<table border=\"1\" class=\"dataframe\">\n",
       "  <thead>\n",
       "    <tr style=\"text-align: right;\">\n",
       "      <th></th>\n",
       "      <th>shannon</th>\n",
       "    </tr>\n",
       "  </thead>\n",
       "  <tbody>\n",
       "    <tr>\n",
       "      <th>TW-CO-002</th>\n",
       "      <td>6.267938</td>\n",
       "    </tr>\n",
       "    <tr>\n",
       "      <th>TW-BT-001</th>\n",
       "      <td>6.226871</td>\n",
       "    </tr>\n",
       "    <tr>\n",
       "      <th>TW-CA-002</th>\n",
       "      <td>5.615113</td>\n",
       "    </tr>\n",
       "    <tr>\n",
       "      <th>TW-BD-002</th>\n",
       "      <td>5.828676</td>\n",
       "    </tr>\n",
       "    <tr>\n",
       "      <th>TW-AV-001</th>\n",
       "      <td>7.112775</td>\n",
       "    </tr>\n",
       "  </tbody>\n",
       "</table>\n",
       "</div>"
      ],
      "text/plain": [
       "            shannon\n",
       "TW-CO-002  6.267938\n",
       "TW-BT-001  6.226871\n",
       "TW-CA-002  5.615113\n",
       "TW-BD-002  5.828676\n",
       "TW-AV-001  7.112775"
      ]
     },
     "execution_count": 9,
     "metadata": {},
     "output_type": "execute_result"
    }
   ],
   "source": [
    "md = pd.read_table('../metadata-matched.tsv',sep='\\t',index_col=0)\n",
    "a_div = pd.read_table('diversity_analysis/tables/alpha_shannon_fecal/alpha-diversity.tsv',\n",
    "                        sep='\\t',index_col=0)\n",
    "a_div.head()"
   ]
  },
  {
   "cell_type": "code",
   "execution_count": 10,
   "metadata": {},
   "outputs": [],
   "source": [
    "# alpha-div\n",
    "a_div['groups'] = [md.loc[idx, 'ATTRIBUTE_groups'] for idx in a_div.index]"
   ]
  },
  {
   "cell_type": "code",
   "execution_count": 11,
   "metadata": {},
   "outputs": [],
   "source": [
    "#saving source data\n",
    "a_div.reset_index().rename(columns={'index':'#SampleID'}).to_csv('./diversity_analysis/tables/alpha_shannon_fecal/source_data_alpha_diversity_fecal_shannon.csv', \n",
    "                                                                sep=',', index=False)"
   ]
  },
  {
   "cell_type": "code",
   "execution_count": 12,
   "metadata": {},
   "outputs": [
    {
     "data": {
      "text/plain": [
       "G1P    48\n",
       "G1R    37\n",
       "G3R    30\n",
       "G3P    22\n",
       "G2P    16\n",
       "G2R    14\n",
       "Name: groups, dtype: int64"
      ]
     },
     "execution_count": 12,
     "metadata": {},
     "output_type": "execute_result"
    }
   ],
   "source": [
    "a_div.groups.value_counts()"
   ]
  },
  {
   "cell_type": "code",
   "execution_count": 14,
   "metadata": {},
   "outputs": [
    {
     "data": {
      "image/png": "[encoded data removed]",
      "text/plain": [
       "<Figure size 432x288 with 1 Axes>"
      ]
     },
     "metadata": {},
     "output_type": "display_data"
    }
   ],
   "source": [
    "sns.set_style(\"ticks\")\n",
    "sns.set_context(\"notebook\", font_scale=1.2, rc={\"lines.linewidth\": 1.2})\n",
    "fig, ax = plt.subplots()\n",
    "fig = sns.boxplot(y='shannon', x='groups', order=['G1P', 'G2P', 'G3P'], data=a_div, \n",
    "           palette={'G1P':'#01AEE8','G2P':'#ffff66','G3P':'#F04D9C'}, ax=ax)\n",
    "ax.set(xlabel='', ylabel=\"Alpha-diversity (Shannon)\")\n",
    "ax.set_xticklabels(['non-NAFLD \\n controls', 'NAFLD \\n without AF', 'NAFLD \\n -cirrhosis'])\n",
    "#ax.set_yticks(np.arange(0, 9, step=1))\n",
    "plt.savefig('diversity_analysis/figures/adiv_shannon_fecal_G1PG2PG3P.pdf', bbox_to_inches='tight')"
   ]
  },
  {
   "cell_type": "code",
   "execution_count": 15,
   "metadata": {},
   "outputs": [],
   "source": [
    "ag1 = [a_div.loc[idx, 'shannon'] for idx in a_div.index if a_div.loc[idx, 'groups'] == 'G1P']\n",
    "ag2 = [a_div.loc[idx, 'shannon'] for idx in a_div.index if a_div.loc[idx, 'groups'] == 'G2P']\n",
    "ag3 = [a_div.loc[idx, 'shannon'] for idx in a_div.index if a_div.loc[idx, 'groups'] == 'G3P']"
   ]
  },
  {
   "cell_type": "code",
   "execution_count": 16,
   "metadata": {
    "scrolled": true
   },
   "outputs": [
    {
     "name": "stdout",
     "output_type": "stream",
     "text": [
      "5.787543030674534\n",
      "6.030202370955665\n",
      "5.7213974410103265\n",
      "KruskalResult(statistic=0.029086538461569944, pvalue=0.8645793773854631)\n",
      "KruskalResult(statistic=0.6372377622377599, pvalue=0.4247128169941652)\n",
      "KruskalResult(statistic=0.40012804097310095, pvalue=0.5270231385945796)\n"
     ]
    }
   ],
   "source": [
    "# kruskal-wallis significance testing\n",
    "print(statistics.median(ag1))\n",
    "print(statistics.median(ag2))\n",
    "print(statistics.median(ag3))\n",
    "print(kruskal(ag1, ag2))\n",
    "print(kruskal(ag2, ag3))\n",
    "print(kruskal(ag1, ag3))"
   ]
  },
  {
   "cell_type": "markdown",
   "metadata": {},
   "source": [
    "When comparing Shannon diversity between our groups there are no significant differences between any groups. We do see a slight increase in diversity for NAFLD w/o AF groups."
   ]
  },
  {
   "cell_type": "markdown",
   "metadata": {},
   "source": [
    "### 1b. plotting trends in Alpha Diversity (observd OTUs)"
   ]
  },
  {
   "cell_type": "code",
   "execution_count": 17,
   "metadata": {},
   "outputs": [
    {
     "data": {
      "text/html": [
       "<div>\n",
       "<style scoped>\n",
       "    .dataframe tbody tr th:only-of-type {\n",
       "        vertical-align: middle;\n",
       "    }\n",
       "\n",
       "    .dataframe tbody tr th {\n",
       "        vertical-align: top;\n",
       "    }\n",
       "\n",
       "    .dataframe thead th {\n",
       "        text-align: right;\n",
       "    }\n",
       "</style>\n",
       "<table border=\"1\" class=\"dataframe\">\n",
       "  <thead>\n",
       "    <tr style=\"text-align: right;\">\n",
       "      <th></th>\n",
       "      <th>observed_otus</th>\n",
       "    </tr>\n",
       "  </thead>\n",
       "  <tbody>\n",
       "    <tr>\n",
       "      <th>TW-CO-002</th>\n",
       "      <td>145</td>\n",
       "    </tr>\n",
       "    <tr>\n",
       "      <th>TW-BT-001</th>\n",
       "      <td>175</td>\n",
       "    </tr>\n",
       "    <tr>\n",
       "      <th>TW-CA-002</th>\n",
       "      <td>107</td>\n",
       "    </tr>\n",
       "    <tr>\n",
       "      <th>TW-BD-002</th>\n",
       "      <td>102</td>\n",
       "    </tr>\n",
       "    <tr>\n",
       "      <th>TW-AV-001</th>\n",
       "      <td>286</td>\n",
       "    </tr>\n",
       "  </tbody>\n",
       "</table>\n",
       "</div>"
      ],
      "text/plain": [
       "           observed_otus\n",
       "TW-CO-002            145\n",
       "TW-BT-001            175\n",
       "TW-CA-002            107\n",
       "TW-BD-002            102\n",
       "TW-AV-001            286"
      ]
     },
     "execution_count": 17,
     "metadata": {},
     "output_type": "execute_result"
    }
   ],
   "source": [
    "a_div = pd.read_table('diversity_analysis/tables/alpha_obsotus_fecal/alpha-diversity.tsv',\n",
    "                        sep='\\t',index_col=0)\n",
    "a_div.head()"
   ]
  },
  {
   "cell_type": "code",
   "execution_count": 18,
   "metadata": {},
   "outputs": [],
   "source": [
    "# alpha-div\n",
    "a_div['groups'] = [md.loc[idx, 'ATTRIBUTE_groups'] for idx in a_div.index]"
   ]
  },
  {
   "cell_type": "code",
   "execution_count": 19,
   "metadata": {},
   "outputs": [],
   "source": [
    "#saving source data\n",
    "a_div.reset_index().rename(columns={'index':'#SampleID'}).to_csv('./diversity_analysis/tables/alpha_obsotus_fecal/source_data_alpha_diversity_fecal_obsotus.csv', \n",
    "                                                                sep=',', index=False)"
   ]
  },
  {
   "cell_type": "code",
   "execution_count": 20,
   "metadata": {},
   "outputs": [
    {
     "data": {
      "text/plain": [
       "G1P    48\n",
       "G1R    37\n",
       "G3R    30\n",
       "G3P    22\n",
       "G2P    16\n",
       "G2R    14\n",
       "Name: groups, dtype: int64"
      ]
     },
     "execution_count": 20,
     "metadata": {},
     "output_type": "execute_result"
    }
   ],
   "source": [
    "a_div.groups.value_counts()"
   ]
  },
  {
   "cell_type": "code",
   "execution_count": 21,
   "metadata": {},
   "outputs": [
    {
     "data": {
      "image/png": "[encoded data removed]",
      "text/plain": [
       "<Figure size 432x288 with 1 Axes>"
      ]
     },
     "metadata": {},
     "output_type": "display_data"
    }
   ],
   "source": [
    "sns.set_style(\"ticks\")\n",
    "sns.set_context(\"notebook\", font_scale=1.2, rc={\"lines.linewidth\": 1.2})\n",
    "fig, ax = plt.subplots()\n",
    "fig = sns.boxplot(y='observed_otus', x='groups', order=['G1P', 'G2P', 'G3P'], data=a_div, \n",
    "           palette={'G1P':'#01AEE8','G2P':'#ffff66','G3P':'#F04D9C'}, ax=ax)\n",
    "ax.set(xlabel='', ylabel=\"Alpha-diversity (Observed OTUs)\")\n",
    "ax.set_xticklabels(['non-NAFLD \\n controls', 'NAFLD \\n without AF', 'NAFLD \\n -cirrhosis'])\n",
    "#ax.set_yticks(np.arange(0, 400, step=50))\n",
    "plt.savefig('diversity_analysis/figures/adiv_obsotus_fecal_G1PG2PG3P.pdf', bbox_to_inches='tight')"
   ]
  },
  {
   "cell_type": "code",
   "execution_count": 22,
   "metadata": {},
   "outputs": [],
   "source": [
    "ag1 = [a_div.loc[idx, 'observed_otus'] for idx in a_div.index if a_div.loc[idx, 'groups'] == 'G1P']\n",
    "ag2 = [a_div.loc[idx, 'observed_otus'] for idx in a_div.index if a_div.loc[idx, 'groups'] == 'G2P']\n",
    "ag3 = [a_div.loc[idx, 'observed_otus'] for idx in a_div.index if a_div.loc[idx, 'groups'] == 'G3P']"
   ]
  },
  {
   "cell_type": "code",
   "execution_count": 23,
   "metadata": {
    "scrolled": true
   },
   "outputs": [
    {
     "name": "stdout",
     "output_type": "stream",
     "text": [
      "112.0\n",
      "127.0\n",
      "118.5\n",
      "KruskalResult(statistic=0.7272633603517448, pvalue=0.39377168068172075)\n",
      "KruskalResult(statistic=0.6140564674216012, pvalue=0.4332645537783911)\n",
      "KruskalResult(statistic=0.010244353277494322, pvalue=0.9193802717168672)\n"
     ]
    }
   ],
   "source": [
    "# kruskal-wallis significance testing\n",
    "print(statistics.median(ag1))\n",
    "print(statistics.median(ag2))\n",
    "print(statistics.median(ag3))\n",
    "print(kruskal(ag1, ag2))\n",
    "print(kruskal(ag2, ag3))\n",
    "print(kruskal(ag1, ag3))"
   ]
  },
  {
   "cell_type": "markdown",
   "metadata": {},
   "source": [
    "Again we see no significant differences when comparing the Obs OTUs between the different disease states. We again see a slight increase in diversity for NAFLD w/o AF patients."
   ]
  },
  {
   "cell_type": "markdown",
   "metadata": {},
   "source": [
    "### 1c. plotting trends in alpha diversity (Faiths PD)"
   ]
  },
  {
   "cell_type": "code",
   "execution_count": 24,
   "metadata": {},
   "outputs": [
    {
     "data": {
      "text/html": [
       "<div>\n",
       "<style scoped>\n",
       "    .dataframe tbody tr th:only-of-type {\n",
       "        vertical-align: middle;\n",
       "    }\n",
       "\n",
       "    .dataframe tbody tr th {\n",
       "        vertical-align: top;\n",
       "    }\n",
       "\n",
       "    .dataframe thead th {\n",
       "        text-align: right;\n",
       "    }\n",
       "</style>\n",
       "<table border=\"1\" class=\"dataframe\">\n",
       "  <thead>\n",
       "    <tr style=\"text-align: right;\">\n",
       "      <th></th>\n",
       "      <th>faith_pd</th>\n",
       "    </tr>\n",
       "  </thead>\n",
       "  <tbody>\n",
       "    <tr>\n",
       "      <th>TW-CO-002</th>\n",
       "      <td>433.091369</td>\n",
       "    </tr>\n",
       "    <tr>\n",
       "      <th>TW-BT-001</th>\n",
       "      <td>508.658320</td>\n",
       "    </tr>\n",
       "    <tr>\n",
       "      <th>TW-CA-002</th>\n",
       "      <td>310.143218</td>\n",
       "    </tr>\n",
       "    <tr>\n",
       "      <th>TW-BD-002</th>\n",
       "      <td>313.025118</td>\n",
       "    </tr>\n",
       "    <tr>\n",
       "      <th>TW-AV-001</th>\n",
       "      <td>727.804168</td>\n",
       "    </tr>\n",
       "  </tbody>\n",
       "</table>\n",
       "</div>"
      ],
      "text/plain": [
       "             faith_pd\n",
       "TW-CO-002  433.091369\n",
       "TW-BT-001  508.658320\n",
       "TW-CA-002  310.143218\n",
       "TW-BD-002  313.025118\n",
       "TW-AV-001  727.804168"
      ]
     },
     "execution_count": 24,
     "metadata": {},
     "output_type": "execute_result"
    }
   ],
   "source": [
    "a_div = pd.read_table('diversity_analysis/tables/alpha_faithpd_fecal/alpha-diversity.tsv',\n",
    "                        sep='\\t',index_col=0)\n",
    "a_div.head()"
   ]
  },
  {
   "cell_type": "code",
   "execution_count": 25,
   "metadata": {},
   "outputs": [],
   "source": [
    "# alpha-div\n",
    "a_div['groups'] = [md.loc[idx, 'ATTRIBUTE_groups'] for idx in a_div.index]"
   ]
  },
  {
   "cell_type": "code",
   "execution_count": 26,
   "metadata": {},
   "outputs": [],
   "source": [
    "#saving source data\n",
    "a_div.reset_index().rename(columns={'index':'#SampleID'}).to_csv('./diversity_analysis/tables/alpha_faithpd_fecal/source_data_alpha_diversity_fecal_faithpd.csv', \n",
    "                                                                sep=',', index=False)"
   ]
  },
  {
   "cell_type": "code",
   "execution_count": 27,
   "metadata": {},
   "outputs": [
    {
     "data": {
      "text/plain": [
       "G1P    48\n",
       "G1R    37\n",
       "G3R    30\n",
       "G3P    22\n",
       "G2P    16\n",
       "G2R    14\n",
       "Name: groups, dtype: int64"
      ]
     },
     "execution_count": 27,
     "metadata": {},
     "output_type": "execute_result"
    }
   ],
   "source": [
    "a_div.groups.value_counts()"
   ]
  },
  {
   "cell_type": "code",
   "execution_count": 28,
   "metadata": {},
   "outputs": [
    {
     "data": {
      "image/png": "[encoded data removed]",
      "text/plain": [
       "<Figure size 432x288 with 1 Axes>"
      ]
     },
     "metadata": {},
     "output_type": "display_data"
    }
   ],
   "source": [
    "sns.set_style(\"ticks\")\n",
    "sns.set_context(\"notebook\", font_scale=1.2, rc={\"lines.linewidth\": 1.2})\n",
    "fig, ax = plt.subplots()\n",
    "fig = sns.boxplot(y='faith_pd', x='groups', order=['G1P', 'G2P', 'G3P'], data=a_div, \n",
    "           palette={'G1P':'#01AEE8','G2P':'#ffff66','G3P':'#F04D9C'}, ax=ax)\n",
    "ax.set(xlabel='', ylabel=\"Alpha-diversity (Faith's PD)\")\n",
    "ax.set_xticklabels(['non-NAFLD \\n controls', 'NAFLD \\n without AF', 'NAFLD \\n -cirrhosis'])\n",
    "#ax.set_yticks(np.arange(0, 900, step=200))\n",
    "plt.savefig('diversity_analysis/figures/adiv_faithpd_fecal_G1PG2PG3P.pdf', bbox_to_inches='tight')"
   ]
  },
  {
   "cell_type": "code",
   "execution_count": 29,
   "metadata": {},
   "outputs": [],
   "source": [
    "ag1 = [a_div.loc[idx, 'faith_pd'] for idx in a_div.index if a_div.loc[idx, 'groups'] == 'G1P']\n",
    "ag2 = [a_div.loc[idx, 'faith_pd'] for idx in a_div.index if a_div.loc[idx, 'groups'] == 'G2P']\n",
    "ag3 = [a_div.loc[idx, 'faith_pd'] for idx in a_div.index if a_div.loc[idx, 'groups'] == 'G3P']"
   ]
  },
  {
   "cell_type": "code",
   "execution_count": 30,
   "metadata": {
    "scrolled": true
   },
   "outputs": [
    {
     "name": "stdout",
     "output_type": "stream",
     "text": [
      "324.2273845781436\n",
      "376.49842626682323\n",
      "354.53135994223237\n",
      "KruskalResult(statistic=0.8367788461538908, pvalue=0.36031965042317704)\n",
      "KruskalResult(statistic=0.5463286713286806, pvalue=0.45982168937653545)\n",
      "KruskalResult(statistic=0.04625480153649164, pvalue=0.8297132929826168)\n"
     ]
    }
   ],
   "source": [
    "# kruskal-wallis significance testing\n",
    "print(statistics.median(ag1))\n",
    "print(statistics.median(ag2))\n",
    "print(statistics.median(ag3))\n",
    "print(kruskal(ag1, ag2))\n",
    "print(kruskal(ag2, ag3))\n",
    "print(kruskal(ag1, ag3))"
   ]
  },
  {
   "cell_type": "markdown",
   "metadata": {},
   "source": [
    "As with the other alpha diversity metrics, we see no significant differences between our groups. All the alphda diversity metrics do share the same trend of an increased diveristy in NAFLD w/o AF patients and non-NAFLD patients having the lowest diversity score."
   ]
  },
  {
   "cell_type": "markdown",
   "metadata": {},
   "source": [
    "## 2. Calculating beta diversity"
   ]
  },
  {
   "cell_type": "markdown",
   "metadata": {},
   "source": [
    "For beta diversity metrics, I will be using Bray-curtis, aichinson, unweighted unifrac and weighted unifrac. I will be using the Min/Max normalized fecal-ft-matched-mnorm.qza table. The same version of the table as for alpha diversity but normalized."
   ]
  },
  {
   "cell_type": "code",
   "execution_count": 44,
   "metadata": {},
   "outputs": [
    {
     "name": "stdout",
     "output_type": "stream",
     "text": [
      "(167, 985)\n"
     ]
    },
    {
     "data": {
      "text/html": [
       "<div>\n",
       "<style scoped>\n",
       "    .dataframe tbody tr th:only-of-type {\n",
       "        vertical-align: middle;\n",
       "    }\n",
       "\n",
       "    .dataframe tbody tr th {\n",
       "        vertical-align: top;\n",
       "    }\n",
       "\n",
       "    .dataframe thead th {\n",
       "        text-align: right;\n",
       "    }\n",
       "</style>\n",
       "<table border=\"1\" class=\"dataframe\">\n",
       "  <thead>\n",
       "    <tr style=\"text-align: right;\">\n",
       "      <th></th>\n",
       "      <th>00130daba4ed7c3091cebe843923b656</th>\n",
       "      <th>0035e736dc271e0ffa69ce089124dd3a</th>\n",
       "      <th>00b990effdb1e3547be73fc221c47da9</th>\n",
       "      <th>00bf884546e085e1d7341e1b4d5b4c7f</th>\n",
       "      <th>00d4834e98bff02228bc6022ad218b38</th>\n",
       "      <th>013d75d35d7937c40332f8492e0ac45d</th>\n",
       "      <th>0178e96df0dc4d287475a41115a80ff5</th>\n",
       "      <th>018aa6775f054d00a3af02b1f142bd7f</th>\n",
       "      <th>019f30f6e7668fa412b214ddaa35c150</th>\n",
       "      <th>0285b154e241302fc53e9f2aa1cb74f2</th>\n",
       "      <th>...</th>\n",
       "      <th>fbda8d94f713b714f135c441853dc12d</th>\n",
       "      <th>fc6931386367002a15c8854e10f1411f</th>\n",
       "      <th>fc69c5f3c21f8a3c984509dfa751197a</th>\n",
       "      <th>fc81ed8373e77dc1051c32775cbe8156</th>\n",
       "      <th>fc9687d47db7ef11369d303f56b588c2</th>\n",
       "      <th>fc9ed967c73557234a3a59e5f3921dcb</th>\n",
       "      <th>fd166de6a32d83ea5d14ccf2bb4a04c9</th>\n",
       "      <th>ff56dd5a9e0f7171e04d3f576d03fd87</th>\n",
       "      <th>ff6c014126b685e755c395c10017f17d</th>\n",
       "      <th>fff3d0fb371c075ad5340cf5738683da</th>\n",
       "    </tr>\n",
       "  </thead>\n",
       "  <tbody>\n",
       "    <tr>\n",
       "      <th>TW-CO-002</th>\n",
       "      <td>0.0</td>\n",
       "      <td>0.0</td>\n",
       "      <td>0.0</td>\n",
       "      <td>0.0</td>\n",
       "      <td>0.068351</td>\n",
       "      <td>0.0</td>\n",
       "      <td>0.0</td>\n",
       "      <td>0.0</td>\n",
       "      <td>0.000000</td>\n",
       "      <td>0.0</td>\n",
       "      <td>...</td>\n",
       "      <td>0.0</td>\n",
       "      <td>0.0</td>\n",
       "      <td>0.0</td>\n",
       "      <td>0.202420</td>\n",
       "      <td>0.0</td>\n",
       "      <td>0.0</td>\n",
       "      <td>0.0</td>\n",
       "      <td>0.0</td>\n",
       "      <td>0.0</td>\n",
       "      <td>0.000000</td>\n",
       "    </tr>\n",
       "    <tr>\n",
       "      <th>TW-BT-001</th>\n",
       "      <td>0.0</td>\n",
       "      <td>0.0</td>\n",
       "      <td>0.0</td>\n",
       "      <td>0.0</td>\n",
       "      <td>0.336579</td>\n",
       "      <td>0.0</td>\n",
       "      <td>0.0</td>\n",
       "      <td>0.0</td>\n",
       "      <td>0.159474</td>\n",
       "      <td>0.0</td>\n",
       "      <td>...</td>\n",
       "      <td>0.0</td>\n",
       "      <td>0.0</td>\n",
       "      <td>0.0</td>\n",
       "      <td>0.000000</td>\n",
       "      <td>0.0</td>\n",
       "      <td>0.0</td>\n",
       "      <td>0.0</td>\n",
       "      <td>0.0</td>\n",
       "      <td>0.0</td>\n",
       "      <td>0.000000</td>\n",
       "    </tr>\n",
       "    <tr>\n",
       "      <th>TW-CA-002</th>\n",
       "      <td>0.0</td>\n",
       "      <td>0.0</td>\n",
       "      <td>0.0</td>\n",
       "      <td>0.0</td>\n",
       "      <td>0.061151</td>\n",
       "      <td>0.0</td>\n",
       "      <td>0.0</td>\n",
       "      <td>0.0</td>\n",
       "      <td>0.000000</td>\n",
       "      <td>0.0</td>\n",
       "      <td>...</td>\n",
       "      <td>0.0</td>\n",
       "      <td>0.0</td>\n",
       "      <td>0.0</td>\n",
       "      <td>0.077079</td>\n",
       "      <td>0.0</td>\n",
       "      <td>0.0</td>\n",
       "      <td>0.0</td>\n",
       "      <td>0.0</td>\n",
       "      <td>0.0</td>\n",
       "      <td>0.925834</td>\n",
       "    </tr>\n",
       "  </tbody>\n",
       "</table>\n",
       "<p>3 rows × 985 columns</p>\n",
       "</div>"
      ],
      "text/plain": [
       "           00130daba4ed7c3091cebe843923b656  0035e736dc271e0ffa69ce089124dd3a  \\\n",
       "TW-CO-002                               0.0                               0.0   \n",
       "TW-BT-001                               0.0                               0.0   \n",
       "TW-CA-002                               0.0                               0.0   \n",
       "\n",
       "           00b990effdb1e3547be73fc221c47da9  00bf884546e085e1d7341e1b4d5b4c7f  \\\n",
       "TW-CO-002                               0.0                               0.0   \n",
       "TW-BT-001                               0.0                               0.0   \n",
       "TW-CA-002                               0.0                               0.0   \n",
       "\n",
       "           00d4834e98bff02228bc6022ad218b38  013d75d35d7937c40332f8492e0ac45d  \\\n",
       "TW-CO-002                          0.068351                               0.0   \n",
       "TW-BT-001                          0.336579                               0.0   \n",
       "TW-CA-002                          0.061151                               0.0   \n",
       "\n",
       "           0178e96df0dc4d287475a41115a80ff5  018aa6775f054d00a3af02b1f142bd7f  \\\n",
       "TW-CO-002                               0.0                               0.0   \n",
       "TW-BT-001                               0.0                               0.0   \n",
       "TW-CA-002                               0.0                               0.0   \n",
       "\n",
       "           019f30f6e7668fa412b214ddaa35c150  0285b154e241302fc53e9f2aa1cb74f2  \\\n",
       "TW-CO-002                          0.000000                               0.0   \n",
       "TW-BT-001                          0.159474                               0.0   \n",
       "TW-CA-002                          0.000000                               0.0   \n",
       "\n",
       "           ...  fbda8d94f713b714f135c441853dc12d  \\\n",
       "TW-CO-002  ...                               0.0   \n",
       "TW-BT-001  ...                               0.0   \n",
       "TW-CA-002  ...                               0.0   \n",
       "\n",
       "           fc6931386367002a15c8854e10f1411f  fc69c5f3c21f8a3c984509dfa751197a  \\\n",
       "TW-CO-002                               0.0                               0.0   \n",
       "TW-BT-001                               0.0                               0.0   \n",
       "TW-CA-002                               0.0                               0.0   \n",
       "\n",
       "           fc81ed8373e77dc1051c32775cbe8156  fc9687d47db7ef11369d303f56b588c2  \\\n",
       "TW-CO-002                          0.202420                               0.0   \n",
       "TW-BT-001                          0.000000                               0.0   \n",
       "TW-CA-002                          0.077079                               0.0   \n",
       "\n",
       "           fc9ed967c73557234a3a59e5f3921dcb  fd166de6a32d83ea5d14ccf2bb4a04c9  \\\n",
       "TW-CO-002                               0.0                               0.0   \n",
       "TW-BT-001                               0.0                               0.0   \n",
       "TW-CA-002                               0.0                               0.0   \n",
       "\n",
       "           ff56dd5a9e0f7171e04d3f576d03fd87  ff6c014126b685e755c395c10017f17d  \\\n",
       "TW-CO-002                               0.0                               0.0   \n",
       "TW-BT-001                               0.0                               0.0   \n",
       "TW-CA-002                               0.0                               0.0   \n",
       "\n",
       "           fff3d0fb371c075ad5340cf5738683da  \n",
       "TW-CO-002                          0.000000  \n",
       "TW-BT-001                          0.000000  \n",
       "TW-CA-002                          0.925834  \n",
       "\n",
       "[3 rows x 985 columns]"
      ]
     },
     "execution_count": 44,
     "metadata": {},
     "output_type": "execute_result"
    }
   ],
   "source": [
    "table = qiime2.Artifact.load('./feature_tables/fecal-ft-matched-mnorm.qza')\n",
    "tablepd = table.view(pd.DataFrame)\n",
    "print(tablepd.shape)\n",
    "tablepd.head(3)"
   ]
  },
  {
   "cell_type": "code",
   "execution_count": 45,
   "metadata": {},
   "outputs": [
    {
     "name": "stdout",
     "output_type": "stream",
     "text": [
      "\u001b[32mSaved DistanceMatrix to: diversity_analysis/tables/beta_braycurtis_fecal.qza\u001b[0m\r\n"
     ]
    }
   ],
   "source": [
    "#The beta diversity using 'bray curtis'  \n",
    "! qiime diversity beta \\\n",
    "--i-table feature_tables/fecal-ft-matched-mnorm.qza \\\n",
    "--p-metric braycurtis \\\n",
    "--o-distance-matrix diversity_analysis/tables/beta_braycurtis_fecal.qza"
   ]
  },
  {
   "cell_type": "code",
   "execution_count": 46,
   "metadata": {},
   "outputs": [
    {
     "name": "stdout",
     "output_type": "stream",
     "text": [
      "\u001b[32mExported diversity_analysis/tables/beta_braycurtis_fecal.qza as DistanceMatrixDirectoryFormat to directory diversity_analysis/tables/beta_braycurtis_fecal\u001b[0m\r\n"
     ]
    }
   ],
   "source": [
    "! qiime tools export \\\n",
    "--input-path diversity_analysis/tables/beta_braycurtis_fecal.qza \\\n",
    "--output-path diversity_analysis/tables/beta_braycurtis_fecal"
   ]
  },
  {
   "cell_type": "code",
   "execution_count": 47,
   "metadata": {},
   "outputs": [
    {
     "name": "stdout",
     "output_type": "stream",
     "text": [
      "\u001b[32mSaved DistanceMatrix to: diversity_analysis/tables/beta_aitchison_fecal.qza\u001b[0m\r\n"
     ]
    }
   ],
   "source": [
    "#The beta diversity using 'aichinson'  \n",
    "! qiime diversity beta \\\n",
    "--i-table feature_tables/fecal-ft-matched-mnorm.qza \\\n",
    "--p-metric aitchison \\\n",
    "--o-distance-matrix diversity_analysis/tables/beta_aitchison_fecal.qza"
   ]
  },
  {
   "cell_type": "code",
   "execution_count": 48,
   "metadata": {},
   "outputs": [
    {
     "name": "stdout",
     "output_type": "stream",
     "text": [
      "\u001b[32mExported diversity_analysis/tables/beta_aitchison_fecal.qza as DistanceMatrixDirectoryFormat to directory diversity_analysis/tables/beta_aitchison_fecal\u001b[0m\r\n"
     ]
    }
   ],
   "source": [
    "! qiime tools export \\\n",
    "--input-path diversity_analysis/tables/beta_aitchison_fecal.qza \\\n",
    "--output-path diversity_analysis/tables/beta_aitchison_fecal"
   ]
  },
  {
   "cell_type": "code",
   "execution_count": 49,
   "metadata": {},
   "outputs": [
    {
     "name": "stdout",
     "output_type": "stream",
     "text": [
      "\u001b[32mSaved DistanceMatrix % Properties('phylogenetic') to: diversity_analysis/tables/beta_uwunifrac_fecal.qza\u001b[0m\r\n"
     ]
    }
   ],
   "source": [
    "#The beta diversity using unweighted unifrac\n",
    "! qiime diversity beta-phylogenetic \\\n",
    "--i-table feature_tables/fecal-ft-matched-mnorm.qza \\\n",
    "--i-phylogeny diversity_analysis/fecal-qemistree.qza \\\n",
    "--p-metric unweighted_unifrac \\\n",
    "--o-distance-matrix diversity_analysis/tables/beta_uwunifrac_fecal.qza"
   ]
  },
  {
   "cell_type": "code",
   "execution_count": 50,
   "metadata": {},
   "outputs": [
    {
     "name": "stdout",
     "output_type": "stream",
     "text": [
      "\u001b[32mExported diversity_analysis/tables/beta_uwunifrac_fecal.qza as DistanceMatrixDirectoryFormat to directory diversity_analysis/tables/beta_uwunifrac_fecal\u001b[0m\r\n"
     ]
    }
   ],
   "source": [
    "! qiime tools export \\\n",
    "--input-path diversity_analysis/tables/beta_uwunifrac_fecal.qza \\\n",
    "--output-path diversity_analysis/tables/beta_uwunifrac_fecal"
   ]
  },
  {
   "cell_type": "code",
   "execution_count": 51,
   "metadata": {},
   "outputs": [
    {
     "name": "stdout",
     "output_type": "stream",
     "text": [
      "\u001b[32mSaved DistanceMatrix % Properties('phylogenetic') to: diversity_analysis/tables/beta_wunifrac_fecal.qza\u001b[0m\r\n"
     ]
    }
   ],
   "source": [
    "#The beta diversity using unweighted unifrac\n",
    "! qiime diversity beta-phylogenetic \\\n",
    "--i-table feature_tables/fecal-ft-matched-mnorm.qza \\\n",
    "--i-phylogeny diversity_analysis//fecal-qemistree.qza \\\n",
    "--p-metric weighted_unifrac \\\n",
    "--o-distance-matrix diversity_analysis/tables/beta_wunifrac_fecal.qza"
   ]
  },
  {
   "cell_type": "code",
   "execution_count": 52,
   "metadata": {},
   "outputs": [
    {
     "name": "stdout",
     "output_type": "stream",
     "text": [
      "\u001b[32mExported diversity_analysis/tables/beta_wunifrac_fecal.qza as DistanceMatrixDirectoryFormat to directory diversity_analysis/tables/beta_wunifrac_fecal\u001b[0m\r\n"
     ]
    }
   ],
   "source": [
    "! qiime tools export \\\n",
    "--input-path diversity_analysis/tables/beta_wunifrac_fecal.qza \\\n",
    "--output-path diversity_analysis/tables/beta_wunifrac_fecal"
   ]
  },
  {
   "cell_type": "code",
   "execution_count": 53,
   "metadata": {},
   "outputs": [],
   "source": [
    "bcdm = ssd.DistanceMatrix.read('diversity_analysis/tables/beta_braycurtis_fecal/distance-matrix.tsv')\n",
    "aidm = ssd.DistanceMatrix.read('diversity_analysis/tables/beta_aitchison_fecal/distance-matrix.tsv')\n",
    "uwdm = ssd.DistanceMatrix.read('diversity_analysis/tables/beta_uwunifrac_fecal/distance-matrix.tsv')\n",
    "wdm = ssd.DistanceMatrix.read('diversity_analysis/tables/beta_wunifrac_fecal/distance-matrix.tsv' )\n",
    "sample_arr = (bcdm.ids)"
   ]
  },
  {
   "cell_type": "code",
   "execution_count": 54,
   "metadata": {},
   "outputs": [],
   "source": [
    "# list of samples in each group\n",
    "sg1 = [idx for idx in sample_arr if md.loc[idx, 'ATTRIBUTE_groups'] == 'G1P']\n",
    "sg2 = [idx for idx in sample_arr if md.loc[idx, 'ATTRIBUTE_groups'] == 'G2P']\n",
    "sg3 = [idx for idx in sample_arr if md.loc[idx, 'ATTRIBUTE_groups'] == 'G3P']"
   ]
  },
  {
   "cell_type": "code",
   "execution_count": 55,
   "metadata": {},
   "outputs": [],
   "source": [
    "# all possible pairs in each group\n",
    "pg1 = list(itertools.combinations(sg1, 2))\n",
    "pg2 = list(itertools.combinations(sg2, 2))\n",
    "pg3 = list(itertools.combinations(sg3, 2))"
   ]
  },
  {
   "cell_type": "code",
   "execution_count": 56,
   "metadata": {},
   "outputs": [
    {
     "data": {
      "text/plain": [
       "231"
      ]
     },
     "execution_count": 56,
     "metadata": {},
     "output_type": "execute_result"
    }
   ],
   "source": [
    "len(pg3)"
   ]
  },
  {
   "cell_type": "code",
   "execution_count": 57,
   "metadata": {},
   "outputs": [],
   "source": [
    "# bray curtis distances\n",
    "bcdg1 = [bcdm[pair] for pair in pg1]\n",
    "bcdg2 = [bcdm[pair] for pair in pg2]\n",
    "bcdg3 = [bcdm[pair] for pair in pg3]"
   ]
  },
  {
   "cell_type": "code",
   "execution_count": 58,
   "metadata": {},
   "outputs": [],
   "source": [
    "#aitchison distances\n",
    "aidg1 = [aidm[pair] for pair in pg1]\n",
    "aidg2 = [aidm[pair] for pair in pg2]\n",
    "aidg3 = [aidm[pair] for pair in pg3]"
   ]
  },
  {
   "cell_type": "code",
   "execution_count": 59,
   "metadata": {},
   "outputs": [],
   "source": [
    "#unweighted unifrac distances\n",
    "uwdg1 = [uwdm[pair] for pair in pg1]\n",
    "uwdg2 = [uwdm[pair] for pair in pg2]\n",
    "uwdg3 = [uwdm[pair] for pair in pg3]"
   ]
  },
  {
   "cell_type": "code",
   "execution_count": 60,
   "metadata": {},
   "outputs": [],
   "source": [
    "#weighted unifrac distances\n",
    "wdg1 = [wdm[pair] for pair in pg1]\n",
    "wdg2 = [wdm[pair] for pair in pg2]\n",
    "wdg3 = [wdm[pair] for pair in pg3]"
   ]
  },
  {
   "cell_type": "code",
   "execution_count": 61,
   "metadata": {},
   "outputs": [],
   "source": [
    "#dataframe to plot bdiv\n",
    "pdf = pd.DataFrame(index=pd.MultiIndex.from_tuples(pg1+pg2+pg3), \n",
    "                   columns=['bray_curtis','aitchison', 'unweighted_unifrac','weighted_unifrac','groups'])\n",
    "# assign groups\n",
    "pdf.groups=['G1P']*len(pg1)+['G2P']*len(pg2)+['G3P']*len(pg3)\n",
    "\n",
    "# assign distances\n",
    "pdf.bray_curtis=bcdg1+bcdg2+bcdg3\n",
    "pdf.aitchison=aidg1+aidg2+aidg3\n",
    "pdf.unweighted_unifrac=uwdg1+uwdg2+uwdg3\n",
    "pdf.weighted_unifrac=wdg1+wdg2+wdg3"
   ]
  },
  {
   "cell_type": "code",
   "execution_count": 62,
   "metadata": {},
   "outputs": [],
   "source": [
    "#save source data\n",
    "pdf.to_csv('diversity_analysis/tables/source_data_beta_diversity_fecal_bc_ai_uw_w.csv')"
   ]
  },
  {
   "cell_type": "markdown",
   "metadata": {},
   "source": [
    "### 2a. plotting beta diversity trends (braycurtis)"
   ]
  },
  {
   "cell_type": "code",
   "execution_count": null,
   "metadata": {},
   "outputs": [],
   "source": []
  },
  {
   "cell_type": "code",
   "execution_count": 63,
   "metadata": {},
   "outputs": [
    {
     "data": {
      "image/png": "[encoded data removed]",
      "text/plain": [
       "<Figure size 432x288 with 1 Axes>"
      ]
     },
     "metadata": {},
     "output_type": "display_data"
    }
   ],
   "source": [
    "sns.set_style(\"ticks\")\n",
    "sns.set_context(\"notebook\", font_scale=1.2, rc={\"lines.linewidth\": 1.2})\n",
    "fig, ax = plt.subplots()\n",
    "fig = sns.boxplot(y='bray_curtis', x='groups', order=['G1P', 'G2P', 'G3P'], data=pdf, \n",
    "           palette={'G1P':'#01AEE8','G2P':'#ffff66','G3P':'#F04D9C'}, ax=ax)\n",
    "ax.set(xlabel='', ylabel=\"Beta-diversity (Bray Curtis)\")\n",
    "ax.set_xticklabels(['non-NAFLD \\n controls', 'NAFLD \\n without AF', 'NAFLD \\n -cirrhosis'])\n",
    "#ax.set_yticks(np.arange(0, 1.1, step=0.2))\n",
    "plt.savefig('diversity_analysis/figures/bdiv_braycurtis_fecal_G1PG2PG3P.pdf', bbox_to_inches='tight')"
   ]
  },
  {
   "cell_type": "code",
   "execution_count": 64,
   "metadata": {},
   "outputs": [
    {
     "name": "stdout",
     "output_type": "stream",
     "text": [
      "0.865698294510862\n",
      "0.8690606414913533\n",
      "0.8436058533870074\n",
      "KruskalResult(statistic=0.3097457398539518, pvalue=0.5778362514320832)\n",
      "KruskalResult(statistic=1.5399461334120588, pvalue=0.2146258232713254)\n",
      "KruskalResult(statistic=1.5616680279454158, pvalue=0.2114211559614767)\n"
     ]
    }
   ],
   "source": [
    "bg1 = [pdf.loc[idx, 'bray_curtis'] for idx in pdf.index if pdf.loc[idx, 'groups'] == 'G1P']\n",
    "bg2 = [pdf.loc[idx, 'bray_curtis'] for idx in pdf.index if pdf.loc[idx, 'groups'] == 'G2P']\n",
    "bg3 = [pdf.loc[idx, 'bray_curtis'] for idx in pdf.index if pdf.loc[idx, 'groups'] == 'G3P']\n",
    "\n",
    "print(statistics.median(bg1))\n",
    "print(statistics.median(bg2))\n",
    "print(statistics.median(bg3))\n",
    "print(kruskal(bg1, bg2))\n",
    "print(kruskal(bg2, bg3))\n",
    "print(kruskal(bg1, bg3))"
   ]
  },
  {
   "cell_type": "markdown",
   "metadata": {},
   "source": [
    "For BrayCurtis we see a slight increase in diversity for NAFLD w/o AF patients, but overall there are no significant differences between the groups."
   ]
  },
  {
   "cell_type": "markdown",
   "metadata": {},
   "source": [
    "### 2b. plotting beta diversity trends (Aitchison)"
   ]
  },
  {
   "cell_type": "code",
   "execution_count": 68,
   "metadata": {},
   "outputs": [
    {
     "data": {
      "image/png": "[encoded data removed]",
      "text/plain": [
       "<Figure size 432x288 with 1 Axes>"
      ]
     },
     "metadata": {},
     "output_type": "display_data"
    }
   ],
   "source": [
    "sns.set_style(\"ticks\")\n",
    "sns.set_context(\"notebook\", font_scale=1.2, rc={\"lines.linewidth\": 1.2})\n",
    "fig, ax = plt.subplots()\n",
    "sns.boxplot(y='aitchison', x='groups', order=['G1P', 'G2P', 'G3P'], data=pdf, \n",
    "           palette={'G1P':'#01AEE8','G2P':'#ffff66','G3P':'#F04D9C'}, ax=ax)\n",
    "ax.set(xlabel='', ylabel=\"Beta-diversity (Aitchison)\")\n",
    "ax.set_xticklabels(['non-NAFLD \\n controls', 'NAFLD \\n without AF', 'NAFLD \\n -cirrhosis'])\n",
    "ax.set_yticks(np.arange(0, 5, step=1),minor = True)\n",
    "plt.savefig('diversity_analysis/figures/bdiv_aitchison_fecal_G1PG2PG3P.pdf', bbox_to_inches='tight')"
   ]
  },
  {
   "cell_type": "code",
   "execution_count": 67,
   "metadata": {},
   "outputs": [
    {
     "name": "stdout",
     "output_type": "stream",
     "text": [
      "3.552419145431296\n",
      "3.968544501288231\n",
      "3.242313533370904\n",
      "KruskalResult(statistic=21.081457790345212, pvalue=4.401668374481417e-06)\n",
      "KruskalResult(statistic=24.639138134592486, pvalue=6.913331029140639e-07)\n",
      "KruskalResult(statistic=2.3961819157057107, pvalue=0.1216317908975507)\n"
     ]
    }
   ],
   "source": [
    "bg1 = [pdf.loc[idx, 'aitchison'] for idx in pdf.index if pdf.loc[idx, 'groups'] == 'G1P']\n",
    "bg2 = [pdf.loc[idx, 'aitchison'] for idx in pdf.index if pdf.loc[idx, 'groups'] == 'G2P']\n",
    "bg3 = [pdf.loc[idx, 'aitchison'] for idx in pdf.index if pdf.loc[idx, 'groups'] == 'G3P']\n",
    "\n",
    "print(statistics.median(bg1))\n",
    "print(statistics.median(bg2))\n",
    "print(statistics.median(bg3))\n",
    "print(kruskal(bg1, bg2))\n",
    "print(kruskal(bg2, bg3))\n",
    "print(kruskal(bg1, bg3))"
   ]
  },
  {
   "cell_type": "markdown",
   "metadata": {},
   "source": [
    "For Aitchison we again see the trend of an overall increase in beta diversity with the NAFLD w/o AF patients. Using this metric we do see a signficiant difference between the NAFLD w/o AF patients and both other groups."
   ]
  },
  {
   "cell_type": "markdown",
   "metadata": {},
   "source": [
    "### 2c. plotting beta diversity trends (Unweighted Unifrac)"
   ]
  },
  {
   "cell_type": "code",
   "execution_count": 69,
   "metadata": {},
   "outputs": [
    {
     "data": {
      "image/png": "[encoded data removed]",
      "text/plain": [
       "<Figure size 432x288 with 1 Axes>"
      ]
     },
     "metadata": {},
     "output_type": "display_data"
    }
   ],
   "source": [
    "sns.set_style(\"ticks\")\n",
    "sns.set_context(\"notebook\", font_scale=1.2, rc={\"lines.linewidth\": 1.2})\n",
    "fig, ax = plt.subplots()\n",
    "sns.boxplot(y='unweighted_unifrac', x='groups', order=['G1P', 'G2P', 'G3P'], data=pdf, \n",
    "           palette={'G1P':'#01AEE8','G2P':'#ffff66','G3P':'#F04D9C'}, ax=ax)\n",
    "ax.set(xlabel='', ylabel=\"Beta-diversity (Unweighted UniFrac)\")\n",
    "ax.set_xticklabels(['non-NAFLD \\n controls', 'NAFLD \\n without AF', 'NAFLD \\n -cirrhosis'])\n",
    "ax.set_yticks(np.arange(0.3, 1.1, step=0.1))\n",
    "plt.savefig('diversity_analysis/figures/bdiv_unwunifrac_fecal_G1PG2PG3P.pdf', bbox_to_inches='tight')"
   ]
  },
  {
   "cell_type": "code",
   "execution_count": 70,
   "metadata": {},
   "outputs": [
    {
     "name": "stdout",
     "output_type": "stream",
     "text": [
      "0.7900717211138658\n",
      "0.7759527041644265\n",
      "0.7449163689188714\n",
      "KruskalResult(statistic=1.0368354257871033, pvalue=0.30855861198672413)\n",
      "KruskalResult(statistic=0.9588855273514127, pvalue=0.32746782817502296)\n",
      "KruskalResult(statistic=5.442804723436893, pvalue=0.019649093308334364)\n"
     ]
    }
   ],
   "source": [
    "bg1 = [pdf.loc[idx, 'unweighted_unifrac'] for idx in pdf.index if pdf.loc[idx, 'groups'] == 'G1P']\n",
    "bg2 = [pdf.loc[idx, 'unweighted_unifrac'] for idx in pdf.index if pdf.loc[idx, 'groups'] == 'G2P']\n",
    "bg3 = [pdf.loc[idx, 'unweighted_unifrac'] for idx in pdf.index if pdf.loc[idx, 'groups'] == 'G3P']\n",
    "\n",
    "print(statistics.median(bg1))\n",
    "print(statistics.median(bg2))\n",
    "print(statistics.median(bg3))\n",
    "print(kruskal(bg1, bg2))\n",
    "print(kruskal(bg2, bg3))\n",
    "print(kruskal(bg1, bg3))"
   ]
  },
  {
   "cell_type": "markdown",
   "metadata": {},
   "source": [
    "For unweighted unifrac we again see the decreasing beta diversity as disease state increases. When comparing the groups to one another there is a significant difference between non-NAFLD controls and NAFLD-cirrhosis patients (p<0.05)"
   ]
  },
  {
   "cell_type": "markdown",
   "metadata": {},
   "source": [
    "### 2d. plotting beta diversity trends (Weighted Unifrac)"
   ]
  },
  {
   "cell_type": "code",
   "execution_count": 71,
   "metadata": {},
   "outputs": [
    {
     "data": {
      "image/png": "[encoded data removed]",
      "text/plain": [
       "<Figure size 432x288 with 1 Axes>"
      ]
     },
     "metadata": {},
     "output_type": "display_data"
    }
   ],
   "source": [
    "sns.set_style(\"ticks\")\n",
    "sns.set_context(\"notebook\", font_scale=1.2, rc={\"lines.linewidth\": 1.2})\n",
    "fig, ax = plt.subplots()\n",
    "sns.boxplot(y='weighted_unifrac', x='groups', order=['G1P', 'G2P', 'G3P'], data=pdf, \n",
    "           palette={'G1P':'#01AEE8','G2P':'#ffff66','G3P':'#F04D9C'}, ax=ax)\n",
    "ax.set(xlabel='', ylabel=\"Beta-diversity (Weighted UniFrac)\")\n",
    "ax.set_xticklabels(['non-NAFLD \\n controls', 'NAFLD \\n without AF', 'NAFLD \\n -cirrhosis'])\n",
    "ax.set_yticks(np.arange(2, 13, step=2))\n",
    "plt.savefig('diversity_analysis/figures/bdiv_wunifrac_fecal_G1PG2PG3P.pdf', bbox_to_inches='tight')"
   ]
  },
  {
   "cell_type": "code",
   "execution_count": 72,
   "metadata": {},
   "outputs": [
    {
     "name": "stdout",
     "output_type": "stream",
     "text": [
      "7.738790584308479\n",
      "7.800553264795481\n",
      "7.49030767830556\n",
      "KruskalResult(statistic=0.6685320596902784, pvalue=0.4135638663952371)\n",
      "KruskalResult(statistic=0.2751488095238983, pvalue=0.5998986330488649)\n",
      "KruskalResult(statistic=2.6504115330844797, pvalue=0.10352309275976684)\n"
     ]
    }
   ],
   "source": [
    "bg1 = [pdf.loc[idx, 'weighted_unifrac'] for idx in pdf.index if pdf.loc[idx, 'groups'] == 'G1P']\n",
    "bg2 = [pdf.loc[idx, 'weighted_unifrac'] for idx in pdf.index if pdf.loc[idx, 'groups'] == 'G2P']\n",
    "bg3 = [pdf.loc[idx, 'weighted_unifrac'] for idx in pdf.index if pdf.loc[idx, 'groups'] == 'G3P']\n",
    "\n",
    "print(statistics.median(bg1))\n",
    "print(statistics.median(bg2))\n",
    "print(statistics.median(bg3))\n",
    "print(kruskal(bg1, bg2))\n",
    "print(kruskal(bg2, bg3))\n",
    "print(kruskal(bg1, bg3))"
   ]
  },
  {
   "cell_type": "markdown",
   "metadata": {},
   "source": [
    "When measuring beta diversity using weighted unifrac, non-NAFLD has the lowest mean and the NAFLD w/o AF has the highest mean. When comparing groups, the only comparison with significant difference is between non-NAFLD and NAFLD-cirrhosis (p<0.05)"
   ]
  },
  {
   "cell_type": "markdown",
   "metadata": {},
   "source": [
    "## Future Directions\n",
    "For the most part this analysis is done. All the important diversity metrics were used, so now it is just a matter of choosing the important ones. Will also have to compare these results to the diversity analysis of the fecal microbiome and the serum metabolome."
   ]
  },
  {
   "cell_type": "code",
   "execution_count": null,
   "metadata": {},
   "outputs": [],
   "source": []
  }
 ],
 "metadata": {
  "kernelspec": {
   "display_name": "Python 3",
   "language": "python",
   "name": "python3"
  },
  "language_info": {
   "codemirror_mode": {
    "name": "ipython",
    "version": 3
   },
   "file_extension": ".py",
   "mimetype": "text/x-python",
   "name": "python",
   "nbconvert_exporter": "python",
   "pygments_lexer": "ipython3",
   "version": "3.6.7"
  }
 },
 "nbformat": 4,
 "nbformat_minor": 2
}
