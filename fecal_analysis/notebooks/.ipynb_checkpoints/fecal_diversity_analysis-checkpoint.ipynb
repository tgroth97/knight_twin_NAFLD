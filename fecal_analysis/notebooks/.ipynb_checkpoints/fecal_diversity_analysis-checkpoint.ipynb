{
 "cells": [
  {
   "cell_type": "markdown",
   "metadata": {},
   "source": [
    "# Nobel Twin Familial Cirrhosis Diversity Fecal Analysis\n",
    "Notebook for performing diversity analysis on the fecal metabolite files from the twin NAFLD study. Looking to compare the non-NAFLD, NAFLD w/o AF and NALFD-cirrhosis groups. Based on the diversity analysis run on the serum files by Stephany Z. Flores-Ramos (sflores@ucsd.edu). The files themselves cam from Alexander's contact Ondrej Libiger (OLibiger@its.jnj.com). The table that I will be using are from qemistree output is fecal-feature-table-hashed.qza and the tree I will be using for phylogenetic metrics is fecal_qemistree.qza"
   ]
  },
  {
   "cell_type": "code",
   "execution_count": 1,
   "metadata": {},
   "outputs": [],
   "source": [
    "#import plugins \n",
    "\n",
    "import qiime2\n",
    "import pandas as pd\n",
    "import biom\n",
    "import itertools\n",
    "import seaborn as sns\n",
    "import numpy as np\n",
    "import skbio.stats.distance as ssd\n",
    "from scipy.stats import kruskal\n",
    "import matplotlib.pyplot as plt\n",
    "import os\n",
    "\n",
    "%matplotlib inline\n",
    "os.chdir('/Users/tgroth/Google Drive/knight_twin_NAFLD/fecal_analysis')"
   ]
  },
  {
   "cell_type": "code",
   "execution_count": null,
   "metadata": {},
   "outputs": [],
   "source": []
  },
  {
   "cell_type": "code",
   "execution_count": 2,
   "metadata": {},
   "outputs": [
    {
     "data": {
      "text/html": [
       "<div>\n",
       "<style scoped>\n",
       "    .dataframe tbody tr th:only-of-type {\n",
       "        vertical-align: middle;\n",
       "    }\n",
       "\n",
       "    .dataframe tbody tr th {\n",
       "        vertical-align: top;\n",
       "    }\n",
       "\n",
       "    .dataframe thead th {\n",
       "        text-align: right;\n",
       "    }\n",
       "</style>\n",
       "<table border=\"1\" class=\"dataframe\">\n",
       "  <thead>\n",
       "    <tr style=\"text-align: right;\">\n",
       "      <th></th>\n",
       "      <th>00130daba4ed7c3091cebe843923b656</th>\n",
       "      <th>0035e736dc271e0ffa69ce089124dd3a</th>\n",
       "      <th>00b990effdb1e3547be73fc221c47da9</th>\n",
       "      <th>00bf884546e085e1d7341e1b4d5b4c7f</th>\n",
       "      <th>00d4834e98bff02228bc6022ad218b38</th>\n",
       "      <th>013d75d35d7937c40332f8492e0ac45d</th>\n",
       "      <th>0178e96df0dc4d287475a41115a80ff5</th>\n",
       "      <th>018aa6775f054d00a3af02b1f142bd7f</th>\n",
       "      <th>019f30f6e7668fa412b214ddaa35c150</th>\n",
       "      <th>0285b154e241302fc53e9f2aa1cb74f2</th>\n",
       "      <th>...</th>\n",
       "      <th>fbda8d94f713b714f135c441853dc12d</th>\n",
       "      <th>fc6931386367002a15c8854e10f1411f</th>\n",
       "      <th>fc69c5f3c21f8a3c984509dfa751197a</th>\n",
       "      <th>fc81ed8373e77dc1051c32775cbe8156</th>\n",
       "      <th>fc9687d47db7ef11369d303f56b588c2</th>\n",
       "      <th>fc9ed967c73557234a3a59e5f3921dcb</th>\n",
       "      <th>fd166de6a32d83ea5d14ccf2bb4a04c9</th>\n",
       "      <th>ff56dd5a9e0f7171e04d3f576d03fd87</th>\n",
       "      <th>ff6c014126b685e755c395c10017f17d</th>\n",
       "      <th>fff3d0fb371c075ad5340cf5738683da</th>\n",
       "    </tr>\n",
       "  </thead>\n",
       "  <tbody>\n",
       "    <tr>\n",
       "      <th>TW-CO-002_BG5_01_29911.mzXML</th>\n",
       "      <td>0.0</td>\n",
       "      <td>0.0</td>\n",
       "      <td>0.000</td>\n",
       "      <td>0.0</td>\n",
       "      <td>6801.6965</td>\n",
       "      <td>0.0</td>\n",
       "      <td>0.0</td>\n",
       "      <td>0.0</td>\n",
       "      <td>0.000</td>\n",
       "      <td>0.0000</td>\n",
       "      <td>...</td>\n",
       "      <td>0.0</td>\n",
       "      <td>0.0</td>\n",
       "      <td>0.0</td>\n",
       "      <td>16166.5755</td>\n",
       "      <td>0.0</td>\n",
       "      <td>0.0</td>\n",
       "      <td>0.00</td>\n",
       "      <td>0.0</td>\n",
       "      <td>0.0</td>\n",
       "      <td>0.0000</td>\n",
       "    </tr>\n",
       "    <tr>\n",
       "      <th>TW-BT-001_BC11_01_29853.mzXML</th>\n",
       "      <td>0.0</td>\n",
       "      <td>0.0</td>\n",
       "      <td>0.000</td>\n",
       "      <td>0.0</td>\n",
       "      <td>33493.3525</td>\n",
       "      <td>0.0</td>\n",
       "      <td>0.0</td>\n",
       "      <td>0.0</td>\n",
       "      <td>76748.562</td>\n",
       "      <td>0.0000</td>\n",
       "      <td>...</td>\n",
       "      <td>0.0</td>\n",
       "      <td>0.0</td>\n",
       "      <td>0.0</td>\n",
       "      <td>0.0000</td>\n",
       "      <td>0.0</td>\n",
       "      <td>0.0</td>\n",
       "      <td>0.00</td>\n",
       "      <td>0.0</td>\n",
       "      <td>0.0</td>\n",
       "      <td>0.0000</td>\n",
       "    </tr>\n",
       "    <tr>\n",
       "      <th>TW-CA-002_RC6_01_29817.mzXML</th>\n",
       "      <td>0.0</td>\n",
       "      <td>0.0</td>\n",
       "      <td>0.000</td>\n",
       "      <td>0.0</td>\n",
       "      <td>6085.2110</td>\n",
       "      <td>0.0</td>\n",
       "      <td>0.0</td>\n",
       "      <td>0.0</td>\n",
       "      <td>0.000</td>\n",
       "      <td>0.0000</td>\n",
       "      <td>...</td>\n",
       "      <td>0.0</td>\n",
       "      <td>0.0</td>\n",
       "      <td>0.0</td>\n",
       "      <td>6156.0110</td>\n",
       "      <td>0.0</td>\n",
       "      <td>0.0</td>\n",
       "      <td>0.00</td>\n",
       "      <td>0.0</td>\n",
       "      <td>0.0</td>\n",
       "      <td>76366.6675</td>\n",
       "    </tr>\n",
       "    <tr>\n",
       "      <th>TW-BD-002_BC4_01_29860.mzXML</th>\n",
       "      <td>0.0</td>\n",
       "      <td>0.0</td>\n",
       "      <td>0.000</td>\n",
       "      <td>0.0</td>\n",
       "      <td>21150.3350</td>\n",
       "      <td>0.0</td>\n",
       "      <td>0.0</td>\n",
       "      <td>0.0</td>\n",
       "      <td>0.000</td>\n",
       "      <td>0.0000</td>\n",
       "      <td>...</td>\n",
       "      <td>0.0</td>\n",
       "      <td>0.0</td>\n",
       "      <td>0.0</td>\n",
       "      <td>0.0000</td>\n",
       "      <td>0.0</td>\n",
       "      <td>0.0</td>\n",
       "      <td>0.00</td>\n",
       "      <td>0.0</td>\n",
       "      <td>0.0</td>\n",
       "      <td>0.0000</td>\n",
       "    </tr>\n",
       "    <tr>\n",
       "      <th>TW-AQ-002_RNA_BF4_01_29899.mzXML</th>\n",
       "      <td>0.0</td>\n",
       "      <td>0.0</td>\n",
       "      <td>0.000</td>\n",
       "      <td>0.0</td>\n",
       "      <td>10093.3190</td>\n",
       "      <td>0.0</td>\n",
       "      <td>0.0</td>\n",
       "      <td>0.0</td>\n",
       "      <td>0.000</td>\n",
       "      <td>0.0000</td>\n",
       "      <td>...</td>\n",
       "      <td>0.0</td>\n",
       "      <td>0.0</td>\n",
       "      <td>0.0</td>\n",
       "      <td>0.0000</td>\n",
       "      <td>0.0</td>\n",
       "      <td>0.0</td>\n",
       "      <td>0.00</td>\n",
       "      <td>0.0</td>\n",
       "      <td>0.0</td>\n",
       "      <td>0.0000</td>\n",
       "    </tr>\n",
       "    <tr>\n",
       "      <th>...</th>\n",
       "      <td>...</td>\n",
       "      <td>...</td>\n",
       "      <td>...</td>\n",
       "      <td>...</td>\n",
       "      <td>...</td>\n",
       "      <td>...</td>\n",
       "      <td>...</td>\n",
       "      <td>...</td>\n",
       "      <td>...</td>\n",
       "      <td>...</td>\n",
       "      <td>...</td>\n",
       "      <td>...</td>\n",
       "      <td>...</td>\n",
       "      <td>...</td>\n",
       "      <td>...</td>\n",
       "      <td>...</td>\n",
       "      <td>...</td>\n",
       "      <td>...</td>\n",
       "      <td>...</td>\n",
       "      <td>...</td>\n",
       "      <td>...</td>\n",
       "    </tr>\n",
       "    <tr>\n",
       "      <th>CIR26-002_BE8_01_29882.mzXML</th>\n",
       "      <td>0.0</td>\n",
       "      <td>0.0</td>\n",
       "      <td>0.000</td>\n",
       "      <td>0.0</td>\n",
       "      <td>0.0000</td>\n",
       "      <td>0.0</td>\n",
       "      <td>0.0</td>\n",
       "      <td>0.0</td>\n",
       "      <td>0.000</td>\n",
       "      <td>0.0000</td>\n",
       "      <td>...</td>\n",
       "      <td>0.0</td>\n",
       "      <td>0.0</td>\n",
       "      <td>0.0</td>\n",
       "      <td>16990.6335</td>\n",
       "      <td>0.0</td>\n",
       "      <td>0.0</td>\n",
       "      <td>5090.91</td>\n",
       "      <td>0.0</td>\n",
       "      <td>0.0</td>\n",
       "      <td>0.0000</td>\n",
       "    </tr>\n",
       "    <tr>\n",
       "      <th>CIR5-002_RD5_01_29726.mzXML</th>\n",
       "      <td>0.0</td>\n",
       "      <td>0.0</td>\n",
       "      <td>0.000</td>\n",
       "      <td>0.0</td>\n",
       "      <td>0.0000</td>\n",
       "      <td>0.0</td>\n",
       "      <td>0.0</td>\n",
       "      <td>0.0</td>\n",
       "      <td>0.000</td>\n",
       "      <td>0.0000</td>\n",
       "      <td>...</td>\n",
       "      <td>0.0</td>\n",
       "      <td>0.0</td>\n",
       "      <td>0.0</td>\n",
       "      <td>0.0000</td>\n",
       "      <td>0.0</td>\n",
       "      <td>0.0</td>\n",
       "      <td>0.00</td>\n",
       "      <td>0.0</td>\n",
       "      <td>0.0</td>\n",
       "      <td>0.0000</td>\n",
       "    </tr>\n",
       "    <tr>\n",
       "      <th>CIR55-001_BD7_01_29870.mzXML</th>\n",
       "      <td>0.0</td>\n",
       "      <td>0.0</td>\n",
       "      <td>0.000</td>\n",
       "      <td>0.0</td>\n",
       "      <td>23233.8275</td>\n",
       "      <td>0.0</td>\n",
       "      <td>0.0</td>\n",
       "      <td>0.0</td>\n",
       "      <td>0.000</td>\n",
       "      <td>17700.4515</td>\n",
       "      <td>...</td>\n",
       "      <td>0.0</td>\n",
       "      <td>0.0</td>\n",
       "      <td>0.0</td>\n",
       "      <td>0.0000</td>\n",
       "      <td>0.0</td>\n",
       "      <td>0.0</td>\n",
       "      <td>0.00</td>\n",
       "      <td>0.0</td>\n",
       "      <td>0.0</td>\n",
       "      <td>0.0000</td>\n",
       "    </tr>\n",
       "    <tr>\n",
       "      <th>CIR7-001_BB6_01_29845.mzXML</th>\n",
       "      <td>0.0</td>\n",
       "      <td>0.0</td>\n",
       "      <td>7260.612</td>\n",
       "      <td>0.0</td>\n",
       "      <td>30394.2795</td>\n",
       "      <td>0.0</td>\n",
       "      <td>0.0</td>\n",
       "      <td>0.0</td>\n",
       "      <td>0.000</td>\n",
       "      <td>0.0000</td>\n",
       "      <td>...</td>\n",
       "      <td>0.0</td>\n",
       "      <td>0.0</td>\n",
       "      <td>0.0</td>\n",
       "      <td>0.0000</td>\n",
       "      <td>0.0</td>\n",
       "      <td>0.0</td>\n",
       "      <td>0.00</td>\n",
       "      <td>0.0</td>\n",
       "      <td>0.0</td>\n",
       "      <td>0.0000</td>\n",
       "    </tr>\n",
       "    <tr>\n",
       "      <th>CIR5-003_RF6_01_29753.mzXML</th>\n",
       "      <td>0.0</td>\n",
       "      <td>0.0</td>\n",
       "      <td>0.000</td>\n",
       "      <td>0.0</td>\n",
       "      <td>0.0000</td>\n",
       "      <td>0.0</td>\n",
       "      <td>0.0</td>\n",
       "      <td>0.0</td>\n",
       "      <td>0.000</td>\n",
       "      <td>0.0000</td>\n",
       "      <td>...</td>\n",
       "      <td>0.0</td>\n",
       "      <td>0.0</td>\n",
       "      <td>0.0</td>\n",
       "      <td>0.0000</td>\n",
       "      <td>0.0</td>\n",
       "      <td>0.0</td>\n",
       "      <td>0.00</td>\n",
       "      <td>0.0</td>\n",
       "      <td>0.0</td>\n",
       "      <td>0.0000</td>\n",
       "    </tr>\n",
       "  </tbody>\n",
       "</table>\n",
       "<p>206 rows × 987 columns</p>\n",
       "</div>"
      ],
      "text/plain": [
       "                                  00130daba4ed7c3091cebe843923b656  \\\n",
       "TW-CO-002_BG5_01_29911.mzXML                                   0.0   \n",
       "TW-BT-001_BC11_01_29853.mzXML                                  0.0   \n",
       "TW-CA-002_RC6_01_29817.mzXML                                   0.0   \n",
       "TW-BD-002_BC4_01_29860.mzXML                                   0.0   \n",
       "TW-AQ-002_RNA_BF4_01_29899.mzXML                               0.0   \n",
       "...                                                            ...   \n",
       "CIR26-002_BE8_01_29882.mzXML                                   0.0   \n",
       "CIR5-002_RD5_01_29726.mzXML                                    0.0   \n",
       "CIR55-001_BD7_01_29870.mzXML                                   0.0   \n",
       "CIR7-001_BB6_01_29845.mzXML                                    0.0   \n",
       "CIR5-003_RF6_01_29753.mzXML                                    0.0   \n",
       "\n",
       "                                  0035e736dc271e0ffa69ce089124dd3a  \\\n",
       "TW-CO-002_BG5_01_29911.mzXML                                   0.0   \n",
       "TW-BT-001_BC11_01_29853.mzXML                                  0.0   \n",
       "TW-CA-002_RC6_01_29817.mzXML                                   0.0   \n",
       "TW-BD-002_BC4_01_29860.mzXML                                   0.0   \n",
       "TW-AQ-002_RNA_BF4_01_29899.mzXML                               0.0   \n",
       "...                                                            ...   \n",
       "CIR26-002_BE8_01_29882.mzXML                                   0.0   \n",
       "CIR5-002_RD5_01_29726.mzXML                                    0.0   \n",
       "CIR55-001_BD7_01_29870.mzXML                                   0.0   \n",
       "CIR7-001_BB6_01_29845.mzXML                                    0.0   \n",
       "CIR5-003_RF6_01_29753.mzXML                                    0.0   \n",
       "\n",
       "                                  00b990effdb1e3547be73fc221c47da9  \\\n",
       "TW-CO-002_BG5_01_29911.mzXML                                 0.000   \n",
       "TW-BT-001_BC11_01_29853.mzXML                                0.000   \n",
       "TW-CA-002_RC6_01_29817.mzXML                                 0.000   \n",
       "TW-BD-002_BC4_01_29860.mzXML                                 0.000   \n",
       "TW-AQ-002_RNA_BF4_01_29899.mzXML                             0.000   \n",
       "...                                                            ...   \n",
       "CIR26-002_BE8_01_29882.mzXML                                 0.000   \n",
       "CIR5-002_RD5_01_29726.mzXML                                  0.000   \n",
       "CIR55-001_BD7_01_29870.mzXML                                 0.000   \n",
       "CIR7-001_BB6_01_29845.mzXML                               7260.612   \n",
       "CIR5-003_RF6_01_29753.mzXML                                  0.000   \n",
       "\n",
       "                                  00bf884546e085e1d7341e1b4d5b4c7f  \\\n",
       "TW-CO-002_BG5_01_29911.mzXML                                   0.0   \n",
       "TW-BT-001_BC11_01_29853.mzXML                                  0.0   \n",
       "TW-CA-002_RC6_01_29817.mzXML                                   0.0   \n",
       "TW-BD-002_BC4_01_29860.mzXML                                   0.0   \n",
       "TW-AQ-002_RNA_BF4_01_29899.mzXML                               0.0   \n",
       "...                                                            ...   \n",
       "CIR26-002_BE8_01_29882.mzXML                                   0.0   \n",
       "CIR5-002_RD5_01_29726.mzXML                                    0.0   \n",
       "CIR55-001_BD7_01_29870.mzXML                                   0.0   \n",
       "CIR7-001_BB6_01_29845.mzXML                                    0.0   \n",
       "CIR5-003_RF6_01_29753.mzXML                                    0.0   \n",
       "\n",
       "                                  00d4834e98bff02228bc6022ad218b38  \\\n",
       "TW-CO-002_BG5_01_29911.mzXML                             6801.6965   \n",
       "TW-BT-001_BC11_01_29853.mzXML                           33493.3525   \n",
       "TW-CA-002_RC6_01_29817.mzXML                             6085.2110   \n",
       "TW-BD-002_BC4_01_29860.mzXML                            21150.3350   \n",
       "TW-AQ-002_RNA_BF4_01_29899.mzXML                        10093.3190   \n",
       "...                                                            ...   \n",
       "CIR26-002_BE8_01_29882.mzXML                                0.0000   \n",
       "CIR5-002_RD5_01_29726.mzXML                                 0.0000   \n",
       "CIR55-001_BD7_01_29870.mzXML                            23233.8275   \n",
       "CIR7-001_BB6_01_29845.mzXML                             30394.2795   \n",
       "CIR5-003_RF6_01_29753.mzXML                                 0.0000   \n",
       "\n",
       "                                  013d75d35d7937c40332f8492e0ac45d  \\\n",
       "TW-CO-002_BG5_01_29911.mzXML                                   0.0   \n",
       "TW-BT-001_BC11_01_29853.mzXML                                  0.0   \n",
       "TW-CA-002_RC6_01_29817.mzXML                                   0.0   \n",
       "TW-BD-002_BC4_01_29860.mzXML                                   0.0   \n",
       "TW-AQ-002_RNA_BF4_01_29899.mzXML                               0.0   \n",
       "...                                                            ...   \n",
       "CIR26-002_BE8_01_29882.mzXML                                   0.0   \n",
       "CIR5-002_RD5_01_29726.mzXML                                    0.0   \n",
       "CIR55-001_BD7_01_29870.mzXML                                   0.0   \n",
       "CIR7-001_BB6_01_29845.mzXML                                    0.0   \n",
       "CIR5-003_RF6_01_29753.mzXML                                    0.0   \n",
       "\n",
       "                                  0178e96df0dc4d287475a41115a80ff5  \\\n",
       "TW-CO-002_BG5_01_29911.mzXML                                   0.0   \n",
       "TW-BT-001_BC11_01_29853.mzXML                                  0.0   \n",
       "TW-CA-002_RC6_01_29817.mzXML                                   0.0   \n",
       "TW-BD-002_BC4_01_29860.mzXML                                   0.0   \n",
       "TW-AQ-002_RNA_BF4_01_29899.mzXML                               0.0   \n",
       "...                                                            ...   \n",
       "CIR26-002_BE8_01_29882.mzXML                                   0.0   \n",
       "CIR5-002_RD5_01_29726.mzXML                                    0.0   \n",
       "CIR55-001_BD7_01_29870.mzXML                                   0.0   \n",
       "CIR7-001_BB6_01_29845.mzXML                                    0.0   \n",
       "CIR5-003_RF6_01_29753.mzXML                                    0.0   \n",
       "\n",
       "                                  018aa6775f054d00a3af02b1f142bd7f  \\\n",
       "TW-CO-002_BG5_01_29911.mzXML                                   0.0   \n",
       "TW-BT-001_BC11_01_29853.mzXML                                  0.0   \n",
       "TW-CA-002_RC6_01_29817.mzXML                                   0.0   \n",
       "TW-BD-002_BC4_01_29860.mzXML                                   0.0   \n",
       "TW-AQ-002_RNA_BF4_01_29899.mzXML                               0.0   \n",
       "...                                                            ...   \n",
       "CIR26-002_BE8_01_29882.mzXML                                   0.0   \n",
       "CIR5-002_RD5_01_29726.mzXML                                    0.0   \n",
       "CIR55-001_BD7_01_29870.mzXML                                   0.0   \n",
       "CIR7-001_BB6_01_29845.mzXML                                    0.0   \n",
       "CIR5-003_RF6_01_29753.mzXML                                    0.0   \n",
       "\n",
       "                                  019f30f6e7668fa412b214ddaa35c150  \\\n",
       "TW-CO-002_BG5_01_29911.mzXML                                 0.000   \n",
       "TW-BT-001_BC11_01_29853.mzXML                            76748.562   \n",
       "TW-CA-002_RC6_01_29817.mzXML                                 0.000   \n",
       "TW-BD-002_BC4_01_29860.mzXML                                 0.000   \n",
       "TW-AQ-002_RNA_BF4_01_29899.mzXML                             0.000   \n",
       "...                                                            ...   \n",
       "CIR26-002_BE8_01_29882.mzXML                                 0.000   \n",
       "CIR5-002_RD5_01_29726.mzXML                                  0.000   \n",
       "CIR55-001_BD7_01_29870.mzXML                                 0.000   \n",
       "CIR7-001_BB6_01_29845.mzXML                                  0.000   \n",
       "CIR5-003_RF6_01_29753.mzXML                                  0.000   \n",
       "\n",
       "                                  0285b154e241302fc53e9f2aa1cb74f2  ...  \\\n",
       "TW-CO-002_BG5_01_29911.mzXML                                0.0000  ...   \n",
       "TW-BT-001_BC11_01_29853.mzXML                               0.0000  ...   \n",
       "TW-CA-002_RC6_01_29817.mzXML                                0.0000  ...   \n",
       "TW-BD-002_BC4_01_29860.mzXML                                0.0000  ...   \n",
       "TW-AQ-002_RNA_BF4_01_29899.mzXML                            0.0000  ...   \n",
       "...                                                            ...  ...   \n",
       "CIR26-002_BE8_01_29882.mzXML                                0.0000  ...   \n",
       "CIR5-002_RD5_01_29726.mzXML                                 0.0000  ...   \n",
       "CIR55-001_BD7_01_29870.mzXML                            17700.4515  ...   \n",
       "CIR7-001_BB6_01_29845.mzXML                                 0.0000  ...   \n",
       "CIR5-003_RF6_01_29753.mzXML                                 0.0000  ...   \n",
       "\n",
       "                                  fbda8d94f713b714f135c441853dc12d  \\\n",
       "TW-CO-002_BG5_01_29911.mzXML                                   0.0   \n",
       "TW-BT-001_BC11_01_29853.mzXML                                  0.0   \n",
       "TW-CA-002_RC6_01_29817.mzXML                                   0.0   \n",
       "TW-BD-002_BC4_01_29860.mzXML                                   0.0   \n",
       "TW-AQ-002_RNA_BF4_01_29899.mzXML                               0.0   \n",
       "...                                                            ...   \n",
       "CIR26-002_BE8_01_29882.mzXML                                   0.0   \n",
       "CIR5-002_RD5_01_29726.mzXML                                    0.0   \n",
       "CIR55-001_BD7_01_29870.mzXML                                   0.0   \n",
       "CIR7-001_BB6_01_29845.mzXML                                    0.0   \n",
       "CIR5-003_RF6_01_29753.mzXML                                    0.0   \n",
       "\n",
       "                                  fc6931386367002a15c8854e10f1411f  \\\n",
       "TW-CO-002_BG5_01_29911.mzXML                                   0.0   \n",
       "TW-BT-001_BC11_01_29853.mzXML                                  0.0   \n",
       "TW-CA-002_RC6_01_29817.mzXML                                   0.0   \n",
       "TW-BD-002_BC4_01_29860.mzXML                                   0.0   \n",
       "TW-AQ-002_RNA_BF4_01_29899.mzXML                               0.0   \n",
       "...                                                            ...   \n",
       "CIR26-002_BE8_01_29882.mzXML                                   0.0   \n",
       "CIR5-002_RD5_01_29726.mzXML                                    0.0   \n",
       "CIR55-001_BD7_01_29870.mzXML                                   0.0   \n",
       "CIR7-001_BB6_01_29845.mzXML                                    0.0   \n",
       "CIR5-003_RF6_01_29753.mzXML                                    0.0   \n",
       "\n",
       "                                  fc69c5f3c21f8a3c984509dfa751197a  \\\n",
       "TW-CO-002_BG5_01_29911.mzXML                                   0.0   \n",
       "TW-BT-001_BC11_01_29853.mzXML                                  0.0   \n",
       "TW-CA-002_RC6_01_29817.mzXML                                   0.0   \n",
       "TW-BD-002_BC4_01_29860.mzXML                                   0.0   \n",
       "TW-AQ-002_RNA_BF4_01_29899.mzXML                               0.0   \n",
       "...                                                            ...   \n",
       "CIR26-002_BE8_01_29882.mzXML                                   0.0   \n",
       "CIR5-002_RD5_01_29726.mzXML                                    0.0   \n",
       "CIR55-001_BD7_01_29870.mzXML                                   0.0   \n",
       "CIR7-001_BB6_01_29845.mzXML                                    0.0   \n",
       "CIR5-003_RF6_01_29753.mzXML                                    0.0   \n",
       "\n",
       "                                  fc81ed8373e77dc1051c32775cbe8156  \\\n",
       "TW-CO-002_BG5_01_29911.mzXML                            16166.5755   \n",
       "TW-BT-001_BC11_01_29853.mzXML                               0.0000   \n",
       "TW-CA-002_RC6_01_29817.mzXML                             6156.0110   \n",
       "TW-BD-002_BC4_01_29860.mzXML                                0.0000   \n",
       "TW-AQ-002_RNA_BF4_01_29899.mzXML                            0.0000   \n",
       "...                                                            ...   \n",
       "CIR26-002_BE8_01_29882.mzXML                            16990.6335   \n",
       "CIR5-002_RD5_01_29726.mzXML                                 0.0000   \n",
       "CIR55-001_BD7_01_29870.mzXML                                0.0000   \n",
       "CIR7-001_BB6_01_29845.mzXML                                 0.0000   \n",
       "CIR5-003_RF6_01_29753.mzXML                                 0.0000   \n",
       "\n",
       "                                  fc9687d47db7ef11369d303f56b588c2  \\\n",
       "TW-CO-002_BG5_01_29911.mzXML                                   0.0   \n",
       "TW-BT-001_BC11_01_29853.mzXML                                  0.0   \n",
       "TW-CA-002_RC6_01_29817.mzXML                                   0.0   \n",
       "TW-BD-002_BC4_01_29860.mzXML                                   0.0   \n",
       "TW-AQ-002_RNA_BF4_01_29899.mzXML                               0.0   \n",
       "...                                                            ...   \n",
       "CIR26-002_BE8_01_29882.mzXML                                   0.0   \n",
       "CIR5-002_RD5_01_29726.mzXML                                    0.0   \n",
       "CIR55-001_BD7_01_29870.mzXML                                   0.0   \n",
       "CIR7-001_BB6_01_29845.mzXML                                    0.0   \n",
       "CIR5-003_RF6_01_29753.mzXML                                    0.0   \n",
       "\n",
       "                                  fc9ed967c73557234a3a59e5f3921dcb  \\\n",
       "TW-CO-002_BG5_01_29911.mzXML                                   0.0   \n",
       "TW-BT-001_BC11_01_29853.mzXML                                  0.0   \n",
       "TW-CA-002_RC6_01_29817.mzXML                                   0.0   \n",
       "TW-BD-002_BC4_01_29860.mzXML                                   0.0   \n",
       "TW-AQ-002_RNA_BF4_01_29899.mzXML                               0.0   \n",
       "...                                                            ...   \n",
       "CIR26-002_BE8_01_29882.mzXML                                   0.0   \n",
       "CIR5-002_RD5_01_29726.mzXML                                    0.0   \n",
       "CIR55-001_BD7_01_29870.mzXML                                   0.0   \n",
       "CIR7-001_BB6_01_29845.mzXML                                    0.0   \n",
       "CIR5-003_RF6_01_29753.mzXML                                    0.0   \n",
       "\n",
       "                                  fd166de6a32d83ea5d14ccf2bb4a04c9  \\\n",
       "TW-CO-002_BG5_01_29911.mzXML                                  0.00   \n",
       "TW-BT-001_BC11_01_29853.mzXML                                 0.00   \n",
       "TW-CA-002_RC6_01_29817.mzXML                                  0.00   \n",
       "TW-BD-002_BC4_01_29860.mzXML                                  0.00   \n",
       "TW-AQ-002_RNA_BF4_01_29899.mzXML                              0.00   \n",
       "...                                                            ...   \n",
       "CIR26-002_BE8_01_29882.mzXML                               5090.91   \n",
       "CIR5-002_RD5_01_29726.mzXML                                   0.00   \n",
       "CIR55-001_BD7_01_29870.mzXML                                  0.00   \n",
       "CIR7-001_BB6_01_29845.mzXML                                   0.00   \n",
       "CIR5-003_RF6_01_29753.mzXML                                   0.00   \n",
       "\n",
       "                                  ff56dd5a9e0f7171e04d3f576d03fd87  \\\n",
       "TW-CO-002_BG5_01_29911.mzXML                                   0.0   \n",
       "TW-BT-001_BC11_01_29853.mzXML                                  0.0   \n",
       "TW-CA-002_RC6_01_29817.mzXML                                   0.0   \n",
       "TW-BD-002_BC4_01_29860.mzXML                                   0.0   \n",
       "TW-AQ-002_RNA_BF4_01_29899.mzXML                               0.0   \n",
       "...                                                            ...   \n",
       "CIR26-002_BE8_01_29882.mzXML                                   0.0   \n",
       "CIR5-002_RD5_01_29726.mzXML                                    0.0   \n",
       "CIR55-001_BD7_01_29870.mzXML                                   0.0   \n",
       "CIR7-001_BB6_01_29845.mzXML                                    0.0   \n",
       "CIR5-003_RF6_01_29753.mzXML                                    0.0   \n",
       "\n",
       "                                  ff6c014126b685e755c395c10017f17d  \\\n",
       "TW-CO-002_BG5_01_29911.mzXML                                   0.0   \n",
       "TW-BT-001_BC11_01_29853.mzXML                                  0.0   \n",
       "TW-CA-002_RC6_01_29817.mzXML                                   0.0   \n",
       "TW-BD-002_BC4_01_29860.mzXML                                   0.0   \n",
       "TW-AQ-002_RNA_BF4_01_29899.mzXML                               0.0   \n",
       "...                                                            ...   \n",
       "CIR26-002_BE8_01_29882.mzXML                                   0.0   \n",
       "CIR5-002_RD5_01_29726.mzXML                                    0.0   \n",
       "CIR55-001_BD7_01_29870.mzXML                                   0.0   \n",
       "CIR7-001_BB6_01_29845.mzXML                                    0.0   \n",
       "CIR5-003_RF6_01_29753.mzXML                                    0.0   \n",
       "\n",
       "                                  fff3d0fb371c075ad5340cf5738683da  \n",
       "TW-CO-002_BG5_01_29911.mzXML                                0.0000  \n",
       "TW-BT-001_BC11_01_29853.mzXML                               0.0000  \n",
       "TW-CA-002_RC6_01_29817.mzXML                            76366.6675  \n",
       "TW-BD-002_BC4_01_29860.mzXML                                0.0000  \n",
       "TW-AQ-002_RNA_BF4_01_29899.mzXML                            0.0000  \n",
       "...                                                            ...  \n",
       "CIR26-002_BE8_01_29882.mzXML                                0.0000  \n",
       "CIR5-002_RD5_01_29726.mzXML                                 0.0000  \n",
       "CIR55-001_BD7_01_29870.mzXML                                0.0000  \n",
       "CIR7-001_BB6_01_29845.mzXML                                 0.0000  \n",
       "CIR5-003_RF6_01_29753.mzXML                                 0.0000  \n",
       "\n",
       "[206 rows x 987 columns]"
      ]
     },
     "execution_count": 2,
     "metadata": {},
     "output_type": "execute_result"
    }
   ],
   "source": [
    "table = qiime2.Artifact.load('./fecal_diversity_analysis/fecal-feature-table-hashed.qza')\n",
    "tablepd = table.view(pd.DataFrame)\n",
    "tablepd"
   ]
  },
  {
   "cell_type": "markdown",
   "metadata": {},
   "source": [
    "Filtering out samples that are NaN because it does not work with beta diversity."
   ]
  },
  {
   "cell_type": "code",
   "execution_count": 110,
   "metadata": {},
   "outputs": [
    {
     "name": "stdout",
     "output_type": "stream",
     "text": [
      "\u001b[32mSaved FeatureTable[Frequency] to: ./fecal_diversity_analysis/fecal-feature-table-hashed_drop.qza\u001b[0m\r\n"
     ]
    }
   ],
   "source": [
    "! qiime feature-table filter-samples \\\n",
    "  --i-table ./fecal_diversity_analysis/fecal-feature-table-hashed.qza \\\n",
    "  --m-metadata-file fecal_metadata.tsv \\\n",
    "  --p-where \"[ATTRIBUTE_groups]!=''\" \\\n",
    "  --p-min-features 1 \\\n",
    "  --o-filtered-table ./fecal_diversity_analysis/fecal-feature-table-hashed_drop.qza"
   ]
  },
  {
   "cell_type": "code",
   "execution_count": 3,
   "metadata": {},
   "outputs": [
    {
     "data": {
      "text/html": [
       "<div>\n",
       "<style scoped>\n",
       "    .dataframe tbody tr th:only-of-type {\n",
       "        vertical-align: middle;\n",
       "    }\n",
       "\n",
       "    .dataframe tbody tr th {\n",
       "        vertical-align: top;\n",
       "    }\n",
       "\n",
       "    .dataframe thead th {\n",
       "        text-align: right;\n",
       "    }\n",
       "</style>\n",
       "<table border=\"1\" class=\"dataframe\">\n",
       "  <thead>\n",
       "    <tr style=\"text-align: right;\">\n",
       "      <th></th>\n",
       "      <th>00130daba4ed7c3091cebe843923b656</th>\n",
       "      <th>0035e736dc271e0ffa69ce089124dd3a</th>\n",
       "      <th>00b990effdb1e3547be73fc221c47da9</th>\n",
       "      <th>00bf884546e085e1d7341e1b4d5b4c7f</th>\n",
       "      <th>00d4834e98bff02228bc6022ad218b38</th>\n",
       "      <th>013d75d35d7937c40332f8492e0ac45d</th>\n",
       "      <th>0178e96df0dc4d287475a41115a80ff5</th>\n",
       "      <th>018aa6775f054d00a3af02b1f142bd7f</th>\n",
       "      <th>019f30f6e7668fa412b214ddaa35c150</th>\n",
       "      <th>0285b154e241302fc53e9f2aa1cb74f2</th>\n",
       "      <th>...</th>\n",
       "      <th>fbda8d94f713b714f135c441853dc12d</th>\n",
       "      <th>fc6931386367002a15c8854e10f1411f</th>\n",
       "      <th>fc69c5f3c21f8a3c984509dfa751197a</th>\n",
       "      <th>fc81ed8373e77dc1051c32775cbe8156</th>\n",
       "      <th>fc9687d47db7ef11369d303f56b588c2</th>\n",
       "      <th>fc9ed967c73557234a3a59e5f3921dcb</th>\n",
       "      <th>fd166de6a32d83ea5d14ccf2bb4a04c9</th>\n",
       "      <th>ff56dd5a9e0f7171e04d3f576d03fd87</th>\n",
       "      <th>ff6c014126b685e755c395c10017f17d</th>\n",
       "      <th>fff3d0fb371c075ad5340cf5738683da</th>\n",
       "    </tr>\n",
       "  </thead>\n",
       "  <tbody>\n",
       "    <tr>\n",
       "      <th>TW-CO-002_BG5_01_29911.mzXML</th>\n",
       "      <td>0.0</td>\n",
       "      <td>0.0</td>\n",
       "      <td>0.000</td>\n",
       "      <td>0.0</td>\n",
       "      <td>6801.6965</td>\n",
       "      <td>0.0</td>\n",
       "      <td>0.0</td>\n",
       "      <td>0.0</td>\n",
       "      <td>0.000</td>\n",
       "      <td>0.0000</td>\n",
       "      <td>...</td>\n",
       "      <td>0.0</td>\n",
       "      <td>0.00</td>\n",
       "      <td>0.0</td>\n",
       "      <td>16166.5755</td>\n",
       "      <td>0.000</td>\n",
       "      <td>0.0</td>\n",
       "      <td>0.00</td>\n",
       "      <td>0.0</td>\n",
       "      <td>0.000</td>\n",
       "      <td>0.0000</td>\n",
       "    </tr>\n",
       "    <tr>\n",
       "      <th>TW-BT-001_BC11_01_29853.mzXML</th>\n",
       "      <td>0.0</td>\n",
       "      <td>0.0</td>\n",
       "      <td>0.000</td>\n",
       "      <td>0.0</td>\n",
       "      <td>33493.3525</td>\n",
       "      <td>0.0</td>\n",
       "      <td>0.0</td>\n",
       "      <td>0.0</td>\n",
       "      <td>76748.562</td>\n",
       "      <td>0.0000</td>\n",
       "      <td>...</td>\n",
       "      <td>0.0</td>\n",
       "      <td>0.00</td>\n",
       "      <td>0.0</td>\n",
       "      <td>0.0000</td>\n",
       "      <td>0.000</td>\n",
       "      <td>0.0</td>\n",
       "      <td>0.00</td>\n",
       "      <td>0.0</td>\n",
       "      <td>0.000</td>\n",
       "      <td>0.0000</td>\n",
       "    </tr>\n",
       "    <tr>\n",
       "      <th>TW-CA-002_RC6_01_29817.mzXML</th>\n",
       "      <td>0.0</td>\n",
       "      <td>0.0</td>\n",
       "      <td>0.000</td>\n",
       "      <td>0.0</td>\n",
       "      <td>6085.2110</td>\n",
       "      <td>0.0</td>\n",
       "      <td>0.0</td>\n",
       "      <td>0.0</td>\n",
       "      <td>0.000</td>\n",
       "      <td>0.0000</td>\n",
       "      <td>...</td>\n",
       "      <td>0.0</td>\n",
       "      <td>0.00</td>\n",
       "      <td>0.0</td>\n",
       "      <td>6156.0110</td>\n",
       "      <td>0.000</td>\n",
       "      <td>0.0</td>\n",
       "      <td>0.00</td>\n",
       "      <td>0.0</td>\n",
       "      <td>0.000</td>\n",
       "      <td>76366.6675</td>\n",
       "    </tr>\n",
       "    <tr>\n",
       "      <th>TW-BD-002_BC4_01_29860.mzXML</th>\n",
       "      <td>0.0</td>\n",
       "      <td>0.0</td>\n",
       "      <td>0.000</td>\n",
       "      <td>0.0</td>\n",
       "      <td>21150.3350</td>\n",
       "      <td>0.0</td>\n",
       "      <td>0.0</td>\n",
       "      <td>0.0</td>\n",
       "      <td>0.000</td>\n",
       "      <td>0.0000</td>\n",
       "      <td>...</td>\n",
       "      <td>0.0</td>\n",
       "      <td>0.00</td>\n",
       "      <td>0.0</td>\n",
       "      <td>0.0000</td>\n",
       "      <td>0.000</td>\n",
       "      <td>0.0</td>\n",
       "      <td>0.00</td>\n",
       "      <td>0.0</td>\n",
       "      <td>0.000</td>\n",
       "      <td>0.0000</td>\n",
       "    </tr>\n",
       "    <tr>\n",
       "      <th>TW-AV-001_RG2_01_29762.mzXML</th>\n",
       "      <td>0.0</td>\n",
       "      <td>0.0</td>\n",
       "      <td>0.000</td>\n",
       "      <td>0.0</td>\n",
       "      <td>70305.9355</td>\n",
       "      <td>0.0</td>\n",
       "      <td>0.0</td>\n",
       "      <td>0.0</td>\n",
       "      <td>481259.685</td>\n",
       "      <td>0.0000</td>\n",
       "      <td>...</td>\n",
       "      <td>0.0</td>\n",
       "      <td>13463.96</td>\n",
       "      <td>0.0</td>\n",
       "      <td>0.0000</td>\n",
       "      <td>10283.259</td>\n",
       "      <td>0.0</td>\n",
       "      <td>0.00</td>\n",
       "      <td>0.0</td>\n",
       "      <td>23794.125</td>\n",
       "      <td>0.0000</td>\n",
       "    </tr>\n",
       "    <tr>\n",
       "      <th>...</th>\n",
       "      <td>...</td>\n",
       "      <td>...</td>\n",
       "      <td>...</td>\n",
       "      <td>...</td>\n",
       "      <td>...</td>\n",
       "      <td>...</td>\n",
       "      <td>...</td>\n",
       "      <td>...</td>\n",
       "      <td>...</td>\n",
       "      <td>...</td>\n",
       "      <td>...</td>\n",
       "      <td>...</td>\n",
       "      <td>...</td>\n",
       "      <td>...</td>\n",
       "      <td>...</td>\n",
       "      <td>...</td>\n",
       "      <td>...</td>\n",
       "      <td>...</td>\n",
       "      <td>...</td>\n",
       "      <td>...</td>\n",
       "      <td>...</td>\n",
       "    </tr>\n",
       "    <tr>\n",
       "      <th>CIR26-002_BE8_01_29882.mzXML</th>\n",
       "      <td>0.0</td>\n",
       "      <td>0.0</td>\n",
       "      <td>0.000</td>\n",
       "      <td>0.0</td>\n",
       "      <td>0.0000</td>\n",
       "      <td>0.0</td>\n",
       "      <td>0.0</td>\n",
       "      <td>0.0</td>\n",
       "      <td>0.000</td>\n",
       "      <td>0.0000</td>\n",
       "      <td>...</td>\n",
       "      <td>0.0</td>\n",
       "      <td>0.00</td>\n",
       "      <td>0.0</td>\n",
       "      <td>16990.6335</td>\n",
       "      <td>0.000</td>\n",
       "      <td>0.0</td>\n",
       "      <td>5090.91</td>\n",
       "      <td>0.0</td>\n",
       "      <td>0.000</td>\n",
       "      <td>0.0000</td>\n",
       "    </tr>\n",
       "    <tr>\n",
       "      <th>CIR5-002_RD5_01_29726.mzXML</th>\n",
       "      <td>0.0</td>\n",
       "      <td>0.0</td>\n",
       "      <td>0.000</td>\n",
       "      <td>0.0</td>\n",
       "      <td>0.0000</td>\n",
       "      <td>0.0</td>\n",
       "      <td>0.0</td>\n",
       "      <td>0.0</td>\n",
       "      <td>0.000</td>\n",
       "      <td>0.0000</td>\n",
       "      <td>...</td>\n",
       "      <td>0.0</td>\n",
       "      <td>0.00</td>\n",
       "      <td>0.0</td>\n",
       "      <td>0.0000</td>\n",
       "      <td>0.000</td>\n",
       "      <td>0.0</td>\n",
       "      <td>0.00</td>\n",
       "      <td>0.0</td>\n",
       "      <td>0.000</td>\n",
       "      <td>0.0000</td>\n",
       "    </tr>\n",
       "    <tr>\n",
       "      <th>CIR55-001_BD7_01_29870.mzXML</th>\n",
       "      <td>0.0</td>\n",
       "      <td>0.0</td>\n",
       "      <td>0.000</td>\n",
       "      <td>0.0</td>\n",
       "      <td>23233.8275</td>\n",
       "      <td>0.0</td>\n",
       "      <td>0.0</td>\n",
       "      <td>0.0</td>\n",
       "      <td>0.000</td>\n",
       "      <td>17700.4515</td>\n",
       "      <td>...</td>\n",
       "      <td>0.0</td>\n",
       "      <td>0.00</td>\n",
       "      <td>0.0</td>\n",
       "      <td>0.0000</td>\n",
       "      <td>0.000</td>\n",
       "      <td>0.0</td>\n",
       "      <td>0.00</td>\n",
       "      <td>0.0</td>\n",
       "      <td>0.000</td>\n",
       "      <td>0.0000</td>\n",
       "    </tr>\n",
       "    <tr>\n",
       "      <th>CIR7-001_BB6_01_29845.mzXML</th>\n",
       "      <td>0.0</td>\n",
       "      <td>0.0</td>\n",
       "      <td>7260.612</td>\n",
       "      <td>0.0</td>\n",
       "      <td>30394.2795</td>\n",
       "      <td>0.0</td>\n",
       "      <td>0.0</td>\n",
       "      <td>0.0</td>\n",
       "      <td>0.000</td>\n",
       "      <td>0.0000</td>\n",
       "      <td>...</td>\n",
       "      <td>0.0</td>\n",
       "      <td>0.00</td>\n",
       "      <td>0.0</td>\n",
       "      <td>0.0000</td>\n",
       "      <td>0.000</td>\n",
       "      <td>0.0</td>\n",
       "      <td>0.00</td>\n",
       "      <td>0.0</td>\n",
       "      <td>0.000</td>\n",
       "      <td>0.0000</td>\n",
       "    </tr>\n",
       "    <tr>\n",
       "      <th>CIR5-003_RF6_01_29753.mzXML</th>\n",
       "      <td>0.0</td>\n",
       "      <td>0.0</td>\n",
       "      <td>0.000</td>\n",
       "      <td>0.0</td>\n",
       "      <td>0.0000</td>\n",
       "      <td>0.0</td>\n",
       "      <td>0.0</td>\n",
       "      <td>0.0</td>\n",
       "      <td>0.000</td>\n",
       "      <td>0.0000</td>\n",
       "      <td>...</td>\n",
       "      <td>0.0</td>\n",
       "      <td>0.00</td>\n",
       "      <td>0.0</td>\n",
       "      <td>0.0000</td>\n",
       "      <td>0.000</td>\n",
       "      <td>0.0</td>\n",
       "      <td>0.00</td>\n",
       "      <td>0.0</td>\n",
       "      <td>0.000</td>\n",
       "      <td>0.0000</td>\n",
       "    </tr>\n",
       "  </tbody>\n",
       "</table>\n",
       "<p>189 rows × 985 columns</p>\n",
       "</div>"
      ],
      "text/plain": [
       "                               00130daba4ed7c3091cebe843923b656  \\\n",
       "TW-CO-002_BG5_01_29911.mzXML                                0.0   \n",
       "TW-BT-001_BC11_01_29853.mzXML                               0.0   \n",
       "TW-CA-002_RC6_01_29817.mzXML                                0.0   \n",
       "TW-BD-002_BC4_01_29860.mzXML                                0.0   \n",
       "TW-AV-001_RG2_01_29762.mzXML                                0.0   \n",
       "...                                                         ...   \n",
       "CIR26-002_BE8_01_29882.mzXML                                0.0   \n",
       "CIR5-002_RD5_01_29726.mzXML                                 0.0   \n",
       "CIR55-001_BD7_01_29870.mzXML                                0.0   \n",
       "CIR7-001_BB6_01_29845.mzXML                                 0.0   \n",
       "CIR5-003_RF6_01_29753.mzXML                                 0.0   \n",
       "\n",
       "                               0035e736dc271e0ffa69ce089124dd3a  \\\n",
       "TW-CO-002_BG5_01_29911.mzXML                                0.0   \n",
       "TW-BT-001_BC11_01_29853.mzXML                               0.0   \n",
       "TW-CA-002_RC6_01_29817.mzXML                                0.0   \n",
       "TW-BD-002_BC4_01_29860.mzXML                                0.0   \n",
       "TW-AV-001_RG2_01_29762.mzXML                                0.0   \n",
       "...                                                         ...   \n",
       "CIR26-002_BE8_01_29882.mzXML                                0.0   \n",
       "CIR5-002_RD5_01_29726.mzXML                                 0.0   \n",
       "CIR55-001_BD7_01_29870.mzXML                                0.0   \n",
       "CIR7-001_BB6_01_29845.mzXML                                 0.0   \n",
       "CIR5-003_RF6_01_29753.mzXML                                 0.0   \n",
       "\n",
       "                               00b990effdb1e3547be73fc221c47da9  \\\n",
       "TW-CO-002_BG5_01_29911.mzXML                              0.000   \n",
       "TW-BT-001_BC11_01_29853.mzXML                             0.000   \n",
       "TW-CA-002_RC6_01_29817.mzXML                              0.000   \n",
       "TW-BD-002_BC4_01_29860.mzXML                              0.000   \n",
       "TW-AV-001_RG2_01_29762.mzXML                              0.000   \n",
       "...                                                         ...   \n",
       "CIR26-002_BE8_01_29882.mzXML                              0.000   \n",
       "CIR5-002_RD5_01_29726.mzXML                               0.000   \n",
       "CIR55-001_BD7_01_29870.mzXML                              0.000   \n",
       "CIR7-001_BB6_01_29845.mzXML                            7260.612   \n",
       "CIR5-003_RF6_01_29753.mzXML                               0.000   \n",
       "\n",
       "                               00bf884546e085e1d7341e1b4d5b4c7f  \\\n",
       "TW-CO-002_BG5_01_29911.mzXML                                0.0   \n",
       "TW-BT-001_BC11_01_29853.mzXML                               0.0   \n",
       "TW-CA-002_RC6_01_29817.mzXML                                0.0   \n",
       "TW-BD-002_BC4_01_29860.mzXML                                0.0   \n",
       "TW-AV-001_RG2_01_29762.mzXML                                0.0   \n",
       "...                                                         ...   \n",
       "CIR26-002_BE8_01_29882.mzXML                                0.0   \n",
       "CIR5-002_RD5_01_29726.mzXML                                 0.0   \n",
       "CIR55-001_BD7_01_29870.mzXML                                0.0   \n",
       "CIR7-001_BB6_01_29845.mzXML                                 0.0   \n",
       "CIR5-003_RF6_01_29753.mzXML                                 0.0   \n",
       "\n",
       "                               00d4834e98bff02228bc6022ad218b38  \\\n",
       "TW-CO-002_BG5_01_29911.mzXML                          6801.6965   \n",
       "TW-BT-001_BC11_01_29853.mzXML                        33493.3525   \n",
       "TW-CA-002_RC6_01_29817.mzXML                          6085.2110   \n",
       "TW-BD-002_BC4_01_29860.mzXML                         21150.3350   \n",
       "TW-AV-001_RG2_01_29762.mzXML                         70305.9355   \n",
       "...                                                         ...   \n",
       "CIR26-002_BE8_01_29882.mzXML                             0.0000   \n",
       "CIR5-002_RD5_01_29726.mzXML                              0.0000   \n",
       "CIR55-001_BD7_01_29870.mzXML                         23233.8275   \n",
       "CIR7-001_BB6_01_29845.mzXML                          30394.2795   \n",
       "CIR5-003_RF6_01_29753.mzXML                              0.0000   \n",
       "\n",
       "                               013d75d35d7937c40332f8492e0ac45d  \\\n",
       "TW-CO-002_BG5_01_29911.mzXML                                0.0   \n",
       "TW-BT-001_BC11_01_29853.mzXML                               0.0   \n",
       "TW-CA-002_RC6_01_29817.mzXML                                0.0   \n",
       "TW-BD-002_BC4_01_29860.mzXML                                0.0   \n",
       "TW-AV-001_RG2_01_29762.mzXML                                0.0   \n",
       "...                                                         ...   \n",
       "CIR26-002_BE8_01_29882.mzXML                                0.0   \n",
       "CIR5-002_RD5_01_29726.mzXML                                 0.0   \n",
       "CIR55-001_BD7_01_29870.mzXML                                0.0   \n",
       "CIR7-001_BB6_01_29845.mzXML                                 0.0   \n",
       "CIR5-003_RF6_01_29753.mzXML                                 0.0   \n",
       "\n",
       "                               0178e96df0dc4d287475a41115a80ff5  \\\n",
       "TW-CO-002_BG5_01_29911.mzXML                                0.0   \n",
       "TW-BT-001_BC11_01_29853.mzXML                               0.0   \n",
       "TW-CA-002_RC6_01_29817.mzXML                                0.0   \n",
       "TW-BD-002_BC4_01_29860.mzXML                                0.0   \n",
       "TW-AV-001_RG2_01_29762.mzXML                                0.0   \n",
       "...                                                         ...   \n",
       "CIR26-002_BE8_01_29882.mzXML                                0.0   \n",
       "CIR5-002_RD5_01_29726.mzXML                                 0.0   \n",
       "CIR55-001_BD7_01_29870.mzXML                                0.0   \n",
       "CIR7-001_BB6_01_29845.mzXML                                 0.0   \n",
       "CIR5-003_RF6_01_29753.mzXML                                 0.0   \n",
       "\n",
       "                               018aa6775f054d00a3af02b1f142bd7f  \\\n",
       "TW-CO-002_BG5_01_29911.mzXML                                0.0   \n",
       "TW-BT-001_BC11_01_29853.mzXML                               0.0   \n",
       "TW-CA-002_RC6_01_29817.mzXML                                0.0   \n",
       "TW-BD-002_BC4_01_29860.mzXML                                0.0   \n",
       "TW-AV-001_RG2_01_29762.mzXML                                0.0   \n",
       "...                                                         ...   \n",
       "CIR26-002_BE8_01_29882.mzXML                                0.0   \n",
       "CIR5-002_RD5_01_29726.mzXML                                 0.0   \n",
       "CIR55-001_BD7_01_29870.mzXML                                0.0   \n",
       "CIR7-001_BB6_01_29845.mzXML                                 0.0   \n",
       "CIR5-003_RF6_01_29753.mzXML                                 0.0   \n",
       "\n",
       "                               019f30f6e7668fa412b214ddaa35c150  \\\n",
       "TW-CO-002_BG5_01_29911.mzXML                              0.000   \n",
       "TW-BT-001_BC11_01_29853.mzXML                         76748.562   \n",
       "TW-CA-002_RC6_01_29817.mzXML                              0.000   \n",
       "TW-BD-002_BC4_01_29860.mzXML                              0.000   \n",
       "TW-AV-001_RG2_01_29762.mzXML                         481259.685   \n",
       "...                                                         ...   \n",
       "CIR26-002_BE8_01_29882.mzXML                              0.000   \n",
       "CIR5-002_RD5_01_29726.mzXML                               0.000   \n",
       "CIR55-001_BD7_01_29870.mzXML                              0.000   \n",
       "CIR7-001_BB6_01_29845.mzXML                               0.000   \n",
       "CIR5-003_RF6_01_29753.mzXML                               0.000   \n",
       "\n",
       "                               0285b154e241302fc53e9f2aa1cb74f2  ...  \\\n",
       "TW-CO-002_BG5_01_29911.mzXML                             0.0000  ...   \n",
       "TW-BT-001_BC11_01_29853.mzXML                            0.0000  ...   \n",
       "TW-CA-002_RC6_01_29817.mzXML                             0.0000  ...   \n",
       "TW-BD-002_BC4_01_29860.mzXML                             0.0000  ...   \n",
       "TW-AV-001_RG2_01_29762.mzXML                             0.0000  ...   \n",
       "...                                                         ...  ...   \n",
       "CIR26-002_BE8_01_29882.mzXML                             0.0000  ...   \n",
       "CIR5-002_RD5_01_29726.mzXML                              0.0000  ...   \n",
       "CIR55-001_BD7_01_29870.mzXML                         17700.4515  ...   \n",
       "CIR7-001_BB6_01_29845.mzXML                              0.0000  ...   \n",
       "CIR5-003_RF6_01_29753.mzXML                              0.0000  ...   \n",
       "\n",
       "                               fbda8d94f713b714f135c441853dc12d  \\\n",
       "TW-CO-002_BG5_01_29911.mzXML                                0.0   \n",
       "TW-BT-001_BC11_01_29853.mzXML                               0.0   \n",
       "TW-CA-002_RC6_01_29817.mzXML                                0.0   \n",
       "TW-BD-002_BC4_01_29860.mzXML                                0.0   \n",
       "TW-AV-001_RG2_01_29762.mzXML                                0.0   \n",
       "...                                                         ...   \n",
       "CIR26-002_BE8_01_29882.mzXML                                0.0   \n",
       "CIR5-002_RD5_01_29726.mzXML                                 0.0   \n",
       "CIR55-001_BD7_01_29870.mzXML                                0.0   \n",
       "CIR7-001_BB6_01_29845.mzXML                                 0.0   \n",
       "CIR5-003_RF6_01_29753.mzXML                                 0.0   \n",
       "\n",
       "                               fc6931386367002a15c8854e10f1411f  \\\n",
       "TW-CO-002_BG5_01_29911.mzXML                               0.00   \n",
       "TW-BT-001_BC11_01_29853.mzXML                              0.00   \n",
       "TW-CA-002_RC6_01_29817.mzXML                               0.00   \n",
       "TW-BD-002_BC4_01_29860.mzXML                               0.00   \n",
       "TW-AV-001_RG2_01_29762.mzXML                           13463.96   \n",
       "...                                                         ...   \n",
       "CIR26-002_BE8_01_29882.mzXML                               0.00   \n",
       "CIR5-002_RD5_01_29726.mzXML                                0.00   \n",
       "CIR55-001_BD7_01_29870.mzXML                               0.00   \n",
       "CIR7-001_BB6_01_29845.mzXML                                0.00   \n",
       "CIR5-003_RF6_01_29753.mzXML                                0.00   \n",
       "\n",
       "                               fc69c5f3c21f8a3c984509dfa751197a  \\\n",
       "TW-CO-002_BG5_01_29911.mzXML                                0.0   \n",
       "TW-BT-001_BC11_01_29853.mzXML                               0.0   \n",
       "TW-CA-002_RC6_01_29817.mzXML                                0.0   \n",
       "TW-BD-002_BC4_01_29860.mzXML                                0.0   \n",
       "TW-AV-001_RG2_01_29762.mzXML                                0.0   \n",
       "...                                                         ...   \n",
       "CIR26-002_BE8_01_29882.mzXML                                0.0   \n",
       "CIR5-002_RD5_01_29726.mzXML                                 0.0   \n",
       "CIR55-001_BD7_01_29870.mzXML                                0.0   \n",
       "CIR7-001_BB6_01_29845.mzXML                                 0.0   \n",
       "CIR5-003_RF6_01_29753.mzXML                                 0.0   \n",
       "\n",
       "                               fc81ed8373e77dc1051c32775cbe8156  \\\n",
       "TW-CO-002_BG5_01_29911.mzXML                         16166.5755   \n",
       "TW-BT-001_BC11_01_29853.mzXML                            0.0000   \n",
       "TW-CA-002_RC6_01_29817.mzXML                          6156.0110   \n",
       "TW-BD-002_BC4_01_29860.mzXML                             0.0000   \n",
       "TW-AV-001_RG2_01_29762.mzXML                             0.0000   \n",
       "...                                                         ...   \n",
       "CIR26-002_BE8_01_29882.mzXML                         16990.6335   \n",
       "CIR5-002_RD5_01_29726.mzXML                              0.0000   \n",
       "CIR55-001_BD7_01_29870.mzXML                             0.0000   \n",
       "CIR7-001_BB6_01_29845.mzXML                              0.0000   \n",
       "CIR5-003_RF6_01_29753.mzXML                              0.0000   \n",
       "\n",
       "                               fc9687d47db7ef11369d303f56b588c2  \\\n",
       "TW-CO-002_BG5_01_29911.mzXML                              0.000   \n",
       "TW-BT-001_BC11_01_29853.mzXML                             0.000   \n",
       "TW-CA-002_RC6_01_29817.mzXML                              0.000   \n",
       "TW-BD-002_BC4_01_29860.mzXML                              0.000   \n",
       "TW-AV-001_RG2_01_29762.mzXML                          10283.259   \n",
       "...                                                         ...   \n",
       "CIR26-002_BE8_01_29882.mzXML                              0.000   \n",
       "CIR5-002_RD5_01_29726.mzXML                               0.000   \n",
       "CIR55-001_BD7_01_29870.mzXML                              0.000   \n",
       "CIR7-001_BB6_01_29845.mzXML                               0.000   \n",
       "CIR5-003_RF6_01_29753.mzXML                               0.000   \n",
       "\n",
       "                               fc9ed967c73557234a3a59e5f3921dcb  \\\n",
       "TW-CO-002_BG5_01_29911.mzXML                                0.0   \n",
       "TW-BT-001_BC11_01_29853.mzXML                               0.0   \n",
       "TW-CA-002_RC6_01_29817.mzXML                                0.0   \n",
       "TW-BD-002_BC4_01_29860.mzXML                                0.0   \n",
       "TW-AV-001_RG2_01_29762.mzXML                                0.0   \n",
       "...                                                         ...   \n",
       "CIR26-002_BE8_01_29882.mzXML                                0.0   \n",
       "CIR5-002_RD5_01_29726.mzXML                                 0.0   \n",
       "CIR55-001_BD7_01_29870.mzXML                                0.0   \n",
       "CIR7-001_BB6_01_29845.mzXML                                 0.0   \n",
       "CIR5-003_RF6_01_29753.mzXML                                 0.0   \n",
       "\n",
       "                               fd166de6a32d83ea5d14ccf2bb4a04c9  \\\n",
       "TW-CO-002_BG5_01_29911.mzXML                               0.00   \n",
       "TW-BT-001_BC11_01_29853.mzXML                              0.00   \n",
       "TW-CA-002_RC6_01_29817.mzXML                               0.00   \n",
       "TW-BD-002_BC4_01_29860.mzXML                               0.00   \n",
       "TW-AV-001_RG2_01_29762.mzXML                               0.00   \n",
       "...                                                         ...   \n",
       "CIR26-002_BE8_01_29882.mzXML                            5090.91   \n",
       "CIR5-002_RD5_01_29726.mzXML                                0.00   \n",
       "CIR55-001_BD7_01_29870.mzXML                               0.00   \n",
       "CIR7-001_BB6_01_29845.mzXML                                0.00   \n",
       "CIR5-003_RF6_01_29753.mzXML                                0.00   \n",
       "\n",
       "                               ff56dd5a9e0f7171e04d3f576d03fd87  \\\n",
       "TW-CO-002_BG5_01_29911.mzXML                                0.0   \n",
       "TW-BT-001_BC11_01_29853.mzXML                               0.0   \n",
       "TW-CA-002_RC6_01_29817.mzXML                                0.0   \n",
       "TW-BD-002_BC4_01_29860.mzXML                                0.0   \n",
       "TW-AV-001_RG2_01_29762.mzXML                                0.0   \n",
       "...                                                         ...   \n",
       "CIR26-002_BE8_01_29882.mzXML                                0.0   \n",
       "CIR5-002_RD5_01_29726.mzXML                                 0.0   \n",
       "CIR55-001_BD7_01_29870.mzXML                                0.0   \n",
       "CIR7-001_BB6_01_29845.mzXML                                 0.0   \n",
       "CIR5-003_RF6_01_29753.mzXML                                 0.0   \n",
       "\n",
       "                               ff6c014126b685e755c395c10017f17d  \\\n",
       "TW-CO-002_BG5_01_29911.mzXML                              0.000   \n",
       "TW-BT-001_BC11_01_29853.mzXML                             0.000   \n",
       "TW-CA-002_RC6_01_29817.mzXML                              0.000   \n",
       "TW-BD-002_BC4_01_29860.mzXML                              0.000   \n",
       "TW-AV-001_RG2_01_29762.mzXML                          23794.125   \n",
       "...                                                         ...   \n",
       "CIR26-002_BE8_01_29882.mzXML                              0.000   \n",
       "CIR5-002_RD5_01_29726.mzXML                               0.000   \n",
       "CIR55-001_BD7_01_29870.mzXML                              0.000   \n",
       "CIR7-001_BB6_01_29845.mzXML                               0.000   \n",
       "CIR5-003_RF6_01_29753.mzXML                               0.000   \n",
       "\n",
       "                               fff3d0fb371c075ad5340cf5738683da  \n",
       "TW-CO-002_BG5_01_29911.mzXML                             0.0000  \n",
       "TW-BT-001_BC11_01_29853.mzXML                            0.0000  \n",
       "TW-CA-002_RC6_01_29817.mzXML                         76366.6675  \n",
       "TW-BD-002_BC4_01_29860.mzXML                             0.0000  \n",
       "TW-AV-001_RG2_01_29762.mzXML                             0.0000  \n",
       "...                                                         ...  \n",
       "CIR26-002_BE8_01_29882.mzXML                             0.0000  \n",
       "CIR5-002_RD5_01_29726.mzXML                              0.0000  \n",
       "CIR55-001_BD7_01_29870.mzXML                             0.0000  \n",
       "CIR7-001_BB6_01_29845.mzXML                              0.0000  \n",
       "CIR5-003_RF6_01_29753.mzXML                              0.0000  \n",
       "\n",
       "[189 rows x 985 columns]"
      ]
     },
     "execution_count": 3,
     "metadata": {},
     "output_type": "execute_result"
    }
   ],
   "source": [
    "table = qiime2.Artifact.load('./fecal_diversity_analysis/fecal-feature-table-hashed_drop.qza')\n",
    "tablepd = table.view(pd.DataFrame)\n",
    "tablepd"
   ]
  },
  {
   "cell_type": "code",
   "execution_count": null,
   "metadata": {},
   "outputs": [],
   "source": []
  },
  {
   "cell_type": "markdown",
   "metadata": {},
   "source": [
    "### Calculating Alpha Diversity\n",
    "For alpha diversity we will be using Shannon diversity, observed OTUs and Faith's Phylogenetic diversity. For the phylogenetic diversity we will be using the tree fecal-qemistree.qza generated through qemistree."
   ]
  },
  {
   "cell_type": "code",
   "execution_count": 112,
   "metadata": {},
   "outputs": [
    {
     "name": "stdout",
     "output_type": "stream",
     "text": [
      "\u001b[32mSaved SampleData[AlphaDiversity] to: fecal_diversity_analysis/diversity_tables/alpha_shannon_fecal.qza\u001b[0m\r\n"
     ]
    }
   ],
   "source": [
    "#The alpha diveristy using 'shannon' \n",
    "! qiime diversity alpha \\\n",
    "--i-table fecal_diversity_analysis/fecal-feature-table-hashed_drop.qza \\\n",
    "--p-metric shannon \\\n",
    "--o-alpha-diversity fecal_diversity_analysis/diversity_tables/alpha_shannon_fecal.qza"
   ]
  },
  {
   "cell_type": "code",
   "execution_count": 114,
   "metadata": {},
   "outputs": [
    {
     "name": "stdout",
     "output_type": "stream",
     "text": [
      "\u001b[32mExported fecal_diversity_analysis/diversity_tables/alpha_shannon_fecal.qza as AlphaDiversityDirectoryFormat to directory fecal_diversity_analysis/diversity_tables/alpha_shannon_fecal\u001b[0m\r\n"
     ]
    }
   ],
   "source": [
    "! qiime tools export \\\n",
    "--input-path fecal_diversity_analysis/diversity_tables/alpha_shannon_fecal.qza \\\n",
    "--output-path fecal_diversity_analysis/diversity_tables/alpha_shannon_fecal"
   ]
  },
  {
   "cell_type": "code",
   "execution_count": 115,
   "metadata": {},
   "outputs": [
    {
     "name": "stdout",
     "output_type": "stream",
     "text": [
      "\u001b[32mSaved SampleData[AlphaDiversity] to: fecal_diversity_analysis/diversity_tables/alpha_obsotus_fecal.qza\u001b[0m\r\n"
     ]
    }
   ],
   "source": [
    "#The alpha diveristy using 'observed_otus'  \n",
    "! qiime diversity alpha \\\n",
    "--i-table fecal_diversity_analysis/fecal-feature-table-hashed_drop.qza \\\n",
    "--p-metric observed_otus \\\n",
    "--o-alpha-diversity fecal_diversity_analysis/diversity_tables/alpha_obsotus_fecal.qza"
   ]
  },
  {
   "cell_type": "code",
   "execution_count": 116,
   "metadata": {},
   "outputs": [
    {
     "name": "stdout",
     "output_type": "stream",
     "text": [
      "\u001b[32mExported fecal_diversity_analysis/diversity_tables/alpha_obsotus_fecal.qza as AlphaDiversityDirectoryFormat to directory fecal_diversity_analysis/diversity_tables/alpha_obsotus_fecal\u001b[0m\r\n"
     ]
    }
   ],
   "source": [
    "! qiime tools export \\\n",
    "--input-path fecal_diversity_analysis/diversity_tables/alpha_obsotus_fecal.qza \\\n",
    "--output-path fecal_diversity_analysis/diversity_tables/alpha_obsotus_fecal"
   ]
  },
  {
   "cell_type": "code",
   "execution_count": 117,
   "metadata": {},
   "outputs": [
    {
     "name": "stdout",
     "output_type": "stream",
     "text": [
      "\u001b[32mSaved SampleData[AlphaDiversity] % Properties('phylogenetic') to: fecal_diversity_analysis/diversity_tables/alpha_faithpd_fecal.qza\u001b[0m\r\n"
     ]
    }
   ],
   "source": [
    "#The alpha diversity using 'Faith PD'\n",
    "! qiime diversity alpha-phylogenetic \\\n",
    "--i-table fecal_diversity_analysis/fecal-feature-table-hashed_drop.qza \\\n",
    "--i-phylogeny fecal_diversity_analysis/fecal-qemistree.qza \\\n",
    "--p-metric faith_pd \\\n",
    "--o-alpha-diversity fecal_diversity_analysis/diversity_tables/alpha_faithpd_fecal.qza"
   ]
  },
  {
   "cell_type": "code",
   "execution_count": 118,
   "metadata": {},
   "outputs": [
    {
     "name": "stdout",
     "output_type": "stream",
     "text": [
      "\u001b[32mExported fecal_diversity_analysis/diversity_tables/alpha_faithpd_fecal.qza as AlphaDiversityDirectoryFormat to directory fecal_diversity_analysis/diversity_tables/alpha_faithpd_fecal\u001b[0m\r\n"
     ]
    }
   ],
   "source": [
    "! qiime tools export \\\n",
    "--input-path fecal_diversity_analysis/diversity_tables/alpha_faithpd_fecal.qza \\\n",
    "--output-path fecal_diversity_analysis/diversity_tables/alpha_faithpd_fecal"
   ]
  },
  {
   "cell_type": "markdown",
   "metadata": {},
   "source": [
    "### 1a. plotting trends in alpha diversity (Shannon's Diversity)"
   ]
  },
  {
   "cell_type": "code",
   "execution_count": 114,
   "metadata": {},
   "outputs": [
    {
     "data": {
      "text/html": [
       "<div>\n",
       "<style scoped>\n",
       "    .dataframe tbody tr th:only-of-type {\n",
       "        vertical-align: middle;\n",
       "    }\n",
       "\n",
       "    .dataframe tbody tr th {\n",
       "        vertical-align: top;\n",
       "    }\n",
       "\n",
       "    .dataframe thead th {\n",
       "        text-align: right;\n",
       "    }\n",
       "</style>\n",
       "<table border=\"1\" class=\"dataframe\">\n",
       "  <thead>\n",
       "    <tr style=\"text-align: right;\">\n",
       "      <th></th>\n",
       "      <th>shannon</th>\n",
       "    </tr>\n",
       "  </thead>\n",
       "  <tbody>\n",
       "    <tr>\n",
       "      <th>TW-CO-002_BG5_01_29911.mzXML</th>\n",
       "      <td>6.267938</td>\n",
       "    </tr>\n",
       "    <tr>\n",
       "      <th>TW-BT-001_BC11_01_29853.mzXML</th>\n",
       "      <td>6.226871</td>\n",
       "    </tr>\n",
       "    <tr>\n",
       "      <th>TW-CA-002_RC6_01_29817.mzXML</th>\n",
       "      <td>5.615113</td>\n",
       "    </tr>\n",
       "    <tr>\n",
       "      <th>TW-BD-002_BC4_01_29860.mzXML</th>\n",
       "      <td>5.828676</td>\n",
       "    </tr>\n",
       "    <tr>\n",
       "      <th>TW-AV-001_RG2_01_29762.mzXML</th>\n",
       "      <td>7.112775</td>\n",
       "    </tr>\n",
       "  </tbody>\n",
       "</table>\n",
       "</div>"
      ],
      "text/plain": [
       "                                shannon\n",
       "TW-CO-002_BG5_01_29911.mzXML   6.267938\n",
       "TW-BT-001_BC11_01_29853.mzXML  6.226871\n",
       "TW-CA-002_RC6_01_29817.mzXML   5.615113\n",
       "TW-BD-002_BC4_01_29860.mzXML   5.828676\n",
       "TW-AV-001_RG2_01_29762.mzXML   7.112775"
      ]
     },
     "execution_count": 114,
     "metadata": {},
     "output_type": "execute_result"
    }
   ],
   "source": [
    "md = pd.read_table('fecal_metadata.tsv',sep='\\t',index_col=0)\n",
    "a_div = pd.read_table('fecal_diversity_analysis/diversity_tables/alpha_shannon_fecal/alpha-diversity.tsv',\n",
    "                        sep='\\t',index_col=0)\n",
    "a_div.head()"
   ]
  },
  {
   "cell_type": "code",
   "execution_count": 115,
   "metadata": {},
   "outputs": [],
   "source": [
    "# alpha-div\n",
    "a_div['groups'] = [md.loc[idx, 'ATTRIBUTE_groups'] for idx in a_div.index]"
   ]
  },
  {
   "cell_type": "code",
   "execution_count": 116,
   "metadata": {},
   "outputs": [],
   "source": [
    "#saving source data\n",
    "a_div.reset_index().rename(columns={'index':'#SampleID'}).to_csv('./fecal_diversity_analysis/diversity_tables/alpha_shannon_fecal/source_data_alpha_diversity_fecal_shannon.csv', \n",
    "                                                                sep=',', index=False)"
   ]
  },
  {
   "cell_type": "code",
   "execution_count": 117,
   "metadata": {},
   "outputs": [
    {
     "data": {
      "text/plain": [
       "G1P    56\n",
       "G1R    40\n",
       "G3R    34\n",
       "G3P    24\n",
       "G2P    18\n",
       "G2R    17\n",
       "Name: groups, dtype: int64"
      ]
     },
     "execution_count": 117,
     "metadata": {},
     "output_type": "execute_result"
    }
   ],
   "source": [
    "a_div.groups.value_counts()"
   ]
  },
  {
   "cell_type": "code",
   "execution_count": 118,
   "metadata": {},
   "outputs": [
    {
     "data": {
      "image/png": "[encoded data removed]",
      "text/plain": [
       "<Figure size 432x288 with 1 Axes>"
      ]
     },
     "metadata": {},
     "output_type": "display_data"
    }
   ],
   "source": [
    "sns.set_style(\"ticks\")\n",
    "sns.set_context(\"notebook\", font_scale=1.2, rc={\"lines.linewidth\": 1.2})\n",
    "fig, ax = plt.subplots()\n",
    "fig = sns.boxplot(y='shannon', x='groups', order=['G1P', 'G2P', 'G3P'], data=a_div, \n",
    "           palette={'G1P':'#01AEE8','G2P':'#ffff66','G3P':'#F04D9C'}, ax=ax)\n",
    "ax.set(xlabel='', ylabel=\"Alpha-diversity (Shannon)\")\n",
    "ax.set_xticklabels(['non-NAFLD \\n controls', 'NAFLD \\n without AF', 'NAFLD \\n -cirrhosis'])\n",
    "#ax.set_yticks(np.arange(0, 9, step=1))\n",
    "plt.savefig('fecal_diversity_analysis/figures/adiv_shannon_fecal_G1PG2PG3P.pdf', bbox_to_inches='tight')"
   ]
  },
  {
   "cell_type": "code",
   "execution_count": 76,
   "metadata": {},
   "outputs": [],
   "source": [
    "ag1 = [a_div.loc[idx, 'shannon'] for idx in a_div.index if a_div.loc[idx, 'groups'] == 'G1P']\n",
    "ag2 = [a_div.loc[idx, 'shannon'] for idx in a_div.index if a_div.loc[idx, 'groups'] == 'G2P']\n",
    "ag3 = [a_div.loc[idx, 'shannon'] for idx in a_div.index if a_div.loc[idx, 'groups'] == 'G3P']"
   ]
  },
  {
   "cell_type": "code",
   "execution_count": 77,
   "metadata": {
    "scrolled": true
   },
   "outputs": [
    {
     "name": "stdout",
     "output_type": "stream",
     "text": [
      "KruskalResult(statistic=0.6299999999999955, pvalue=0.42735531389780934)\n",
      "KruskalResult(statistic=0.83720930232559, pvalue=0.3601961333859993)\n",
      "KruskalResult(statistic=0.07451499118170091, pvalue=0.7848729392147318)\n"
     ]
    }
   ],
   "source": [
    "# kruskal-wallis significance testing\n",
    "print(kruskal(ag1, ag2))\n",
    "print(kruskal(ag2, ag3))\n",
    "print(kruskal(ag1, ag3))"
   ]
  },
  {
   "cell_type": "markdown",
   "metadata": {},
   "source": [
    "When comparing the shannon alpha diversity between the three probands groups, the non-NAFLD individuals have the lowest while the NAFLD w/o AF have the highest. When comparing the metrics between each group we don't find any significance but the comparison that shows the largest difference is NAFLD w/o AF and NAFLD-cirrhosis (G2P vs G3P, p=0.36)."
   ]
  },
  {
   "cell_type": "markdown",
   "metadata": {},
   "source": [
    "### 1b. plotting trends in Alpha Diversity (observd OTUs)"
   ]
  },
  {
   "cell_type": "code",
   "execution_count": 119,
   "metadata": {},
   "outputs": [
    {
     "data": {
      "text/html": [
       "<div>\n",
       "<style scoped>\n",
       "    .dataframe tbody tr th:only-of-type {\n",
       "        vertical-align: middle;\n",
       "    }\n",
       "\n",
       "    .dataframe tbody tr th {\n",
       "        vertical-align: top;\n",
       "    }\n",
       "\n",
       "    .dataframe thead th {\n",
       "        text-align: right;\n",
       "    }\n",
       "</style>\n",
       "<table border=\"1\" class=\"dataframe\">\n",
       "  <thead>\n",
       "    <tr style=\"text-align: right;\">\n",
       "      <th></th>\n",
       "      <th>observed_otus</th>\n",
       "    </tr>\n",
       "  </thead>\n",
       "  <tbody>\n",
       "    <tr>\n",
       "      <th>TW-CO-002_BG5_01_29911.mzXML</th>\n",
       "      <td>145</td>\n",
       "    </tr>\n",
       "    <tr>\n",
       "      <th>TW-BT-001_BC11_01_29853.mzXML</th>\n",
       "      <td>175</td>\n",
       "    </tr>\n",
       "    <tr>\n",
       "      <th>TW-CA-002_RC6_01_29817.mzXML</th>\n",
       "      <td>107</td>\n",
       "    </tr>\n",
       "    <tr>\n",
       "      <th>TW-BD-002_BC4_01_29860.mzXML</th>\n",
       "      <td>102</td>\n",
       "    </tr>\n",
       "    <tr>\n",
       "      <th>TW-AV-001_RG2_01_29762.mzXML</th>\n",
       "      <td>286</td>\n",
       "    </tr>\n",
       "  </tbody>\n",
       "</table>\n",
       "</div>"
      ],
      "text/plain": [
       "                               observed_otus\n",
       "TW-CO-002_BG5_01_29911.mzXML             145\n",
       "TW-BT-001_BC11_01_29853.mzXML            175\n",
       "TW-CA-002_RC6_01_29817.mzXML             107\n",
       "TW-BD-002_BC4_01_29860.mzXML             102\n",
       "TW-AV-001_RG2_01_29762.mzXML             286"
      ]
     },
     "execution_count": 119,
     "metadata": {},
     "output_type": "execute_result"
    }
   ],
   "source": [
    "md = pd.read_table('fecal_metadata.tsv',sep='\\t',index_col=0)\n",
    "a_div = pd.read_table('fecal_diversity_analysis/diversity_tables/alpha_obsotus_fecal/alpha-diversity.tsv',\n",
    "                        sep='\\t',index_col=0)\n",
    "a_div.head()"
   ]
  },
  {
   "cell_type": "code",
   "execution_count": 120,
   "metadata": {},
   "outputs": [],
   "source": [
    "# alpha-div\n",
    "a_div['groups'] = [md.loc[idx, 'ATTRIBUTE_groups'] for idx in a_div.index]"
   ]
  },
  {
   "cell_type": "code",
   "execution_count": 121,
   "metadata": {},
   "outputs": [],
   "source": [
    "#saving source data\n",
    "a_div.reset_index().rename(columns={'index':'#SampleID'}).to_csv('./fecal_diversity_analysis/diversity_tables/alpha_obsotus_fecal/source_data_alpha_diversity_fecal_obsotus.csv', \n",
    "                                                                sep=',', index=False)"
   ]
  },
  {
   "cell_type": "code",
   "execution_count": 122,
   "metadata": {},
   "outputs": [
    {
     "data": {
      "text/plain": [
       "G1P    56\n",
       "G1R    40\n",
       "G3R    34\n",
       "G3P    24\n",
       "G2P    18\n",
       "G2R    17\n",
       "Name: groups, dtype: int64"
      ]
     },
     "execution_count": 122,
     "metadata": {},
     "output_type": "execute_result"
    }
   ],
   "source": [
    "a_div.groups.value_counts()"
   ]
  },
  {
   "cell_type": "code",
   "execution_count": 124,
   "metadata": {},
   "outputs": [
    {
     "data": {
      "image/png": "[encoded data removed]",
      "text/plain": [
       "<Figure size 432x288 with 1 Axes>"
      ]
     },
     "metadata": {},
     "output_type": "display_data"
    }
   ],
   "source": [
    "sns.set_style(\"ticks\")\n",
    "sns.set_context(\"notebook\", font_scale=1.2, rc={\"lines.linewidth\": 1.2})\n",
    "fig, ax = plt.subplots()\n",
    "fig = sns.boxplot(y='observed_otus', x='groups', order=['G1P', 'G2P', 'G3P'], data=a_div, \n",
    "           palette={'G1P':'#01AEE8','G2P':'#ffff66','G3P':'#F04D9C'}, ax=ax)\n",
    "ax.set(xlabel='', ylabel=\"Alpha-diversity (Observed OTUs)\")\n",
    "ax.set_xticklabels(['non-NAFLD \\n controls', 'NAFLD \\n without AF', 'NAFLD \\n -cirrhosis'])\n",
    "#ax.set_yticks(np.arange(0, 400, step=50))\n",
    "plt.savefig('fecal_diversity_analysis/figures/adiv_obsotus_fecal_G1PG2PG3P.pdf', bbox_to_inches='tight')"
   ]
  },
  {
   "cell_type": "code",
   "execution_count": 16,
   "metadata": {},
   "outputs": [],
   "source": [
    "ag1 = [a_div.loc[idx, 'observed_otus'] for idx in a_div.index if a_div.loc[idx, 'groups'] == 'G1P']\n",
    "ag2 = [a_div.loc[idx, 'observed_otus'] for idx in a_div.index if a_div.loc[idx, 'groups'] == 'G2P']\n",
    "ag3 = [a_div.loc[idx, 'observed_otus'] for idx in a_div.index if a_div.loc[idx, 'groups'] == 'G3P']"
   ]
  },
  {
   "cell_type": "code",
   "execution_count": 17,
   "metadata": {
    "scrolled": true
   },
   "outputs": [
    {
     "name": "stdout",
     "output_type": "stream",
     "text": [
      "KruskalResult(statistic=2.229357770258815, pvalue=0.13541012207034117)\n",
      "KruskalResult(statistic=1.0340944917353434, pvalue=0.30919892567307905)\n",
      "KruskalResult(statistic=0.27560549480607377, pvalue=0.5995961049030774)\n"
     ]
    }
   ],
   "source": [
    "# kruskal-wallis significance testing\n",
    "print(kruskal(ag1, ag2))\n",
    "print(kruskal(ag2, ag3))\n",
    "print(kruskal(ag1, ag3))"
   ]
  },
  {
   "cell_type": "markdown",
   "metadata": {},
   "source": [
    "For observed OTUs, non-NAFLD patients has the lowest value and NAFLD w/o AF has the highest value. When comparing the groups to one another, the strongest comparison is between non-NAFLD and NAFLD w/o AF (p=0.135). There are no other significance p values between groups. "
   ]
  },
  {
   "cell_type": "markdown",
   "metadata": {},
   "source": [
    "### 1c. plotting trends in alpha diversity (Faiths PD)"
   ]
  },
  {
   "cell_type": "code",
   "execution_count": null,
   "metadata": {},
   "outputs": [],
   "source": []
  },
  {
   "cell_type": "code",
   "execution_count": 125,
   "metadata": {},
   "outputs": [
    {
     "data": {
      "text/html": [
       "<div>\n",
       "<style scoped>\n",
       "    .dataframe tbody tr th:only-of-type {\n",
       "        vertical-align: middle;\n",
       "    }\n",
       "\n",
       "    .dataframe tbody tr th {\n",
       "        vertical-align: top;\n",
       "    }\n",
       "\n",
       "    .dataframe thead th {\n",
       "        text-align: right;\n",
       "    }\n",
       "</style>\n",
       "<table border=\"1\" class=\"dataframe\">\n",
       "  <thead>\n",
       "    <tr style=\"text-align: right;\">\n",
       "      <th></th>\n",
       "      <th>faith_pd</th>\n",
       "    </tr>\n",
       "  </thead>\n",
       "  <tbody>\n",
       "    <tr>\n",
       "      <th>TW-CO-002_BG5_01_29911.mzXML</th>\n",
       "      <td>433.091369</td>\n",
       "    </tr>\n",
       "    <tr>\n",
       "      <th>TW-BT-001_BC11_01_29853.mzXML</th>\n",
       "      <td>508.658320</td>\n",
       "    </tr>\n",
       "    <tr>\n",
       "      <th>TW-CA-002_RC6_01_29817.mzXML</th>\n",
       "      <td>310.143218</td>\n",
       "    </tr>\n",
       "    <tr>\n",
       "      <th>TW-BD-002_BC4_01_29860.mzXML</th>\n",
       "      <td>313.025118</td>\n",
       "    </tr>\n",
       "    <tr>\n",
       "      <th>TW-AV-001_RG2_01_29762.mzXML</th>\n",
       "      <td>727.804168</td>\n",
       "    </tr>\n",
       "  </tbody>\n",
       "</table>\n",
       "</div>"
      ],
      "text/plain": [
       "                                 faith_pd\n",
       "TW-CO-002_BG5_01_29911.mzXML   433.091369\n",
       "TW-BT-001_BC11_01_29853.mzXML  508.658320\n",
       "TW-CA-002_RC6_01_29817.mzXML   310.143218\n",
       "TW-BD-002_BC4_01_29860.mzXML   313.025118\n",
       "TW-AV-001_RG2_01_29762.mzXML   727.804168"
      ]
     },
     "execution_count": 125,
     "metadata": {},
     "output_type": "execute_result"
    }
   ],
   "source": [
    "md = pd.read_table('fecal_metadata.tsv',sep='\\t',index_col=0)\n",
    "a_div = pd.read_table('fecal_diversity_analysis/diversity_tables/alpha_faithpd_fecal/alpha-diversity.tsv',\n",
    "                        sep='\\t',index_col=0)\n",
    "a_div.head()"
   ]
  },
  {
   "cell_type": "code",
   "execution_count": 126,
   "metadata": {},
   "outputs": [],
   "source": [
    "# alpha-div\n",
    "a_div['groups'] = [md.loc[idx, 'ATTRIBUTE_groups'] for idx in a_div.index]"
   ]
  },
  {
   "cell_type": "code",
   "execution_count": 127,
   "metadata": {},
   "outputs": [],
   "source": [
    "#saving source data\n",
    "a_div.reset_index().rename(columns={'index':'#SampleID'}).to_csv('./fecal_diversity_analysis/diversity_tables/alpha_faithpd_fecal/source_data_alpha_diversity_fecal_faithpd.csv', \n",
    "                                                                sep=',', index=False)"
   ]
  },
  {
   "cell_type": "code",
   "execution_count": 128,
   "metadata": {},
   "outputs": [
    {
     "data": {
      "text/plain": [
       "G1P    56\n",
       "G1R    40\n",
       "G3R    34\n",
       "G3P    24\n",
       "G2P    18\n",
       "G2R    17\n",
       "Name: groups, dtype: int64"
      ]
     },
     "execution_count": 128,
     "metadata": {},
     "output_type": "execute_result"
    }
   ],
   "source": [
    "a_div.groups.value_counts()"
   ]
  },
  {
   "cell_type": "code",
   "execution_count": 129,
   "metadata": {},
   "outputs": [
    {
     "data": {
      "image/png": "[encoded data removed]",
      "text/plain": [
       "<Figure size 432x288 with 1 Axes>"
      ]
     },
     "metadata": {},
     "output_type": "display_data"
    }
   ],
   "source": [
    "sns.set_style(\"ticks\")\n",
    "sns.set_context(\"notebook\", font_scale=1.2, rc={\"lines.linewidth\": 1.2})\n",
    "fig, ax = plt.subplots()\n",
    "fig = sns.boxplot(y='faith_pd', x='groups', order=['G1P', 'G2P', 'G3P'], data=a_div, \n",
    "           palette={'G1P':'#01AEE8','G2P':'#ffff66','G3P':'#F04D9C'}, ax=ax)\n",
    "ax.set(xlabel='', ylabel=\"Alpha-diversity (Faith's PD)\")\n",
    "ax.set_xticklabels(['non-NAFLD \\n controls', 'NAFLD \\n without AF', 'NAFLD \\n -cirrhosis'])\n",
    "#ax.set_yticks(np.arange(0, 900, step=200))\n",
    "plt.savefig('fecal_diversity_analysis/figures/adiv_faithpd_fecal_G1PG2PG3P.pdf', bbox_to_inches='tight')"
   ]
  },
  {
   "cell_type": "code",
   "execution_count": 138,
   "metadata": {},
   "outputs": [],
   "source": [
    "ag1 = [a_div.loc[idx, 'faith_pd'] for idx in a_div.index if a_div.loc[idx, 'groups'] == 'G1P']\n",
    "ag2 = [a_div.loc[idx, 'faith_pd'] for idx in a_div.index if a_div.loc[idx, 'groups'] == 'G2P']\n",
    "ag3 = [a_div.loc[idx, 'faith_pd'] for idx in a_div.index if a_div.loc[idx, 'groups'] == 'G3P']"
   ]
  },
  {
   "cell_type": "code",
   "execution_count": 139,
   "metadata": {
    "scrolled": true
   },
   "outputs": [
    {
     "name": "stdout",
     "output_type": "stream",
     "text": [
      "KruskalResult(statistic=2.4014285714285677, pvalue=0.12122450301291719)\n",
      "KruskalResult(statistic=0.7913436692506366, pvalue=0.3736941384579918)\n",
      "KruskalResult(statistic=0.5714285714285552, pvalue=0.44969179796889724)\n"
     ]
    }
   ],
   "source": [
    "# kruskal-wallis significance testing\n",
    "print(kruskal(ag1, ag2))\n",
    "print(kruskal(ag2, ag3))\n",
    "print(kruskal(ag1, ag3))"
   ]
  },
  {
   "cell_type": "markdown",
   "metadata": {},
   "source": [
    "For Faith's phylogenetic diversity, we see the similar trend of the non-NAFLD group having the lowest scores and the NAFLD w/o AF having the highest mean. When comparing groups to one another the closest comparison that has signficiance is G1P Vs G2P (p=0.12)"
   ]
  },
  {
   "cell_type": "markdown",
   "metadata": {},
   "source": [
    "## 2. Calculating beta diversity"
   ]
  },
  {
   "cell_type": "markdown",
   "metadata": {},
   "source": [
    "For beta diversity metrics, I will be using Bray-curtis, aichinson, unweighted unifrac and weighted unifrac. I will use the same feature table (fecal-feature-table-hashed.qza) and the same tree (fecal-qemistree.qza) as for the alpha diversity calculations."
   ]
  },
  {
   "cell_type": "code",
   "execution_count": 140,
   "metadata": {},
   "outputs": [
    {
     "name": "stdout",
     "output_type": "stream",
     "text": [
      "\u001b[32mSaved DistanceMatrix to: fecal_diversity_analysis/diversity_tables/beta_braycurtis_fecal.qza\u001b[0m\r\n"
     ]
    }
   ],
   "source": [
    "#The beta diversity using 'bray curtis'  \n",
    "! qiime diversity beta \\\n",
    "--i-table fecal_diversity_analysis/fecal-feature-table-hashed_drop.qza \\\n",
    "--p-metric braycurtis \\\n",
    "--o-distance-matrix fecal_diversity_analysis/diversity_tables/beta_braycurtis_fecal.qza"
   ]
  },
  {
   "cell_type": "code",
   "execution_count": 141,
   "metadata": {},
   "outputs": [
    {
     "name": "stdout",
     "output_type": "stream",
     "text": [
      "\u001b[32mExported fecal_diversity_analysis/diversity_tables/beta_braycurtis_fecal.qza as DistanceMatrixDirectoryFormat to directory fecal_diversity_analysis/diversity_tables/beta_braycurtis_fecal\u001b[0m\r\n"
     ]
    }
   ],
   "source": [
    "! qiime tools export \\\n",
    "--input-path fecal_diversity_analysis/diversity_tables/beta_braycurtis_fecal.qza \\\n",
    "--output-path fecal_diversity_analysis/diversity_tables/beta_braycurtis_fecal"
   ]
  },
  {
   "cell_type": "code",
   "execution_count": 142,
   "metadata": {},
   "outputs": [
    {
     "name": "stdout",
     "output_type": "stream",
     "text": [
      "\u001b[32mSaved DistanceMatrix to: fecal_diversity_analysis/diversity_tables/beta_aitchison_fecal.qza\u001b[0m\r\n"
     ]
    }
   ],
   "source": [
    "#The beta diversity using 'aichinson'  \n",
    "! qiime diversity beta \\\n",
    "--i-table fecal_diversity_analysis/fecal-feature-table-hashed_drop.qza \\\n",
    "--p-metric aitchison \\\n",
    "--o-distance-matrix fecal_diversity_analysis/diversity_tables/beta_aitchison_fecal.qza"
   ]
  },
  {
   "cell_type": "code",
   "execution_count": 143,
   "metadata": {},
   "outputs": [
    {
     "name": "stdout",
     "output_type": "stream",
     "text": [
      "\u001b[32mExported fecal_diversity_analysis/diversity_tables/beta_aitchison_fecal.qza as DistanceMatrixDirectoryFormat to directory fecal_diversity_analysis/diversity_tables/beta_aitchison_fecal\u001b[0m\r\n"
     ]
    }
   ],
   "source": [
    "! qiime tools export \\\n",
    "--input-path fecal_diversity_analysis/diversity_tables/beta_aitchison_fecal.qza \\\n",
    "--output-path fecal_diversity_analysis/diversity_tables/beta_aitchison_fecal"
   ]
  },
  {
   "cell_type": "code",
   "execution_count": 144,
   "metadata": {},
   "outputs": [
    {
     "name": "stdout",
     "output_type": "stream",
     "text": [
      "\u001b[32mSaved DistanceMatrix % Properties('phylogenetic') to: fecal_diversity_analysis/diversity_tables/beta_uwunifrac_fecal.qza\u001b[0m\r\n"
     ]
    }
   ],
   "source": [
    "#The beta diversity using unweighted unifrac\n",
    "! qiime diversity beta-phylogenetic \\\n",
    "--i-table fecal_diversity_analysis/fecal-feature-table-hashed_drop.qza \\\n",
    "--i-phylogeny fecal_diversity_analysis/fecal-qemistree.qza \\\n",
    "--p-metric unweighted_unifrac \\\n",
    "--o-distance-matrix fecal_diversity_analysis/diversity_tables/beta_uwunifrac_fecal.qza"
   ]
  },
  {
   "cell_type": "code",
   "execution_count": 145,
   "metadata": {},
   "outputs": [
    {
     "name": "stdout",
     "output_type": "stream",
     "text": [
      "\u001b[32mExported fecal_diversity_analysis/diversity_tables/beta_uwunifrac_fecal.qza as DistanceMatrixDirectoryFormat to directory fecal_diversity_analysis/diversity_tables/beta_uwunifrac_fecal\u001b[0m\r\n"
     ]
    }
   ],
   "source": [
    "! qiime tools export \\\n",
    "--input-path fecal_diversity_analysis/diversity_tables/beta_uwunifrac_fecal.qza \\\n",
    "--output-path fecal_diversity_analysis/diversity_tables/beta_uwunifrac_fecal"
   ]
  },
  {
   "cell_type": "code",
   "execution_count": 146,
   "metadata": {},
   "outputs": [
    {
     "name": "stdout",
     "output_type": "stream",
     "text": [
      "\u001b[32mSaved DistanceMatrix % Properties('phylogenetic') to: fecal_diversity_analysis/diversity_tables/beta_wunifrac_fecal.qza\u001b[0m\r\n"
     ]
    }
   ],
   "source": [
    "#The beta diversity using unweighted unifrac\n",
    "! qiime diversity beta-phylogenetic \\\n",
    "--i-table fecal_diversity_analysis/fecal-feature-table-hashed_drop.qza \\\n",
    "--i-phylogeny fecal_diversity_analysis/fecal-qemistree.qza \\\n",
    "--p-metric weighted_unifrac \\\n",
    "--o-distance-matrix fecal_diversity_analysis/diversity_tables/beta_wunifrac_fecal.qza"
   ]
  },
  {
   "cell_type": "code",
   "execution_count": 147,
   "metadata": {},
   "outputs": [
    {
     "name": "stdout",
     "output_type": "stream",
     "text": [
      "\u001b[32mExported fecal_diversity_analysis/diversity_tables/beta_wunifrac_fecal.qza as DistanceMatrixDirectoryFormat to directory fecal_diversity_analysis/diversity_tables/beta_wunifrac_fecal\u001b[0m\r\n"
     ]
    }
   ],
   "source": [
    "! qiime tools export \\\n",
    "--input-path fecal_diversity_analysis/diversity_tables/beta_wunifrac_fecal.qza \\\n",
    "--output-path fecal_diversity_analysis/diversity_tables/beta_wunifrac_fecal"
   ]
  },
  {
   "cell_type": "code",
   "execution_count": 23,
   "metadata": {},
   "outputs": [],
   "source": [
    "bcdm = ssd.DistanceMatrix.read('fecal_diversity_analysis/diversity_tables/beta_braycurtis_fecal/distance-matrix.tsv')\n",
    "aidm = ssd.DistanceMatrix.read('fecal_diversity_analysis/diversity_tables/beta_aitchison_fecal/distance-matrix.tsv')\n",
    "uwdm = ssd.DistanceMatrix.read('fecal_diversity_analysis/diversity_tables/beta_uwunifrac_fecal/distance-matrix.tsv')\n",
    "wdm = ssd.DistanceMatrix.read('fecal_diversity_analysis/diversity_tables/beta_wunifrac_fecal/distance-matrix.tsv' )\n",
    "sample_arr = (bcdm.ids)"
   ]
  },
  {
   "cell_type": "code",
   "execution_count": 24,
   "metadata": {},
   "outputs": [],
   "source": [
    "# list of samples in each group\n",
    "sg1 = [idx for idx in sample_arr if md.loc[idx, 'ATTRIBUTE_groups'] == 'G1P']\n",
    "sg2 = [idx for idx in sample_arr if md.loc[idx, 'ATTRIBUTE_groups'] == 'G2P']\n",
    "sg3 = [idx for idx in sample_arr if md.loc[idx, 'ATTRIBUTE_groups'] == 'G3P']"
   ]
  },
  {
   "cell_type": "code",
   "execution_count": 25,
   "metadata": {},
   "outputs": [],
   "source": [
    "# all possible pairs in each group\n",
    "pg1 = list(itertools.combinations(sg1, 2))\n",
    "pg2 = list(itertools.combinations(sg2, 2))\n",
    "pg3 = list(itertools.combinations(sg3, 2))"
   ]
  },
  {
   "cell_type": "code",
   "execution_count": 26,
   "metadata": {},
   "outputs": [
    {
     "data": {
      "text/plain": [
       "276"
      ]
     },
     "execution_count": 26,
     "metadata": {},
     "output_type": "execute_result"
    }
   ],
   "source": [
    "len(pg3)"
   ]
  },
  {
   "cell_type": "code",
   "execution_count": 27,
   "metadata": {},
   "outputs": [],
   "source": [
    "# bray curtis distances\n",
    "bcdg1 = [bcdm[pair] for pair in pg1]\n",
    "bcdg2 = [bcdm[pair] for pair in pg2]\n",
    "bcdg3 = [bcdm[pair] for pair in pg3]"
   ]
  },
  {
   "cell_type": "code",
   "execution_count": 28,
   "metadata": {},
   "outputs": [],
   "source": [
    "#aitchison distances\n",
    "aidg1 = [aidm[pair] for pair in pg1]\n",
    "aidg2 = [aidm[pair] for pair in pg2]\n",
    "aidg3 = [aidm[pair] for pair in pg3]"
   ]
  },
  {
   "cell_type": "code",
   "execution_count": 29,
   "metadata": {},
   "outputs": [],
   "source": [
    "#unweighted unifrac distances\n",
    "uwdg1 = [uwdm[pair] for pair in pg1]\n",
    "uwdg2 = [uwdm[pair] for pair in pg2]\n",
    "uwdg3 = [uwdm[pair] for pair in pg3]"
   ]
  },
  {
   "cell_type": "code",
   "execution_count": 30,
   "metadata": {},
   "outputs": [],
   "source": [
    "#weighted unifrac distances\n",
    "wdg1 = [wdm[pair] for pair in pg1]\n",
    "wdg2 = [wdm[pair] for pair in pg2]\n",
    "wdg3 = [wdm[pair] for pair in pg3]"
   ]
  },
  {
   "cell_type": "code",
   "execution_count": 31,
   "metadata": {},
   "outputs": [],
   "source": [
    "#dataframe to plot bdiv\n",
    "pdf = pd.DataFrame(index=pd.MultiIndex.from_tuples(pg1+pg2+pg3), \n",
    "                   columns=['bray_curtis','aitchison', 'unweighted_unifrac','weighted_unifrac','groups'])\n",
    "# assign groups\n",
    "pdf.groups=['G1P']*len(pg1)+['G2P']*len(pg2)+['G3P']*len(pg3)\n",
    "\n",
    "# assign distances\n",
    "pdf.bray_curtis=bcdg1+bcdg2+bcdg3\n",
    "pdf.aitchison=aidg1+aidg2+aidg3\n",
    "pdf.unweighted_unifrac=uwdg1+uwdg2+uwdg3\n",
    "pdf.weighted_unifrac=wdg1+wdg2+wdg3"
   ]
  },
  {
   "cell_type": "code",
   "execution_count": 32,
   "metadata": {},
   "outputs": [],
   "source": [
    "#save source data\n",
    "pdf.to_csv('fecal_diversity_analysis/diversity_tables/source_data_beta_diversity_fecal_bc_ai_uw_w.csv')"
   ]
  },
  {
   "cell_type": "markdown",
   "metadata": {},
   "source": [
    "### 2a. plotting beta diversity trends (braycurtis)"
   ]
  },
  {
   "cell_type": "code",
   "execution_count": null,
   "metadata": {},
   "outputs": [],
   "source": []
  },
  {
   "cell_type": "code",
   "execution_count": 130,
   "metadata": {},
   "outputs": [
    {
     "data": {
      "image/png": "[encoded data removed]",
      "text/plain": [
       "<Figure size 432x288 with 1 Axes>"
      ]
     },
     "metadata": {},
     "output_type": "display_data"
    }
   ],
   "source": [
    "sns.set_style(\"ticks\")\n",
    "sns.set_context(\"notebook\", font_scale=1.2, rc={\"lines.linewidth\": 1.2})\n",
    "fig, ax = plt.subplots()\n",
    "fig = sns.boxplot(y='bray_curtis', x='groups', order=['G1P', 'G2P', 'G3P'], data=pdf, \n",
    "           palette={'G1P':'#01AEE8','G2P':'#ffff66','G3P':'#F04D9C'}, ax=ax)\n",
    "ax.set(xlabel='', ylabel=\"Beta-diversity (Bray Curtis)\")\n",
    "ax.set_xticklabels(['non-NAFLD \\n controls', 'NAFLD \\n without AF', 'NAFLD \\n -cirrhosis'])\n",
    "#ax.set_yticks(np.arange(0, 1.1, step=0.2))\n",
    "plt.savefig('fecal_diversity_analysis/figures/bdiv_braycurtis_fecal_G1PG2PG3P.pdf', bbox_to_inches='tight')"
   ]
  },
  {
   "cell_type": "code",
   "execution_count": 181,
   "metadata": {},
   "outputs": [
    {
     "name": "stdout",
     "output_type": "stream",
     "text": [
      "KruskalResult(statistic=1.2042755795027915, pvalue=0.2724687993041814)\n",
      "KruskalResult(statistic=0.41558384054656017, pvalue=0.5191488880830784)\n",
      "KruskalResult(statistic=5.229160211902126, pvalue=0.022211253957845373)\n"
     ]
    }
   ],
   "source": [
    "bg1 = [pdf.loc[idx, 'bray_curtis'] for idx in pdf.index if pdf.loc[idx, 'groups'] == 'G1P']\n",
    "bg2 = [pdf.loc[idx, 'bray_curtis'] for idx in pdf.index if pdf.loc[idx, 'groups'] == 'G2P']\n",
    "bg3 = [pdf.loc[idx, 'bray_curtis'] for idx in pdf.index if pdf.loc[idx, 'groups'] == 'G3P']\n",
    "\n",
    "print(kruskal(bg1, bg2))\n",
    "print(kruskal(bg2, bg3))\n",
    "print(kruskal(bg1, bg3))"
   ]
  },
  {
   "cell_type": "markdown",
   "metadata": {},
   "source": [
    "From the bray curtis results we see a decrease in beta diversity following an increase in disease state. That is the non-NAFLD patients have the highest mean and the NAFLD-cirrhosis has the lowest. When comparing each group to one another, there are no significant differences. The most significant is the comparison between non-NAFLD patients and NAFLD-cirrhosis (p=0.22)"
   ]
  },
  {
   "cell_type": "markdown",
   "metadata": {},
   "source": [
    "### 2b. plotting beta diversity trends (Aitchison)"
   ]
  },
  {
   "cell_type": "code",
   "execution_count": 131,
   "metadata": {},
   "outputs": [
    {
     "data": {
      "image/png": "[encoded data removed]",
      "text/plain": [
       "<Figure size 432x288 with 1 Axes>"
      ]
     },
     "metadata": {},
     "output_type": "display_data"
    }
   ],
   "source": [
    "sns.set_style(\"ticks\")\n",
    "sns.set_context(\"notebook\", font_scale=1.2, rc={\"lines.linewidth\": 1.2})\n",
    "fig, ax = plt.subplots()\n",
    "sns.boxplot(y='aitchison', x='groups', order=['G1P', 'G2P', 'G3P'], data=pdf, \n",
    "           palette={'G1P':'#01AEE8','G2P':'#ffff66','G3P':'#F04D9C'}, ax=ax)\n",
    "ax.set(xlabel='', ylabel=\"Beta-diversity (Aitchison)\")\n",
    "ax.set_xticklabels(['non-NAFLD \\n controls', 'NAFLD \\n without AF', 'NAFLD \\n -cirrhosis'])\n",
    "ax.set_yticks(np.arange(0, 250, step=50),minor = True)\n",
    "plt.savefig('fecal_diversity_analysis/figures/bdiv_aitchison_fecal_G1PG2PG3P.pdf', bbox_to_inches='tight')"
   ]
  },
  {
   "cell_type": "code",
   "execution_count": 192,
   "metadata": {},
   "outputs": [
    {
     "name": "stdout",
     "output_type": "stream",
     "text": [
      "KruskalResult(statistic=48.87127274651357, pvalue=2.7332482434217558e-12)\n",
      "KruskalResult(statistic=31.317998638619656, pvalue=2.1903953040630497e-08)\n",
      "KruskalResult(statistic=1.4770858822203081, pvalue=0.22423102023825395)\n",
      "117.5488388690708\n",
      "120.79176903694442\n"
     ]
    }
   ],
   "source": [
    "bg1 = [pdf.loc[idx, 'aitchison'] for idx in pdf.index if pdf.loc[idx, 'groups'] == 'G1P']\n",
    "bg2 = [pdf.loc[idx, 'aitchison'] for idx in pdf.index if pdf.loc[idx, 'groups'] == 'G2P']\n",
    "bg3 = [pdf.loc[idx, 'aitchison'] for idx in pdf.index if pdf.loc[idx, 'groups'] == 'G3P']\n",
    "\n",
    "print(kruskal(bg1, bg2))\n",
    "print(kruskal(bg2, bg3))\n",
    "print(kruskal(bg1, bg3))\n",
    "print(sum(bg1)/len(bg1))\n",
    "print(sum(bg3)/len(bg3))"
   ]
  },
  {
   "cell_type": "markdown",
   "metadata": {},
   "source": [
    "The results from the Aitchison metrics show NAFLD w/o AF having the highest mean and NAFLD-cirrhosis being slightly below non-NAFLD patients. When comparing the groups to one another, we see that both non-NAFLD and NAFLD-cirrhosis are significantly different from NAFLD w/o AF (p<0.001)."
   ]
  },
  {
   "cell_type": "markdown",
   "metadata": {},
   "source": [
    "### 2c. plotting beta diversity trends (Unweighted Unifrac)"
   ]
  },
  {
   "cell_type": "code",
   "execution_count": 133,
   "metadata": {},
   "outputs": [
    {
     "data": {
      "image/png": "[encoded data removed]",
      "text/plain": [
       "<Figure size 432x288 with 1 Axes>"
      ]
     },
     "metadata": {},
     "output_type": "display_data"
    }
   ],
   "source": [
    "sns.set_style(\"ticks\")\n",
    "sns.set_context(\"notebook\", font_scale=1.2, rc={\"lines.linewidth\": 1.2})\n",
    "fig, ax = plt.subplots()\n",
    "sns.boxplot(y='unweighted_unifrac', x='groups', order=['G1P', 'G2P', 'G3P'], data=pdf, \n",
    "           palette={'G1P':'#01AEE8','G2P':'#ffff66','G3P':'#F04D9C'}, ax=ax)\n",
    "ax.set(xlabel='', ylabel=\"Beta-diversity (Unweighted UniFrac)\")\n",
    "ax.set_xticklabels(['non-NAFLD \\n controls', 'NAFLD \\n without AF', 'NAFLD \\n -cirrhosis'])\n",
    "ax.set_yticks(np.arange(0.3, 1.1, step=0.1))\n",
    "plt.savefig('fecal_diversity_analysis/figures/bdiv_unwunifrac_fecal_G1PG2PG3P.pdf', bbox_to_inches='tight')"
   ]
  },
  {
   "cell_type": "code",
   "execution_count": 185,
   "metadata": {},
   "outputs": [
    {
     "name": "stdout",
     "output_type": "stream",
     "text": [
      "KruskalResult(statistic=11.443799157528701, pvalue=0.0007173297571772867)\n",
      "KruskalResult(statistic=0.8201299259169446, pvalue=0.36514218129090914)\n",
      "KruskalResult(statistic=26.054522411617654, pvalue=3.319104896329202e-07)\n"
     ]
    }
   ],
   "source": [
    "bg1 = [pdf.loc[idx, 'unweighted_unifrac'] for idx in pdf.index if pdf.loc[idx, 'groups'] == 'G1P']\n",
    "bg2 = [pdf.loc[idx, 'unweighted_unifrac'] for idx in pdf.index if pdf.loc[idx, 'groups'] == 'G2P']\n",
    "bg3 = [pdf.loc[idx, 'unweighted_unifrac'] for idx in pdf.index if pdf.loc[idx, 'groups'] == 'G3P']\n",
    "\n",
    "print(kruskal(bg1, bg2))\n",
    "print(kruskal(bg2, bg3))\n",
    "print(kruskal(bg1, bg3))"
   ]
  },
  {
   "cell_type": "markdown",
   "metadata": {},
   "source": [
    "For unweighted unifrac we again see the decreasing beta diversity as disease state increases. When comparing the groups to one another there is a significant difference between non-NAFLD and NAFLD w/o AF (p<0.001). There was also a significant difference between non-NAFLD and NAFLD-cirrhosis (p<0.001)"
   ]
  },
  {
   "cell_type": "markdown",
   "metadata": {},
   "source": [
    "### 2d. plotting beta diversity trends (Weighted Unifrac)"
   ]
  },
  {
   "cell_type": "code",
   "execution_count": 137,
   "metadata": {},
   "outputs": [
    {
     "data": {
      "image/png": "[encoded data removed]",
      "text/plain": [
       "<Figure size 432x288 with 1 Axes>"
      ]
     },
     "metadata": {},
     "output_type": "display_data"
    }
   ],
   "source": [
    "sns.set_style(\"ticks\")\n",
    "sns.set_context(\"notebook\", font_scale=1.2, rc={\"lines.linewidth\": 1.2})\n",
    "fig, ax = plt.subplots()\n",
    "sns.boxplot(y='weighted_unifrac', x='groups', order=['G1P', 'G2P', 'G3P'], data=pdf, \n",
    "           palette={'G1P':'#01AEE8','G2P':'#ffff66','G3P':'#F04D9C'}, ax=ax)\n",
    "ax.set(xlabel='', ylabel=\"Beta-diversity (Weighted UniFrac)\")\n",
    "ax.set_xticklabels(['non-NAFLD \\n controls', 'NAFLD \\n without AF', 'NAFLD \\n -cirrhosis'])\n",
    "ax.set_yticks(np.arange(2, 13, step=2))\n",
    "plt.savefig('fecal_diversity_analysis/figures/bdiv_wunifrac_fecal_G1PG2PG3P.pdf', bbox_to_inches='tight')"
   ]
  },
  {
   "cell_type": "code",
   "execution_count": 193,
   "metadata": {},
   "outputs": [
    {
     "name": "stdout",
     "output_type": "stream",
     "text": [
      "KruskalResult(statistic=0.08495542469427164, pvalue=0.7706910140770361)\n",
      "KruskalResult(statistic=1.011234031866934, pvalue=0.3146073845984637)\n",
      "KruskalResult(statistic=3.9326226798966673, pvalue=0.04735803260367654)\n",
      "7.180684033808585\n",
      "7.373760270210415\n"
     ]
    }
   ],
   "source": [
    "bg1 = [pdf.loc[idx, 'weighted_unifrac'] for idx in pdf.index if pdf.loc[idx, 'groups'] == 'G1P']\n",
    "bg2 = [pdf.loc[idx, 'weighted_unifrac'] for idx in pdf.index if pdf.loc[idx, 'groups'] == 'G2P']\n",
    "bg3 = [pdf.loc[idx, 'weighted_unifrac'] for idx in pdf.index if pdf.loc[idx, 'groups'] == 'G3P']\n",
    "\n",
    "print(kruskal(bg1, bg2))\n",
    "print(kruskal(bg2, bg3))\n",
    "print(kruskal(bg1, bg3))\n",
    "print(sum(bg1)/len(bg1))\n",
    "print(sum(bg3)/len(bg3))"
   ]
  },
  {
   "cell_type": "markdown",
   "metadata": {},
   "source": [
    "When measuring beta diversity using weighted unifrac, non-NAFLD has the lowest mean and the NAFLD w/o AF has the highest mean. When comparing groups, the only comparison with significant difference is between non-NAFLD and NAFLD-cirrhosis (p<0.05)"
   ]
  },
  {
   "cell_type": "markdown",
   "metadata": {},
   "source": [
    "## Future Directions\n",
    "For the most part this analysis is done. All the important diversity metrics were used, so now it is just a matter of choosing the important ones. Will also have to compare these results to the diversity analysis of the fecal microbiome and the serum metabolome."
   ]
  },
  {
   "cell_type": "code",
   "execution_count": null,
   "metadata": {},
   "outputs": [],
   "source": []
  }
 ],
 "metadata": {
  "kernelspec": {
   "display_name": "Python 3",
   "language": "python",
   "name": "python3"
  },
  "language_info": {
   "codemirror_mode": {
    "name": "ipython",
    "version": 3
   },
   "file_extension": ".py",
   "mimetype": "text/x-python",
   "name": "python",
   "nbconvert_exporter": "python",
   "pygments_lexer": "ipython3",
   "version": "3.6.7"
  }
 },
 "nbformat": 4,
 "nbformat_minor": 2
}
